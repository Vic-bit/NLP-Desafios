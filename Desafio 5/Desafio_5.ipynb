{
 "cells": [
  {
   "cell_type": "markdown",
   "metadata": {
    "id": "G63Jpt-wYcJ3"
   },
   "source": [
    "<img src=\"https://github.com/hernancontigiani/ceia_memorias_especializacion/raw/master/Figures/logoFIUBA.jpg\" width=\"500\" align=\"center\">\n",
    "\n",
    "\n",
    "# Procesamiento de lenguaje natural\n",
    "## Bert Sentiment Analysis\n",
    "[Ejemplo similar en Pytorch](https://colab.research.google.com/drive/1PHv-IRLPCtv7oTcIGbsgZHqrB5LPvB7S#scrollTo=m_mRflxPl32F)"
   ]
  },
  {
   "cell_type": "markdown",
   "metadata": {},
   "source": [
    "### Datos del alumno:\n",
    "\n",
    "- Alumno: Víctor David Silva\n",
    "- Cohorte: 14"
   ]
  },
  {
   "cell_type": "code",
   "execution_count": 1,
   "metadata": {},
   "outputs": [
    {
     "name": "stdout",
     "output_type": "stream",
     "text": [
      "TensorFlow has access to the following devices:\n",
      "[PhysicalDevice(name='/physical_device:CPU:0', device_type='CPU'), PhysicalDevice(name='/physical_device:GPU:0', device_type='GPU')]\n",
      "TensorFlow version: 2.13.0\n"
     ]
    }
   ],
   "source": [
    "import tensorflow as tf\n",
    "\n",
    "# Check for TensorFlow GPU access\n",
    "print(f\"TensorFlow has access to the following devices:\\n{tf.config.list_physical_devices()}\")\n",
    "\n",
    "# See TensorFlow version\n",
    "print(f\"TensorFlow version: {tf.__version__}\")"
   ]
  },
  {
   "cell_type": "code",
   "execution_count": 2,
   "metadata": {
    "id": "rcPiEBdt8NqM"
   },
   "outputs": [],
   "source": [
    "!pip install transformers --quiet"
   ]
  },
  {
   "cell_type": "code",
   "execution_count": 3,
   "metadata": {},
   "outputs": [],
   "source": [
    "import tensorflow\n",
    "from transformers import TFBertModel\n",
    "import seaborn as sns\n",
    "import matplotlib.pyplot as plt\n",
    "import numpy as np\n",
    "import pandas as pd"
   ]
  },
  {
   "cell_type": "markdown",
   "metadata": {},
   "source": [
    "# Modelo 1 (base): \n",
    "\n",
    "- 3 clases\n",
    "- 1 capa lineal"
   ]
  },
  {
   "cell_type": "markdown",
   "metadata": {},
   "source": [
    "### Definiendo modelo"
   ]
  },
  {
   "cell_type": "code",
   "execution_count": 4,
   "metadata": {},
   "outputs": [
    {
     "name": "stderr",
     "output_type": "stream",
     "text": [
      "2024-09-01 23:32:35.176699: I metal_plugin/src/device/metal_device.cc:1154] Metal device set to: Apple M1\n",
      "2024-09-01 23:32:35.176734: I metal_plugin/src/device/metal_device.cc:296] systemMemory: 16.00 GB\n",
      "2024-09-01 23:32:35.176744: I metal_plugin/src/device/metal_device.cc:313] maxCacheSize: 5.33 GB\n",
      "2024-09-01 23:32:35.176831: I tensorflow/core/common_runtime/pluggable_device/pluggable_device_factory.cc:303] Could not identify NUMA node of platform GPU ID 0, defaulting to 0. Your kernel may not have been built with NUMA support.\n",
      "2024-09-01 23:32:35.177092: I tensorflow/core/common_runtime/pluggable_device/pluggable_device_factory.cc:269] Created TensorFlow device (/job:localhost/replica:0/task:0/device:GPU:0 with 0 MB memory) -> physical PluggableDevice (device: 0, name: METAL, pci bus id: <undefined>)\n",
      "Some weights of the PyTorch model were not used when initializing the TF 2.0 model TFBertModel: ['cls.predictions.bias', 'cls.seq_relationship.bias', 'cls.predictions.transform.LayerNorm.bias', 'cls.predictions.transform.LayerNorm.weight', 'cls.predictions.transform.dense.weight', 'cls.seq_relationship.weight', 'cls.predictions.transform.dense.bias']\n",
      "- This IS expected if you are initializing TFBertModel from a PyTorch model trained on another task or with another architecture (e.g. initializing a TFBertForSequenceClassification model from a BertForPreTraining model).\n",
      "- This IS NOT expected if you are initializing TFBertModel from a PyTorch model that you expect to be exactly identical (e.g. initializing a TFBertForSequenceClassification model from a BertForSequenceClassification model).\n",
      "All the weights of TFBertModel were initialized from the PyTorch model.\n",
      "If your task is similar to the task the model of the checkpoint was trained on, you can already use TFBertModel for predictions without further training.\n"
     ]
    }
   ],
   "source": [
    "# Usamos bert en inglés porque el dataset es en inglés, usamos el modelo base de BERT\n",
    "bert_model = TFBertModel.from_pretrained(\"bert-base-uncased\")"
   ]
  },
  {
   "cell_type": "code",
   "execution_count": 5,
   "metadata": {},
   "outputs": [],
   "source": [
    "max_length = 140"
   ]
  },
  {
   "cell_type": "code",
   "execution_count": 6,
   "metadata": {},
   "outputs": [],
   "source": [
    "# Vamos a clasificar en 3 clases\n",
    "output_shape = 3\n",
    "\n",
    "bert_model.bert.trainable = False # bert_model está empaquetado, pero se pueden acceder a algunos atributos. Por default está en TRUE\n",
    "\n",
    "# Se definen las 2 capas de entrada de BERT\n",
    "input_ids = tensorflow.keras.layers.Input(shape=(max_length,), dtype=tensorflow.int32, name='input_ids')\n",
    "attention_mask = tensorflow.keras.layers.Input(shape=(max_length,), dtype=tensorflow.int32, name='attention_mask')\n",
    "\n",
    "\n",
    "outputs = bert_model(input_ids, attention_mask=attention_mask)\n",
    "\n",
    "# Usamos el condensado de toda la secuencia que armo BERT\n",
    "pooled_output = outputs.pooler_output\n",
    "\n",
    "# Pasamos por una capa de Dropout\n",
    "x = tensorflow.keras.layers.Dropout(0.2)(pooled_output)\n",
    "output = tensorflow.keras.layers.Dense(output_shape, activation='softmax')(x)\n",
    "\n",
    "# Todo el modelo va a ser lo que entra por input_ids y lo que sale por outputs\n",
    "model1 = tensorflow.keras.Model(inputs=[input_ids, attention_mask], outputs=output)\n",
    "\n",
    "model1.compile(optimizer='adam',\n",
    "              loss='categorical_crossentropy',\n",
    "              metrics=['accuracy',tensorflow.keras.metrics.F1Score(average='macro')])"
   ]
  },
  {
   "cell_type": "code",
   "execution_count": 7,
   "metadata": {},
   "outputs": [
    {
     "name": "stdout",
     "output_type": "stream",
     "text": [
      "Model: \"model\"\n",
      "__________________________________________________________________________________________________\n",
      " Layer (type)                Output Shape                 Param #   Connected to                  \n",
      "==================================================================================================\n",
      " input_ids (InputLayer)      [(None, 140)]                0         []                            \n",
      "                                                                                                  \n",
      " attention_mask (InputLayer  [(None, 140)]                0         []                            \n",
      " )                                                                                                \n",
      "                                                                                                  \n",
      " tf_bert_model (TFBertModel  TFBaseModelOutputWithPooli   1094822   ['input_ids[0][0]',           \n",
      " )                           ngAndCrossAttentions(last_   40         'attention_mask[0][0]']      \n",
      "                             hidden_state=(None, 140, 7                                           \n",
      "                             68),                                                                 \n",
      "                              pooler_output=(None, 768)                                           \n",
      "                             , past_key_values=None, hi                                           \n",
      "                             dden_states=None, attentio                                           \n",
      "                             ns=None, cross_attentions=                                           \n",
      "                             None)                                                                \n",
      "                                                                                                  \n",
      " dropout_37 (Dropout)        (None, 768)                  0         ['tf_bert_model[0][1]']       \n",
      "                                                                                                  \n",
      " dense (Dense)               (None, 3)                    2307      ['dropout_37[0][0]']          \n",
      "                                                                                                  \n",
      "==================================================================================================\n",
      "Total params: 109484547 (417.65 MB)\n",
      "Trainable params: 2307 (9.01 KB)\n",
      "Non-trainable params: 109482240 (417.64 MB)\n",
      "__________________________________________________________________________________________________\n"
     ]
    }
   ],
   "source": [
    "model1.summary()"
   ]
  },
  {
   "cell_type": "code",
   "execution_count": 8,
   "metadata": {
    "id": "cjQ7q6N7CL_J"
   },
   "outputs": [],
   "source": [
    "def plot_train_metrics(history):\n",
    "    epoch_count = range(1, len(history.history['accuracy']) + 1)\n",
    "    sns.lineplot(x=epoch_count,  y=history.history['accuracy'], label='train')\n",
    "    sns.lineplot(x=epoch_count,  y=history.history['val_accuracy'], label='valid')\n",
    "    plt.show()"
   ]
  },
  {
   "cell_type": "markdown",
   "metadata": {
    "id": "hU2-H3K1YzJ8"
   },
   "source": [
    "### Datos\n",
    "Utilizaremos como dataset críticas de Google Apps en formato csv."
   ]
  },
  {
   "cell_type": "code",
   "execution_count": 9,
   "metadata": {
    "colab": {
     "base_uri": "https://localhost:8080/"
    },
    "id": "QBjUqdvpvLUG",
    "outputId": "c75a83f5-669b-4f3f-fb2c-5eb507d36e40"
   },
   "outputs": [
    {
     "name": "stdout",
     "output_type": "stream",
     "text": [
      "  % Total    % Received % Xferd  Average Speed   Time    Time     Time  Current\n",
      "                                 Dload  Upload   Total   Spent    Left  Speed\n",
      "  0     0    0     0    0     0      0      0 --:--:-- --:--:-- --:--:--     0\n",
      "  0     0    0     0    0     0      0      0 --:--:-- --:--:-- --:--:--     0\n",
      "100  131k  100  131k    0     0  45270      0  0:00:02  0:00:02 --:--:--  102k\n",
      "  % Total    % Received % Xferd  Average Speed   Time    Time     Time  Current\n",
      "                                 Dload  Upload   Total   Spent    Left  Speed\n",
      "  0     0    0     0    0     0      0      0 --:--:-- --:--:-- --:--:--     0\n",
      "  0     0    0     0    0     0      0      0 --:--:-- --:--:-- --:--:--     0\n",
      "100 7002k  100 7002k    0     0   440k      0  0:00:15  0:00:15 --:--:-- 2181k\n"
     ]
    }
   ],
   "source": [
    "# Descargar la carpeta de dataset\n",
    "!curl -L -o 'apps.csv' 'https://drive.google.com/u/0/uc?id=1S6qMioqPJjyBLpLVz4gmRTnJHnjitnuV&export=download&confirm=t'\n",
    "!curl -L -o 'reviews.csv' 'https://drive.google.com/u/0/uc?id=1zdmewp7ayS4js4VtrJEHzAheSW-5NBZv&export=download&confirm=t'"
   ]
  },
  {
   "cell_type": "code",
   "execution_count": 10,
   "metadata": {
    "colab": {
     "base_uri": "https://localhost:8080/",
     "height": 687
    },
    "id": "KPlBX0wV8gv9",
    "outputId": "c144beec-9c58-4b6d-9b85-bc46de6d383e"
   },
   "outputs": [
    {
     "data": {
      "text/html": [
       "<div>\n",
       "<style scoped>\n",
       "    .dataframe tbody tr th:only-of-type {\n",
       "        vertical-align: middle;\n",
       "    }\n",
       "\n",
       "    .dataframe tbody tr th {\n",
       "        vertical-align: top;\n",
       "    }\n",
       "\n",
       "    .dataframe thead th {\n",
       "        text-align: right;\n",
       "    }\n",
       "</style>\n",
       "<table border=\"1\" class=\"dataframe\">\n",
       "  <thead>\n",
       "    <tr style=\"text-align: right;\">\n",
       "      <th></th>\n",
       "      <th>userName</th>\n",
       "      <th>userImage</th>\n",
       "      <th>content</th>\n",
       "      <th>score</th>\n",
       "      <th>thumbsUpCount</th>\n",
       "      <th>reviewCreatedVersion</th>\n",
       "      <th>at</th>\n",
       "      <th>replyContent</th>\n",
       "      <th>repliedAt</th>\n",
       "      <th>sortOrder</th>\n",
       "      <th>appId</th>\n",
       "    </tr>\n",
       "  </thead>\n",
       "  <tbody>\n",
       "    <tr>\n",
       "      <th>0</th>\n",
       "      <td>Andrew Thomas</td>\n",
       "      <td>https://lh3.googleusercontent.com/a-/AOh14GiHd...</td>\n",
       "      <td>Update: After getting a response from the deve...</td>\n",
       "      <td>1</td>\n",
       "      <td>21</td>\n",
       "      <td>4.17.0.3</td>\n",
       "      <td>2020-04-05 22:25:57</td>\n",
       "      <td>According to our TOS, and the term you have ag...</td>\n",
       "      <td>2020-04-05 15:10:24</td>\n",
       "      <td>most_relevant</td>\n",
       "      <td>com.anydo</td>\n",
       "    </tr>\n",
       "    <tr>\n",
       "      <th>1</th>\n",
       "      <td>Craig Haines</td>\n",
       "      <td>https://lh3.googleusercontent.com/-hoe0kwSJgPQ...</td>\n",
       "      <td>Used it for a fair amount of time without any ...</td>\n",
       "      <td>1</td>\n",
       "      <td>11</td>\n",
       "      <td>4.17.0.3</td>\n",
       "      <td>2020-04-04 13:40:01</td>\n",
       "      <td>It sounds like you logged in with a different ...</td>\n",
       "      <td>2020-04-05 15:11:35</td>\n",
       "      <td>most_relevant</td>\n",
       "      <td>com.anydo</td>\n",
       "    </tr>\n",
       "    <tr>\n",
       "      <th>2</th>\n",
       "      <td>steven adkins</td>\n",
       "      <td>https://lh3.googleusercontent.com/a-/AOh14GiXw...</td>\n",
       "      <td>Your app sucks now!!!!! Used to be good but no...</td>\n",
       "      <td>1</td>\n",
       "      <td>17</td>\n",
       "      <td>4.17.0.3</td>\n",
       "      <td>2020-04-01 16:18:13</td>\n",
       "      <td>This sounds odd! We are not aware of any issue...</td>\n",
       "      <td>2020-04-02 16:05:56</td>\n",
       "      <td>most_relevant</td>\n",
       "      <td>com.anydo</td>\n",
       "    </tr>\n",
       "    <tr>\n",
       "      <th>3</th>\n",
       "      <td>Lars Panzerbjørn</td>\n",
       "      <td>https://lh3.googleusercontent.com/a-/AOh14Gg-h...</td>\n",
       "      <td>It seems OK, but very basic. Recurring tasks n...</td>\n",
       "      <td>1</td>\n",
       "      <td>192</td>\n",
       "      <td>4.17.0.2</td>\n",
       "      <td>2020-03-12 08:17:34</td>\n",
       "      <td>We do offer this option as part of the Advance...</td>\n",
       "      <td>2020-03-15 06:20:13</td>\n",
       "      <td>most_relevant</td>\n",
       "      <td>com.anydo</td>\n",
       "    </tr>\n",
       "    <tr>\n",
       "      <th>4</th>\n",
       "      <td>Scott Prewitt</td>\n",
       "      <td>https://lh3.googleusercontent.com/-K-X1-YsVd6U...</td>\n",
       "      <td>Absolutely worthless. This app runs a prohibit...</td>\n",
       "      <td>1</td>\n",
       "      <td>42</td>\n",
       "      <td>4.17.0.2</td>\n",
       "      <td>2020-03-14 17:41:01</td>\n",
       "      <td>We're sorry you feel this way! 90% of the app ...</td>\n",
       "      <td>2020-03-15 23:45:51</td>\n",
       "      <td>most_relevant</td>\n",
       "      <td>com.anydo</td>\n",
       "    </tr>\n",
       "  </tbody>\n",
       "</table>\n",
       "</div>"
      ],
      "text/plain": [
       "           userName                                          userImage  \\\n",
       "0     Andrew Thomas  https://lh3.googleusercontent.com/a-/AOh14GiHd...   \n",
       "1      Craig Haines  https://lh3.googleusercontent.com/-hoe0kwSJgPQ...   \n",
       "2     steven adkins  https://lh3.googleusercontent.com/a-/AOh14GiXw...   \n",
       "3  Lars Panzerbjørn  https://lh3.googleusercontent.com/a-/AOh14Gg-h...   \n",
       "4     Scott Prewitt  https://lh3.googleusercontent.com/-K-X1-YsVd6U...   \n",
       "\n",
       "                                             content  score  thumbsUpCount  \\\n",
       "0  Update: After getting a response from the deve...      1             21   \n",
       "1  Used it for a fair amount of time without any ...      1             11   \n",
       "2  Your app sucks now!!!!! Used to be good but no...      1             17   \n",
       "3  It seems OK, but very basic. Recurring tasks n...      1            192   \n",
       "4  Absolutely worthless. This app runs a prohibit...      1             42   \n",
       "\n",
       "  reviewCreatedVersion                   at  \\\n",
       "0             4.17.0.3  2020-04-05 22:25:57   \n",
       "1             4.17.0.3  2020-04-04 13:40:01   \n",
       "2             4.17.0.3  2020-04-01 16:18:13   \n",
       "3             4.17.0.2  2020-03-12 08:17:34   \n",
       "4             4.17.0.2  2020-03-14 17:41:01   \n",
       "\n",
       "                                        replyContent            repliedAt  \\\n",
       "0  According to our TOS, and the term you have ag...  2020-04-05 15:10:24   \n",
       "1  It sounds like you logged in with a different ...  2020-04-05 15:11:35   \n",
       "2  This sounds odd! We are not aware of any issue...  2020-04-02 16:05:56   \n",
       "3  We do offer this option as part of the Advance...  2020-03-15 06:20:13   \n",
       "4  We're sorry you feel this way! 90% of the app ...  2020-03-15 23:45:51   \n",
       "\n",
       "       sortOrder      appId  \n",
       "0  most_relevant  com.anydo  \n",
       "1  most_relevant  com.anydo  \n",
       "2  most_relevant  com.anydo  \n",
       "3  most_relevant  com.anydo  \n",
       "4  most_relevant  com.anydo  "
      ]
     },
     "execution_count": 10,
     "metadata": {},
     "output_type": "execute_result"
    }
   ],
   "source": [
    "import pandas as pd\n",
    "# Armar el dataset\n",
    "df = pd.read_csv('reviews.csv')\n",
    "df.head()\n",
    "\n",
    "# Solo nos vamos a quedar con el texto de la review."
   ]
  },
  {
   "cell_type": "code",
   "execution_count": 11,
   "metadata": {
    "colab": {
     "base_uri": "https://localhost:8080/"
    },
    "id": "loFa9OgIROfi",
    "outputId": "2f1e4089-4956-40ad-a9b7-a126df74d0f0"
   },
   "outputs": [
    {
     "name": "stdout",
     "output_type": "stream",
     "text": [
      "Cantidad de críticas: 15746\n"
     ]
    }
   ],
   "source": [
    "print(\"Cantidad de críticas:\", len(df))"
   ]
  },
  {
   "cell_type": "code",
   "execution_count": 12,
   "metadata": {
    "colab": {
     "base_uri": "https://localhost:8080/",
     "height": 354
    },
    "id": "fpwgmwN4W549",
    "outputId": "00d06044-a31b-461b-c00a-b0efec18071b"
   },
   "outputs": [
    {
     "data": {
      "image/png": "[encoded data removed]",
      "text/plain": [
       "<Figure size 640x480 with 1 Axes>"
      ]
     },
     "metadata": {},
     "output_type": "display_data"
    }
   ],
   "source": [
    "# ¿Cómo están balanceados los datos?\n",
    "sns.countplot(x=df.score);\n",
    "\n",
    "# Tiene 5 clases, de 1 a 5, la del medio es mayoritaria. Se puede restructurar el problema colapsando 1 o 2 a malo, 4 y 5 en bueno"
   ]
  },
  {
   "cell_type": "markdown",
   "metadata": {},
   "source": [
    "Se tiene un score que va desde 1 a 5, es decir 5 posibles calificaciones. "
   ]
  },
  {
   "cell_type": "markdown",
   "metadata": {
    "id": "BCO209z59D7C"
   },
   "source": [
    "## Limpieza de datos"
   ]
  },
  {
   "cell_type": "markdown",
   "metadata": {},
   "source": [
    "Se van a condensar los resultados de 1 y 2 en 0, y de 4 y 5 en 2, dejando el score de 3 como 1. De esta manera se convierte la cantidad de clases en 3 siendo estas:\n",
    "\n",
    "- negative\n",
    "- neutral\n",
    "- positive"
   ]
  },
  {
   "cell_type": "code",
   "execution_count": 13,
   "metadata": {
    "id": "dE572tLfXKCX"
   },
   "outputs": [],
   "source": [
    "# Balancear los datos\n",
    "df['sentiment'] = df.score.apply(lambda x: 0 if x <=2 else 1 if x == 3 else 2)\n",
    "class_names = ['negative', 'neutral', 'positive']"
   ]
  },
  {
   "cell_type": "code",
   "execution_count": 14,
   "metadata": {
    "colab": {
     "base_uri": "https://localhost:8080/",
     "height": 335
    },
    "id": "gpz0sNGnXahV",
    "outputId": "42ef0edd-1115-405f-c3cf-c043b9203bfd"
   },
   "outputs": [
    {
     "name": "stderr",
     "output_type": "stream",
     "text": [
      "/var/folders/rz/52wvyybx3618hlzk3v9hjvdc0000gn/T/ipykernel_12003/3945955594.py:3: UserWarning: FixedFormatter should only be used together with FixedLocator\n",
      "  ax.set_xticklabels(class_names);\n"
     ]
    },
    {
     "data": {
      "image/png": "[encoded data removed]",
      "text/plain": [
       "<Figure size 640x480 with 1 Axes>"
      ]
     },
     "metadata": {},
     "output_type": "display_data"
    }
   ],
   "source": [
    "ax = sns.countplot(x='sentiment', data=df)\n",
    "plt.xlabel('review sentiment')\n",
    "ax.set_xticklabels(class_names);"
   ]
  },
  {
   "cell_type": "code",
   "execution_count": 15,
   "metadata": {},
   "outputs": [
    {
     "data": {
      "text/plain": [
       "array([0, 1, 2])"
      ]
     },
     "execution_count": 15,
     "metadata": {},
     "output_type": "execute_result"
    }
   ],
   "source": [
    "# Se observa que ahora los valores único son solo 3\n",
    "df['sentiment'].unique()"
   ]
  },
  {
   "cell_type": "code",
   "execution_count": 16,
   "metadata": {
    "colab": {
     "base_uri": "https://localhost:8080/"
    },
    "id": "KaRGx3pW9fyx",
    "outputId": "961089db-9571-438c-f45c-e9bba1bde6e7"
   },
   "outputs": [
    {
     "name": "stdout",
     "output_type": "stream",
     "text": [
      "sentences shape: (15746,)\n"
     ]
    },
    {
     "data": {
      "text/plain": [
       "array([\"Update: After getting a response from the developer I would change my rating to 0 stars if possible. These guys hide behind confusing and opaque terms and refuse to budge at all. I'm so annoyed that my money has been lost to them! Really terrible customer experience. Original: Be very careful when signing up for a free trial of this app. If you happen to go over they automatically charge you for a full years subscription and refuse to refund. Terrible customer experience and the app is just OK.\",\n",
       "       'Used it for a fair amount of time without any problems. Suddenly then asked me to create an account or log using Google or FB. I used my Google one only to discover everything was gone!',\n",
       "       \"Your app sucks now!!!!! Used to be good but now doesn't update until I physically open it up and then close it then scroll and then it finally shows what I want to put on the list!!!!!! And I FRIGGEN paid for this garbage!!!!!!!\"],\n",
       "      dtype=object)"
      ]
     },
     "execution_count": 16,
     "metadata": {},
     "output_type": "execute_result"
    }
   ],
   "source": [
    "sentences = df['content'].values\n",
    "print(\"sentences shape:\", sentences.shape)\n",
    "sentences[:3]"
   ]
  },
  {
   "cell_type": "code",
   "execution_count": 17,
   "metadata": {
    "colab": {
     "base_uri": "https://localhost:8080/",
     "height": 358
    },
    "id": "PXdyAh6NYpSx",
    "outputId": "a1d56be2-18f5-4754-b78b-3ee9f873b36e"
   },
   "outputs": [
    {
     "name": "stdout",
     "output_type": "stream",
     "text": [
      "Median: 139.0\n"
     ]
    },
    {
     "name": "stderr",
     "output_type": "stream",
     "text": [
      "/Users/victordavidsilva/tensorflow-test/env/lib/python3.8/site-packages/seaborn/axisgrid.py:123: UserWarning: The figure layout has changed to tight\n",
      "  self._figure.tight_layout(*args, **kwargs)\n"
     ]
    },
    {
     "data": {
      "image/png": "[encoded data removed]",
      "text/plain": [
       "<Figure size 500x500 with 1 Axes>"
      ]
     },
     "metadata": {},
     "output_type": "display_data"
    }
   ],
   "source": [
    "sentence_lens = []\n",
    "\n",
    "for sentence in sentences:\n",
    "  sentence_lens.append(len(sentence))\n",
    "\n",
    "print(\"Median:\", np.median(sentence_lens))\n",
    "sns.displot(sentence_lens);"
   ]
  },
  {
   "cell_type": "code",
   "execution_count": 18,
   "metadata": {},
   "outputs": [],
   "source": [
    "from tensorflow.keras.utils import to_categorical"
   ]
  },
  {
   "cell_type": "code",
   "execution_count": 19,
   "metadata": {
    "colab": {
     "base_uri": "https://localhost:8080/"
    },
    "id": "c26zJ7qUAV4F",
    "outputId": "f1f9eadd-430e-407a-99c2-ae079f21708a"
   },
   "outputs": [
    {
     "name": "stdout",
     "output_type": "stream",
     "text": [
      "y shape: (15746,)\n",
      "[[1. 0. 0.]\n",
      " [1. 0. 0.]\n",
      " [1. 0. 0.]]\n",
      "output shape: 3\n"
     ]
    }
   ],
   "source": [
    "y = df['sentiment'].values\n",
    "print(\"y shape:\", y.shape)\n",
    "y = to_categorical(y)\n",
    "print(y[:3])\n",
    "output_shape = y.shape[1]\n",
    "print(\"output shape:\", output_shape)\n",
    "\n",
    "# Transformamos en vectores OHE"
   ]
  },
  {
   "cell_type": "markdown",
   "metadata": {
    "id": "qvoZ8YlK0vOQ"
   },
   "source": [
    "## 1 - Data generator\n"
   ]
  },
  {
   "cell_type": "code",
   "execution_count": 20,
   "metadata": {},
   "outputs": [],
   "source": [
    "from transformers import InputExample, InputFeatures  # Métodos para transformar el dataset, codifica el modelo para lo que espera en la entrada\n",
    "from transformers import BertTokenizer\n",
    "import numpy as np"
   ]
  },
  {
   "cell_type": "code",
   "execution_count": 21,
   "metadata": {},
   "outputs": [
    {
     "name": "stderr",
     "output_type": "stream",
     "text": [
      "/Users/victordavidsilva/tensorflow-test/env/lib/python3.8/site-packages/transformers/tokenization_utils_base.py:1601: FutureWarning: `clean_up_tokenization_spaces` was not set. It will be set to `True` by default. This behavior will be depracted in transformers v4.45, and will be then set to `False` by default. For more details check this issue: https://github.com/huggingface/transformers/issues/31884\n",
      "  warnings.warn(\n"
     ]
    }
   ],
   "source": [
    "# Muy importante que para tensorflow los modelos Bert deben empezar con \"TF\"\n",
    "# de lo contrario estaremos utilizando un modelo para pytorch\n",
    "\n",
    "# Descargamos el modelo base de BERT más liviano y su correspondiente tokenizer\n",
    "bert_tokenizer = BertTokenizer.from_pretrained(\"bert-base-uncased\")"
   ]
  },
  {
   "cell_type": "code",
   "execution_count": 22,
   "metadata": {
    "id": "rYnD8msegnSI"
   },
   "outputs": [],
   "source": [
    "# Del dataset original accederemos a los datos por índices (idx)\n",
    "# mezclados aleatoriamente\n",
    "from sklearn.model_selection import train_test_split\n",
    "max_length = 140 # BERT soporta máximo 512\n",
    "indices = np.arange(len(sentences)) # Le vamos a pasar una función, esto es útil cuando no se pueden tener todos los datos en RAM, sino que los inyecta de a poco en batches \n",
    "idx_train_val, idx_test = train_test_split(indices, test_size=0.2, random_state=42)\n",
    "idx_train, idx_val = train_test_split(idx_train_val, test_size=0.2, random_state=42)\n",
    "# Hacemos 2 splits porque tenemos train, val, test.\n",
    "# Va a consumir los índices y va a saber que pasarle como train y que como val"
   ]
  },
  {
   "cell_type": "code",
   "execution_count": 23,
   "metadata": {
    "colab": {
     "base_uri": "https://localhost:8080/"
    },
    "id": "5Hm0jGD-j32e",
    "outputId": "82f903b1-90cd-447b-ffe0-9fa65248bbe6"
   },
   "outputs": [
    {
     "name": "stdout",
     "output_type": "stream",
     "text": [
      "Cantidad de índices de train:  10076\n",
      "Cantidad de índices de val:  2520\n",
      "Cantidad de índices de test:  3150\n"
     ]
    }
   ],
   "source": [
    "print('Cantidad de índices de train: ', idx_train.shape[0])\n",
    "print('Cantidad de índices de val: ', idx_val.shape[0])\n",
    "print('Cantidad de índices de test: ', idx_test.shape[0])"
   ]
  },
  {
   "cell_type": "code",
   "execution_count": 24,
   "metadata": {
    "id": "MMfyhfKqfs6G"
   },
   "outputs": [],
   "source": [
    "\n",
    "def convert_data_to_examples(text, labels, idx_train, idx_val):\n",
    "    # Armamos un \"InputExample\" para los datos de entrenamiento y validación\n",
    "    train_InputExamples = [InputExample(guid=None, # Globally unique ID for bookkeeping, unused in this case\n",
    "                                                          text_a = text[i], \n",
    "                                                          text_b = None, # BERT podría tomar 2 textos serparados y podía unirlos con un token especial de separación. Pero en text b no ponemos nada\n",
    "                                                          label = labels[i]) for i in idx_train]\n",
    "\n",
    "    validation_InputExamples = [InputExample(guid=None, # Globally unique ID for bookkeeping, unused in this case\n",
    "                                                          text_a = text[i],\n",
    "                                                          text_b = None,\n",
    "                                                          label = labels[i]) for i in idx_val]\n",
    "  \n",
    "    return train_InputExamples, validation_InputExamples\n",
    "\n",
    "# Consume la lista anterior y el tokenizador de bert \n",
    "def convert_examples_to_tf_dataset(examples, bert_tokenizer, max_length=512):\n",
    "    # Transformamos los datos de entrada en tensores de:\n",
    "    # input_ids --> token id\n",
    "    # attention_mask\n",
    "    # token type\n",
    "    features = []\n",
    "\n",
    "    for e in examples:\n",
    "        # Documentation is really strong for this method, so please take a look at it\n",
    "        input_dict = bert_tokenizer.encode_plus(\n",
    "            e.text_a,\n",
    "            add_special_tokens=True,\n",
    "            max_length=max_length, # truncates if len(s) > max_length\n",
    "            return_token_type_ids=False,\n",
    "            return_attention_mask=True,\n",
    "            padding='max_length', # pads to the right by default # CHECK THIS for pad_to_max_length\n",
    "            truncation=True\n",
    "        )\n",
    "\n",
    "        input_ids, attention_mask = (input_dict[\"input_ids\"], input_dict['attention_mask'])\n",
    "\n",
    "        features.append(\n",
    "            InputFeatures(\n",
    "                input_ids=input_ids, attention_mask=attention_mask, label=e.label\n",
    "            )\n",
    "        )\n",
    "\n",
    "    def gen():\n",
    "    # Función generadora para no levantar todos los datos en un instante, devuelve una tupla con la palabra yield (como un return), que mantiene la memoria del estado anterior, menteniendo el for activo.\n",
    "        for f in features:\n",
    "            yield (\n",
    "                {\n",
    "                    \"input_ids\": f.input_ids,\n",
    "                    \"attention_mask\": f.attention_mask,\n",
    "                },\n",
    "                f.label,\n",
    "            )\n",
    "\n",
    "    return tensorflow.data.Dataset.from_generator(\n",
    "        # Tensorflow dataset generator (basado en el generador y en el esquema de datos definido)\n",
    "        gen,\n",
    "        ({\"input_ids\": tensorflow.int32, \"attention_mask\": tensorflow.int32}, tensorflow.float32), # Le definimos el tipo de datos de la salida\n",
    "        (\n",
    "            {\n",
    "                \"input_ids\": tensorflow.TensorShape([None]),\n",
    "                \"attention_mask\": tensorflow.TensorShape([None]),\n",
    "            },\n",
    "            tensorflow.TensorShape([output_shape]), # Le damos el shape\n",
    "        ),\n",
    "    )"
   ]
  },
  {
   "cell_type": "code",
   "execution_count": 25,
   "metadata": {
    "colab": {
     "base_uri": "https://localhost:8080/"
    },
    "id": "VXrlV-xPiebq",
    "outputId": "224c55dc-5ddb-4c01-c804-0b4ebe4eb8c4"
   },
   "outputs": [],
   "source": [
    "train_InputExamples, validation_InputExamples = convert_data_to_examples(sentences, y, idx_train, idx_val)\n",
    "\n",
    "# Entran los ejemplos de train\n",
    "train_data = convert_examples_to_tf_dataset(list(train_InputExamples), bert_tokenizer, max_length=max_length)\n",
    "# shuffle 100 --> mezcla los datos y los lee a de 100 unidades\n",
    "# batch 32 --> ejecuta una epoca de entrenamiento de a 32 unidades\n",
    "train_data = train_data.shuffle(100).batch(32) # Podemos configurar el tamaño de batch y mezclamos de a 100 datos\n",
    "\n",
    "# Entran los ejemplos de val\n",
    "validation_data = convert_examples_to_tf_dataset(list(validation_InputExamples), bert_tokenizer, max_length=max_length)\n",
    "validation_data = validation_data.batch(32)"
   ]
  },
  {
   "cell_type": "code",
   "execution_count": 26,
   "metadata": {
    "colab": {
     "base_uri": "https://localhost:8080/"
    },
    "id": "aQV1WrdKFJnF",
    "outputId": "eccbd408-606b-4b67-aeba-36d5c42825f4"
   },
   "outputs": [],
   "source": [
    "pred_sentences = [sentences[i] for i in idx_test]\n",
    "tf_batch = bert_tokenizer(pred_sentences, max_length=max_length, padding=True, truncation=True, return_tensors='tf')"
   ]
  },
  {
   "cell_type": "code",
   "execution_count": 27,
   "metadata": {
    "id": "ZUBLlpH0GAVE"
   },
   "outputs": [],
   "source": [
    "X_test = [tf_batch['input_ids'],  \n",
    "          tf_batch['attention_mask']]"
   ]
  },
  {
   "cell_type": "code",
   "execution_count": 28,
   "metadata": {
    "id": "3E-z51xls0lH"
   },
   "outputs": [],
   "source": [
    "y_test = y[idx_test]"
   ]
  },
  {
   "cell_type": "markdown",
   "metadata": {
    "id": "kNinUuS6nqRJ"
   },
   "source": [
    "## 2 - BERT multiclass classification"
   ]
  },
  {
   "cell_type": "code",
   "execution_count": 29,
   "metadata": {
    "colab": {
     "base_uri": "https://localhost:8080/"
    },
    "id": "aQKTqv20j5kA",
    "outputId": "c513e516-0a71-4920-f17b-8fcc9a449627"
   },
   "outputs": [
    {
     "name": "stdout",
     "output_type": "stream",
     "text": [
      "Epoch 1/10\n"
     ]
    },
    {
     "name": "stderr",
     "output_type": "stream",
     "text": [
      "2024-09-01 00:05:44.856573: I tensorflow/core/grappler/optimizers/custom_graph_optimizer_registry.cc:114] Plugin optimizer for device_type GPU is enabled.\n"
     ]
    },
    {
     "name": "stdout",
     "output_type": "stream",
     "text": [
      "    315/Unknown - 571s 2s/step - loss: 1.0852 - accuracy: 0.4065 - f1_score: 0.3966"
     ]
    },
    {
     "name": "stderr",
     "output_type": "stream",
     "text": [
      "2024-09-01 00:15:10.168509: I tensorflow/core/framework/local_rendezvous.cc:409] Local rendezvous send item cancelled. Key hash: 9204806435597979883\n",
      "2024-09-01 00:15:10.168522: I tensorflow/core/framework/local_rendezvous.cc:409] Local rendezvous send item cancelled. Key hash: 15964221170054699455\n",
      "2024-09-01 00:15:10.168528: I tensorflow/core/framework/local_rendezvous.cc:405] Local rendezvous recv item cancelled. Key hash: 3045402962594619745\n",
      "2024-09-01 00:15:10.168534: I tensorflow/core/framework/local_rendezvous.cc:405] Local rendezvous recv item cancelled. Key hash: 3775849740830813187\n",
      "2024-09-01 00:15:10.168538: I tensorflow/core/framework/local_rendezvous.cc:409] Local rendezvous send item cancelled. Key hash: 8774107470228540801\n",
      "2024-09-01 00:15:10.168544: I tensorflow/core/framework/local_rendezvous.cc:405] Local rendezvous recv item cancelled. Key hash: 13084385984910741779\n",
      "2024-09-01 00:15:10.169950: I tensorflow/core/framework/local_rendezvous.cc:405] Local rendezvous recv item cancelled. Key hash: 13601217232907619162\n",
      "2024-09-01 00:15:10.169962: I tensorflow/core/framework/local_rendezvous.cc:405] Local rendezvous recv item cancelled. Key hash: 2047265359506492462\n",
      "2024-09-01 00:15:10.169966: I tensorflow/core/framework/local_rendezvous.cc:409] Local rendezvous send item cancelled. Key hash: 13503339867888721460\n",
      "2024-09-01 00:15:11.800614: I tensorflow/core/grappler/optimizers/custom_graph_optimizer_registry.cc:114] Plugin optimizer for device_type GPU is enabled.\n"
     ]
    },
    {
     "name": "stdout",
     "output_type": "stream",
     "text": [
      "315/315 [==============================] - 701s 2s/step - loss: 1.0852 - accuracy: 0.4065 - f1_score: 0.3966 - val_loss: 1.0326 - val_accuracy: 0.4218 - val_f1_score: 0.3365\n",
      "Epoch 2/10\n"
     ]
    },
    {
     "name": "stderr",
     "output_type": "stream",
     "text": [
      "2024-09-01 00:17:19.642501: I tensorflow/core/framework/local_rendezvous.cc:409] Local rendezvous send item cancelled. Key hash: 4451680433971234396\n",
      "2024-09-01 00:17:19.642523: I tensorflow/core/framework/local_rendezvous.cc:409] Local rendezvous send item cancelled. Key hash: 4335902681185166796\n",
      "2024-09-01 00:17:19.642528: I tensorflow/core/framework/local_rendezvous.cc:409] Local rendezvous send item cancelled. Key hash: 5923704640674311728\n",
      "2024-09-01 00:17:19.642531: I tensorflow/core/framework/local_rendezvous.cc:405] Local rendezvous recv item cancelled. Key hash: 16246209487815238079\n",
      "2024-09-01 00:17:19.642545: I tensorflow/core/framework/local_rendezvous.cc:405] Local rendezvous recv item cancelled. Key hash: 7668977491425559467\n",
      "2024-09-01 00:17:19.642558: I tensorflow/core/framework/local_rendezvous.cc:405] Local rendezvous recv item cancelled. Key hash: 8947903664927126351\n",
      "2024-09-01 00:17:19.642564: I tensorflow/core/framework/local_rendezvous.cc:405] Local rendezvous recv item cancelled. Key hash: 9982061832173405303\n",
      "2024-09-01 00:17:19.642569: I tensorflow/core/framework/local_rendezvous.cc:405] Local rendezvous recv item cancelled. Key hash: 826909626701180551\n",
      "2024-09-01 00:17:19.642578: I tensorflow/core/framework/local_rendezvous.cc:405] Local rendezvous recv item cancelled. Key hash: 14236387122718195515\n"
     ]
    },
    {
     "name": "stdout",
     "output_type": "stream",
     "text": [
      "315/315 [==============================] - 752s 2s/step - loss: 1.0125 - accuracy: 0.4925 - f1_score: 0.4793 - val_loss: 0.9643 - val_accuracy: 0.5433 - val_f1_score: 0.4881\n",
      "Epoch 3/10\n",
      "315/315 [==============================] - 780s 2s/step - loss: 0.9825 - accuracy: 0.5089 - f1_score: 0.4965 - val_loss: 0.9460 - val_accuracy: 0.5440 - val_f1_score: 0.4535\n",
      "Epoch 4/10\n",
      "315/315 [==============================] - 779s 2s/step - loss: 0.9611 - accuracy: 0.5288 - f1_score: 0.5163 - val_loss: 0.9150 - val_accuracy: 0.5607 - val_f1_score: 0.5039\n",
      "Epoch 5/10\n",
      "315/315 [==============================] - 766s 2s/step - loss: 0.9508 - accuracy: 0.5368 - f1_score: 0.5256 - val_loss: 0.9107 - val_accuracy: 0.5571 - val_f1_score: 0.5282\n",
      "Epoch 6/10\n",
      "315/315 [==============================] - 721s 2s/step - loss: 0.9321 - accuracy: 0.5426 - f1_score: 0.5319 - val_loss: 0.9048 - val_accuracy: 0.5567 - val_f1_score: 0.5337\n",
      "Epoch 7/10\n",
      "315/315 [==============================] - 684s 2s/step - loss: 0.9219 - accuracy: 0.5533 - f1_score: 0.5419 - val_loss: 0.9005 - val_accuracy: 0.5480 - val_f1_score: 0.5139\n",
      "Epoch 8/10\n",
      "315/315 [==============================] - 825s 3s/step - loss: 0.9259 - accuracy: 0.5548 - f1_score: 0.5444 - val_loss: 0.8724 - val_accuracy: 0.5802 - val_f1_score: 0.5655\n",
      "Epoch 9/10\n",
      "315/315 [==============================] - 758s 2s/step - loss: 0.9138 - accuracy: 0.5589 - f1_score: 0.5499 - val_loss: 0.8935 - val_accuracy: 0.5655 - val_f1_score: 0.4874\n",
      "Epoch 10/10\n",
      "315/315 [==============================] - 536s 2s/step - loss: 0.9111 - accuracy: 0.5656 - f1_score: 0.5555 - val_loss: 0.8754 - val_accuracy: 0.5687 - val_f1_score: 0.5097\n"
     ]
    }
   ],
   "source": [
    "history1 = model1.fit(train_data, epochs=10, validation_data=validation_data)"
   ]
  },
  {
   "cell_type": "code",
   "execution_count": 30,
   "metadata": {
    "colab": {
     "base_uri": "https://localhost:8080/",
     "height": 265
    },
    "id": "qj2dAl-tnxY-",
    "outputId": "b7975840-720c-44e6-ba18-736088540703"
   },
   "outputs": [
    {
     "data": {
      "image/png": "[encoded data removed]",
      "text/plain": [
       "<Figure size 640x480 with 1 Axes>"
      ]
     },
     "metadata": {},
     "output_type": "display_data"
    }
   ],
   "source": [
    "plot_train_metrics(history1)"
   ]
  },
  {
   "cell_type": "code",
   "execution_count": 31,
   "metadata": {
    "colab": {
     "base_uri": "https://localhost:8080/"
    },
    "id": "HILK90qzn-kL",
    "outputId": "34985136-0e6f-4693-dcc4-c52c5ea77f4a"
   },
   "outputs": [
    {
     "name": "stderr",
     "output_type": "stream",
     "text": [
      "2024-09-01 02:07:22.073638: I tensorflow/core/grappler/optimizers/custom_graph_optimizer_registry.cc:114] Plugin optimizer for device_type GPU is enabled.\n"
     ]
    },
    {
     "name": "stdout",
     "output_type": "stream",
     "text": [
      "99/99 [==============================] - 109s 1s/step\n"
     ]
    },
    {
     "data": {
      "text/plain": [
       "array([[0.5088324 , 0.30407506, 0.18709248],\n",
       "       [0.5293179 , 0.20611766, 0.26456442],\n",
       "       [0.222199  , 0.3138763 , 0.46392474]], dtype=float32)"
      ]
     },
     "execution_count": 31,
     "metadata": {},
     "output_type": "execute_result"
    }
   ],
   "source": [
    "y_hat_prob1 = model1.predict(X_test)\n",
    "y_hat_prob1[:3]"
   ]
  },
  {
   "cell_type": "code",
   "execution_count": 32,
   "metadata": {
    "id": "kwSvM4-koOdz"
   },
   "outputs": [],
   "source": [
    "y_hat1 = np.argmax(y_hat_prob1, axis=1)"
   ]
  },
  {
   "cell_type": "code",
   "execution_count": 33,
   "metadata": {
    "colab": {
     "base_uri": "https://localhost:8080/"
    },
    "id": "tSNbyLNYwdqQ",
    "outputId": "a432dc0b-96ae-43af-da62-2a739a20761a"
   },
   "outputs": [
    {
     "name": "stderr",
     "output_type": "stream",
     "text": [
      "2024-09-01 02:09:11.027301: I tensorflow/core/grappler/optimizers/custom_graph_optimizer_registry.cc:114] Plugin optimizer for device_type GPU is enabled.\n"
     ]
    },
    {
     "name": "stdout",
     "output_type": "stream",
     "text": [
      "99/99 [==============================] - 115s 1s/step - loss: 0.8762 - accuracy: 0.5854 - f1_score: 0.5294\n"
     ]
    },
    {
     "data": {
      "text/plain": [
       "0.5853968262672424"
      ]
     },
     "execution_count": 33,
     "metadata": {},
     "output_type": "execute_result"
    }
   ],
   "source": [
    "# Calcular la exactitud (accuracy), podemos ver también el F1 Macro score\n",
    "scores = model1.evaluate(X_test, y_test)\n",
    "scores[1]"
   ]
  },
  {
   "cell_type": "code",
   "execution_count": 34,
   "metadata": {
    "colab": {
     "base_uri": "https://localhost:8080/",
     "height": 279
    },
    "id": "mGzdpPfcwlRL",
    "outputId": "4eaa89a1-c601-4a3b-cb0c-6e1cb940d8b5"
   },
   "outputs": [
    {
     "data": {
      "image/png": "[encoded data removed]",
      "text/plain": [
       "<Figure size 640x480 with 2 Axes>"
      ]
     },
     "metadata": {},
     "output_type": "display_data"
    }
   ],
   "source": [
    "from sklearn.metrics import confusion_matrix, ConfusionMatrixDisplay\n",
    "cm1 = confusion_matrix(y_test.argmax(axis=1), y_hat1)\n",
    "cmd1 = ConfusionMatrixDisplay(cm1, display_labels=list(range(3)))\n",
    "cmd1.plot(cmap=plt.cm.Blues)\n",
    "plt.show()"
   ]
  },
  {
   "cell_type": "markdown",
   "metadata": {},
   "source": [
    "Se observa que se tuvo buenos resultados para perdecir que son valores positivo o negativos, pero no así tan bien con los comentarios neutrales."
   ]
  },
  {
   "cell_type": "markdown",
   "metadata": {
    "id": "OYN9aJGYA-d2"
   },
   "source": [
    "## Ensayo"
   ]
  },
  {
   "cell_type": "code",
   "execution_count": 35,
   "metadata": {
    "colab": {
     "base_uri": "https://localhost:8080/"
    },
    "id": "9ML7P5X8BAJe",
    "outputId": "530aa003-98a0-458e-c4c1-16d602a44003"
   },
   "outputs": [
    {
     "name": "stdout",
     "output_type": "stream",
     "text": [
      "Inputs ids: tf.Tensor(\n",
      "[[  101  1045  2293  2023 10439   999   102     0     0     0     0     0\n",
      "      0     0     0     0     0     0     0     0     0     0     0     0\n",
      "      0     0     0     0     0     0     0     0     0     0     0     0\n",
      "      0     0     0     0     0     0     0     0     0     0     0     0\n",
      "      0     0     0     0     0     0     0     0     0     0     0     0\n",
      "      0     0     0     0     0     0     0     0     0     0     0     0\n",
      "      0     0     0     0     0     0     0     0     0     0     0     0\n",
      "      0     0     0     0     0     0     0     0     0     0     0     0\n",
      "      0     0     0     0     0     0     0     0     0     0     0     0\n",
      "      0     0     0     0     0     0     0     0     0     0     0     0\n",
      "      0     0     0     0     0     0     0     0     0     0     0     0\n",
      "      0     0     0     0     0     0     0     0]], shape=(1, 140), dtype=int32)\n",
      "Attention mask: tf.Tensor(\n",
      "[[1 1 1 1 1 1 1 0 0 0 0 0 0 0 0 0 0 0 0 0 0 0 0 0 0 0 0 0 0 0 0 0 0 0 0 0\n",
      "  0 0 0 0 0 0 0 0 0 0 0 0 0 0 0 0 0 0 0 0 0 0 0 0 0 0 0 0 0 0 0 0 0 0 0 0\n",
      "  0 0 0 0 0 0 0 0 0 0 0 0 0 0 0 0 0 0 0 0 0 0 0 0 0 0 0 0 0 0 0 0 0 0 0 0\n",
      "  0 0 0 0 0 0 0 0 0 0 0 0 0 0 0 0 0 0 0 0 0 0 0 0 0 0 0 0 0 0 0 0]], shape=(1, 140), dtype=int32)\n"
     ]
    },
    {
     "name": "stderr",
     "output_type": "stream",
     "text": [
      "/Users/victordavidsilva/tensorflow-test/env/lib/python3.8/site-packages/transformers/tokenization_utils_base.py:2870: FutureWarning: The `pad_to_max_length` argument is deprecated and will be removed in a future version, use `padding=True` or `padding='longest'` to pad to the longest sequence in the batch, or use `padding='max_length'` to pad to a max length. In this case, you can give a specific length with `max_length` (e.g. `max_length=45`) or leave max_length to None to pad to the maximal input size of the model (e.g. 512 for Bert).\n",
      "  warnings.warn(\n"
     ]
    }
   ],
   "source": [
    "text = \"I love this app!\"\n",
    "\n",
    "#tf_batch = bert_tokenizer(text, max_length=max_length, padding=True, truncation=True, return_tensors='tf')\n",
    "\n",
    "tf_batch = bert_tokenizer.encode_plus(\n",
    "    text,\n",
    "    add_special_tokens=True,\n",
    "    max_length=max_length, # truncates if len(s) > max_length\n",
    "    return_token_type_ids=False,\n",
    "    return_attention_mask=True,\n",
    "    pad_to_max_length=True, # pads to the right by default # CHECK THIS for pad_to_max_length\n",
    "    truncation=True,\n",
    "    return_tensors='tf'\n",
    ")\n",
    "\n",
    "print(\"Inputs ids:\", tf_batch['input_ids']);\n",
    "print(\"Attention mask:\", tf_batch['attention_mask']);"
   ]
  },
  {
   "cell_type": "code",
   "execution_count": 36,
   "metadata": {
    "id": "VVOTfMhHBURv"
   },
   "outputs": [],
   "source": [
    "X_ensayo = [tf_batch['input_ids'],  \n",
    "          tf_batch['attention_mask']]"
   ]
  },
  {
   "cell_type": "code",
   "execution_count": 37,
   "metadata": {
    "colab": {
     "base_uri": "https://localhost:8080/"
    },
    "id": "HWFX-xFcBDRV",
    "outputId": "0abc67f6-62b5-4199-d73b-5c1efd3a94ae"
   },
   "outputs": [
    {
     "name": "stdout",
     "output_type": "stream",
     "text": [
      "1/1 [==============================] - 4s 4s/step\n",
      "Clasificación: positive\n"
     ]
    }
   ],
   "source": [
    "y_prob_ensayo = model1.predict(X_ensayo)\n",
    "y_prob = np.argmax(y_prob_ensayo, axis=1)\n",
    "print(\"Clasificación:\", class_names[int(y_prob)]);"
   ]
  },
  {
   "cell_type": "code",
   "execution_count": 38,
   "metadata": {},
   "outputs": [
    {
     "name": "stdout",
     "output_type": "stream",
     "text": [
      "Inputs ids: tf.Tensor(\n",
      "[[  101  1045  5223  2023 10439   999   102     0     0     0     0     0\n",
      "      0     0     0     0     0     0     0     0     0     0     0     0\n",
      "      0     0     0     0     0     0     0     0     0     0     0     0\n",
      "      0     0     0     0     0     0     0     0     0     0     0     0\n",
      "      0     0     0     0     0     0     0     0     0     0     0     0\n",
      "      0     0     0     0     0     0     0     0     0     0     0     0\n",
      "      0     0     0     0     0     0     0     0     0     0     0     0\n",
      "      0     0     0     0     0     0     0     0     0     0     0     0\n",
      "      0     0     0     0     0     0     0     0     0     0     0     0\n",
      "      0     0     0     0     0     0     0     0     0     0     0     0\n",
      "      0     0     0     0     0     0     0     0     0     0     0     0\n",
      "      0     0     0     0     0     0     0     0]], shape=(1, 140), dtype=int32)\n",
      "Attention mask: tf.Tensor(\n",
      "[[1 1 1 1 1 1 1 0 0 0 0 0 0 0 0 0 0 0 0 0 0 0 0 0 0 0 0 0 0 0 0 0 0 0 0 0\n",
      "  0 0 0 0 0 0 0 0 0 0 0 0 0 0 0 0 0 0 0 0 0 0 0 0 0 0 0 0 0 0 0 0 0 0 0 0\n",
      "  0 0 0 0 0 0 0 0 0 0 0 0 0 0 0 0 0 0 0 0 0 0 0 0 0 0 0 0 0 0 0 0 0 0 0 0\n",
      "  0 0 0 0 0 0 0 0 0 0 0 0 0 0 0 0 0 0 0 0 0 0 0 0 0 0 0 0 0 0 0 0]], shape=(1, 140), dtype=int32)\n"
     ]
    }
   ],
   "source": [
    "text = \"I hate this app!\"\n",
    "\n",
    "#tf_batch = bert_tokenizer(text, max_length=max_length, padding=True, truncation=True, return_tensors='tf')\n",
    "\n",
    "tf_batch = bert_tokenizer.encode_plus(\n",
    "    text,\n",
    "    add_special_tokens=True,\n",
    "    max_length=max_length, # truncates if len(s) > max_length\n",
    "    return_token_type_ids=False,\n",
    "    return_attention_mask=True,\n",
    "    pad_to_max_length=True, # pads to the right by default # CHECK THIS for pad_to_max_length\n",
    "    truncation=True,\n",
    "    return_tensors='tf'\n",
    ")\n",
    "\n",
    "print(\"Inputs ids:\", tf_batch['input_ids']);\n",
    "print(\"Attention mask:\", tf_batch['attention_mask']);"
   ]
  },
  {
   "cell_type": "code",
   "execution_count": 39,
   "metadata": {},
   "outputs": [],
   "source": [
    "X_ensayo = [tf_batch['input_ids'],  \n",
    "          tf_batch['attention_mask']]"
   ]
  },
  {
   "cell_type": "code",
   "execution_count": 40,
   "metadata": {},
   "outputs": [
    {
     "name": "stdout",
     "output_type": "stream",
     "text": [
      "1/1 [==============================] - 0s 381ms/step\n",
      "Clasificación: negative\n"
     ]
    }
   ],
   "source": [
    "y_prob_ensayo = model1.predict(X_ensayo)\n",
    "y_prob = np.argmax(y_prob_ensayo, axis=1)\n",
    "print(\"Clasificación:\", class_names[int(y_prob)]);"
   ]
  },
  {
   "cell_type": "code",
   "execution_count": 41,
   "metadata": {},
   "outputs": [
    {
     "name": "stdout",
     "output_type": "stream",
     "text": [
      "Inputs ids: tf.Tensor(\n",
      "[[  101  2023 10439  2009  1005  1055  3100   102     0     0     0     0\n",
      "      0     0     0     0     0     0     0     0     0     0     0     0\n",
      "      0     0     0     0     0     0     0     0     0     0     0     0\n",
      "      0     0     0     0     0     0     0     0     0     0     0     0\n",
      "      0     0     0     0     0     0     0     0     0     0     0     0\n",
      "      0     0     0     0     0     0     0     0     0     0     0     0\n",
      "      0     0     0     0     0     0     0     0     0     0     0     0\n",
      "      0     0     0     0     0     0     0     0     0     0     0     0\n",
      "      0     0     0     0     0     0     0     0     0     0     0     0\n",
      "      0     0     0     0     0     0     0     0     0     0     0     0\n",
      "      0     0     0     0     0     0     0     0     0     0     0     0\n",
      "      0     0     0     0     0     0     0     0]], shape=(1, 140), dtype=int32)\n",
      "Attention mask: tf.Tensor(\n",
      "[[1 1 1 1 1 1 1 1 0 0 0 0 0 0 0 0 0 0 0 0 0 0 0 0 0 0 0 0 0 0 0 0 0 0 0 0\n",
      "  0 0 0 0 0 0 0 0 0 0 0 0 0 0 0 0 0 0 0 0 0 0 0 0 0 0 0 0 0 0 0 0 0 0 0 0\n",
      "  0 0 0 0 0 0 0 0 0 0 0 0 0 0 0 0 0 0 0 0 0 0 0 0 0 0 0 0 0 0 0 0 0 0 0 0\n",
      "  0 0 0 0 0 0 0 0 0 0 0 0 0 0 0 0 0 0 0 0 0 0 0 0 0 0 0 0 0 0 0 0]], shape=(1, 140), dtype=int32)\n"
     ]
    }
   ],
   "source": [
    "text = \"This app it's okay\"\n",
    "\n",
    "#tf_batch = bert_tokenizer(text, max_length=max_length, padding=True, truncation=True, return_tensors='tf')\n",
    "\n",
    "tf_batch = bert_tokenizer.encode_plus(\n",
    "    text,\n",
    "    add_special_tokens=True,\n",
    "    max_length=max_length, # truncates if len(s) > max_length\n",
    "    return_token_type_ids=False,\n",
    "    return_attention_mask=True,\n",
    "    pad_to_max_length=True, # pads to the right by default # CHECK THIS for pad_to_max_length\n",
    "    truncation=True,\n",
    "    return_tensors='tf'\n",
    ")\n",
    "\n",
    "print(\"Inputs ids:\", tf_batch['input_ids']);\n",
    "print(\"Attention mask:\", tf_batch['attention_mask']);"
   ]
  },
  {
   "cell_type": "code",
   "execution_count": 42,
   "metadata": {},
   "outputs": [],
   "source": [
    "X_ensayo = [tf_batch['input_ids'],  \n",
    "          tf_batch['attention_mask']]"
   ]
  },
  {
   "cell_type": "code",
   "execution_count": 43,
   "metadata": {},
   "outputs": [
    {
     "name": "stdout",
     "output_type": "stream",
     "text": [
      "1/1 [==============================] - 0s 292ms/step\n",
      "Clasificación: positive\n"
     ]
    }
   ],
   "source": [
    "y_prob_ensayo = model1.predict(X_ensayo)\n",
    "y_prob = np.argmax(y_prob_ensayo, axis=1)\n",
    "print(\"Clasificación:\", class_names[int(y_prob)]);"
   ]
  },
  {
   "cell_type": "markdown",
   "metadata": {},
   "source": [
    "En estos 3 casos, se observa que el positivo y el negativo fueron correctamente predichos, pero en cambio, en el neutral como que tiene a ser postivo fue tomado como este."
   ]
  },
  {
   "cell_type": "markdown",
   "metadata": {},
   "source": [
    "# Modelo 2: \n",
    "\n",
    "- 3 clases de salida\n",
    "- 1 capa densa adicional"
   ]
  },
  {
   "cell_type": "markdown",
   "metadata": {},
   "source": [
    "### Creación de modelo"
   ]
  },
  {
   "cell_type": "code",
   "execution_count": 44,
   "metadata": {},
   "outputs": [],
   "source": [
    "# Vamos a clasificar en 3 clases como en el modelo anterior\n",
    "output_shape = 3\n",
    "\n",
    "bert_model.bert.trainable = False # bert_model está empaquetado, pero se pueden acceder a algunos atributos. Por default está en TRUE\n",
    "\n",
    "# Se definen las 2 capas de entrada de BERT\n",
    "input_ids = tensorflow.keras.layers.Input(shape=(max_length,), dtype=tensorflow.int32, name='input_ids')\n",
    "attention_mask = tensorflow.keras.layers.Input(shape=(max_length,), dtype=tensorflow.int32, name='attention_mask')\n",
    "\n",
    "\n",
    "outputs = bert_model(input_ids, attention_mask=attention_mask)\n",
    "\n",
    "# Usamos el condensado de toda la secuencia que armo BERT\n",
    "pooled_output = outputs.pooler_output\n",
    "\n",
    "# Se agrega otra capa densa la arquitectura\n",
    "x = tensorflow.keras.layers.Dense(128, activation='relu')(pooled_output)\n",
    "\n",
    "# Pasamos por una capa de Dropout\n",
    "x = tensorflow.keras.layers.Dropout(0.2)(x)\n",
    "output = tensorflow.keras.layers.Dense(output_shape, activation='softmax')(x)\n",
    "\n",
    "# Todo el modelo va a ser lo que entra por input_ids y lo que sale por outputs\n",
    "model2 = tensorflow.keras.Model(inputs=[input_ids, attention_mask], outputs=output)\n",
    "\n",
    "model2.compile(optimizer='adam',\n",
    "              loss='categorical_crossentropy',\n",
    "              metrics=['accuracy',tensorflow.keras.metrics.F1Score(average='macro')])"
   ]
  },
  {
   "cell_type": "code",
   "execution_count": 45,
   "metadata": {},
   "outputs": [
    {
     "name": "stdout",
     "output_type": "stream",
     "text": [
      "Model: \"model_1\"\n",
      "__________________________________________________________________________________________________\n",
      " Layer (type)                Output Shape                 Param #   Connected to                  \n",
      "==================================================================================================\n",
      " input_ids (InputLayer)      [(None, 140)]                0         []                            \n",
      "                                                                                                  \n",
      " attention_mask (InputLayer  [(None, 140)]                0         []                            \n",
      " )                                                                                                \n",
      "                                                                                                  \n",
      " tf_bert_model (TFBertModel  TFBaseModelOutputWithPooli   1094822   ['input_ids[0][0]',           \n",
      " )                           ngAndCrossAttentions(last_   40         'attention_mask[0][0]']      \n",
      "                             hidden_state=(None, 140, 7                                           \n",
      "                             68),                                                                 \n",
      "                              pooler_output=(None, 768)                                           \n",
      "                             , past_key_values=None, hi                                           \n",
      "                             dden_states=None, attentio                                           \n",
      "                             ns=None, cross_attentions=                                           \n",
      "                             None)                                                                \n",
      "                                                                                                  \n",
      " dense_1 (Dense)             (None, 128)                  98432     ['tf_bert_model[1][1]']       \n",
      "                                                                                                  \n",
      " dropout_38 (Dropout)        (None, 128)                  0         ['dense_1[0][0]']             \n",
      "                                                                                                  \n",
      " dense_2 (Dense)             (None, 3)                    387       ['dropout_38[0][0]']          \n",
      "                                                                                                  \n",
      "==================================================================================================\n",
      "Total params: 109581059 (418.02 MB)\n",
      "Trainable params: 98819 (386.01 KB)\n",
      "Non-trainable params: 109482240 (417.64 MB)\n",
      "__________________________________________________________________________________________________\n"
     ]
    }
   ],
   "source": [
    "model2.summary()"
   ]
  },
  {
   "cell_type": "markdown",
   "metadata": {},
   "source": [
    "### Entrenamiento del modelo"
   ]
  },
  {
   "cell_type": "code",
   "execution_count": 46,
   "metadata": {},
   "outputs": [
    {
     "name": "stdout",
     "output_type": "stream",
     "text": [
      "Epoch 1/10\n"
     ]
    },
    {
     "name": "stderr",
     "output_type": "stream",
     "text": [
      "2024-09-01 02:11:14.338372: I tensorflow/core/grappler/optimizers/custom_graph_optimizer_registry.cc:114] Plugin optimizer for device_type GPU is enabled.\n"
     ]
    },
    {
     "name": "stdout",
     "output_type": "stream",
     "text": [
      "    315/Unknown - 385s 1s/step - loss: 1.1929 - accuracy: 0.3944 - f1_score: 0.3902"
     ]
    },
    {
     "name": "stderr",
     "output_type": "stream",
     "text": [
      "2024-09-01 02:17:35.003884: I tensorflow/core/framework/local_rendezvous.cc:409] Local rendezvous send item cancelled. Key hash: 2411603704272980103\n",
      "2024-09-01 02:17:35.003901: I tensorflow/core/framework/local_rendezvous.cc:405] Local rendezvous recv item cancelled. Key hash: 15012395284191277351\n",
      "2024-09-01 02:17:35.003904: I tensorflow/core/framework/local_rendezvous.cc:409] Local rendezvous send item cancelled. Key hash: 14900109716809792141\n",
      "2024-09-01 02:17:35.003909: I tensorflow/core/framework/local_rendezvous.cc:405] Local rendezvous recv item cancelled. Key hash: 14829061123244577975\n",
      "2024-09-01 02:17:35.003913: I tensorflow/core/framework/local_rendezvous.cc:405] Local rendezvous recv item cancelled. Key hash: 6205869306004178793\n",
      "2024-09-01 02:17:35.003920: I tensorflow/core/framework/local_rendezvous.cc:405] Local rendezvous recv item cancelled. Key hash: 8225976484578106430\n",
      "2024-09-01 02:17:35.003922: I tensorflow/core/framework/local_rendezvous.cc:409] Local rendezvous send item cancelled. Key hash: 12074271861244702404\n",
      "2024-09-01 02:17:35.003926: I tensorflow/core/framework/local_rendezvous.cc:405] Local rendezvous recv item cancelled. Key hash: 10876298866804369396\n",
      "2024-09-01 02:17:35.910028: I tensorflow/core/grappler/optimizers/custom_graph_optimizer_registry.cc:114] Plugin optimizer for device_type GPU is enabled.\n"
     ]
    },
    {
     "name": "stdout",
     "output_type": "stream",
     "text": [
      "315/315 [==============================] - 480s 1s/step - loss: 1.1929 - accuracy: 0.3944 - f1_score: 0.3902 - val_loss: 1.2551 - val_accuracy: 0.3750 - val_f1_score: 0.2348\n",
      "Epoch 2/10\n"
     ]
    },
    {
     "name": "stderr",
     "output_type": "stream",
     "text": [
      "2024-09-01 02:19:10.008116: I tensorflow/core/framework/local_rendezvous.cc:405] Local rendezvous recv item cancelled. Key hash: 3818937852005117967\n",
      "2024-09-01 02:19:10.008129: I tensorflow/core/framework/local_rendezvous.cc:405] Local rendezvous recv item cancelled. Key hash: 6123949586296404003\n",
      "2024-09-01 02:19:10.008133: I tensorflow/core/framework/local_rendezvous.cc:405] Local rendezvous recv item cancelled. Key hash: 15338067993699764971\n",
      "2024-09-01 02:19:10.008135: I tensorflow/core/framework/local_rendezvous.cc:409] Local rendezvous send item cancelled. Key hash: 4578114663241350531\n",
      "2024-09-01 02:19:10.008139: I tensorflow/core/framework/local_rendezvous.cc:405] Local rendezvous recv item cancelled. Key hash: 13786076097660341002\n",
      "2024-09-01 02:19:10.008143: I tensorflow/core/framework/local_rendezvous.cc:405] Local rendezvous recv item cancelled. Key hash: 11513543344413725672\n",
      "2024-09-01 02:19:10.008146: I tensorflow/core/framework/local_rendezvous.cc:405] Local rendezvous recv item cancelled. Key hash: 6703958160248665710\n",
      "2024-09-01 02:19:10.008150: I tensorflow/core/framework/local_rendezvous.cc:405] Local rendezvous recv item cancelled. Key hash: 1790943130863664684\n"
     ]
    },
    {
     "name": "stdout",
     "output_type": "stream",
     "text": [
      "315/315 [==============================] - 449s 1s/step - loss: 1.0486 - accuracy: 0.4740 - f1_score: 0.4671 - val_loss: 0.9990 - val_accuracy: 0.5349 - val_f1_score: 0.4330\n",
      "Epoch 3/10\n",
      "315/315 [==============================] - 452s 1s/step - loss: 1.0220 - accuracy: 0.4910 - f1_score: 0.4828 - val_loss: 1.1836 - val_accuracy: 0.5079 - val_f1_score: 0.3988\n",
      "Epoch 4/10\n",
      "315/315 [==============================] - 452s 1s/step - loss: 0.9843 - accuracy: 0.5181 - f1_score: 0.5096 - val_loss: 0.9334 - val_accuracy: 0.5579 - val_f1_score: 0.4636\n",
      "Epoch 5/10\n",
      "315/315 [==============================] - 450s 1s/step - loss: 0.9630 - accuracy: 0.5315 - f1_score: 0.5216 - val_loss: 0.9752 - val_accuracy: 0.5250 - val_f1_score: 0.4441\n",
      "Epoch 6/10\n",
      "315/315 [==============================] - 449s 1s/step - loss: 0.9492 - accuracy: 0.5354 - f1_score: 0.5256 - val_loss: 1.0069 - val_accuracy: 0.5627 - val_f1_score: 0.4478\n",
      "Epoch 7/10\n",
      "315/315 [==============================] - 452s 1s/step - loss: 0.9457 - accuracy: 0.5423 - f1_score: 0.5319 - val_loss: 0.8765 - val_accuracy: 0.5683 - val_f1_score: 0.5285\n",
      "Epoch 8/10\n",
      "315/315 [==============================] - 457s 1s/step - loss: 0.9308 - accuracy: 0.5471 - f1_score: 0.5366 - val_loss: 0.9836 - val_accuracy: 0.5234 - val_f1_score: 0.4439\n",
      "Epoch 9/10\n",
      "315/315 [==============================] - 458s 1s/step - loss: 0.9246 - accuracy: 0.5523 - f1_score: 0.5428 - val_loss: 1.0216 - val_accuracy: 0.5647 - val_f1_score: 0.4499\n",
      "Epoch 10/10\n",
      "315/315 [==============================] - 458s 1s/step - loss: 0.9281 - accuracy: 0.5554 - f1_score: 0.5468 - val_loss: 0.8993 - val_accuracy: 0.5635 - val_f1_score: 0.4860\n"
     ]
    }
   ],
   "source": [
    "history2 = model2.fit(train_data, epochs=10, validation_data=validation_data)"
   ]
  },
  {
   "cell_type": "code",
   "execution_count": 47,
   "metadata": {},
   "outputs": [
    {
     "data": {
      "image/png": "[encoded data removed]",
      "text/plain": [
       "<Figure size 640x480 with 1 Axes>"
      ]
     },
     "metadata": {},
     "output_type": "display_data"
    }
   ],
   "source": [
    "plot_train_metrics(history2)"
   ]
  },
  {
   "cell_type": "code",
   "execution_count": 48,
   "metadata": {},
   "outputs": [
    {
     "name": "stderr",
     "output_type": "stream",
     "text": [
      "2024-09-01 03:27:10.107918: I tensorflow/core/grappler/optimizers/custom_graph_optimizer_registry.cc:114] Plugin optimizer for device_type GPU is enabled.\n"
     ]
    },
    {
     "name": "stdout",
     "output_type": "stream",
     "text": [
      "99/99 [==============================] - 121s 1s/step\n"
     ]
    },
    {
     "data": {
      "text/plain": [
       "array([[0.47520524, 0.28694442, 0.23785034],\n",
       "       [0.45921233, 0.19303533, 0.34775233],\n",
       "       [0.10580219, 0.21700874, 0.6771891 ]], dtype=float32)"
      ]
     },
     "execution_count": 48,
     "metadata": {},
     "output_type": "execute_result"
    }
   ],
   "source": [
    "y_hat_prob2 = model2.predict(X_test)\n",
    "y_hat_prob2[:3]"
   ]
  },
  {
   "cell_type": "code",
   "execution_count": 49,
   "metadata": {},
   "outputs": [],
   "source": [
    "y_hat2 = np.argmax(y_hat_prob2, axis=1)"
   ]
  },
  {
   "cell_type": "code",
   "execution_count": 50,
   "metadata": {},
   "outputs": [
    {
     "name": "stderr",
     "output_type": "stream",
     "text": [
      "2024-09-01 03:29:11.555889: I tensorflow/core/grappler/optimizers/custom_graph_optimizer_registry.cc:114] Plugin optimizer for device_type GPU is enabled.\n"
     ]
    },
    {
     "name": "stdout",
     "output_type": "stream",
     "text": [
      "99/99 [==============================] - 126s 1s/step - loss: 0.9022 - accuracy: 0.5749 - f1_score: 0.4952\n"
     ]
    },
    {
     "data": {
      "text/plain": [
       "0.574920654296875"
      ]
     },
     "execution_count": 50,
     "metadata": {},
     "output_type": "execute_result"
    }
   ],
   "source": [
    "# Calcular la exactitud (accuracy), podemos ver también el F1 Macro score\n",
    "scores2 = model2.evaluate(X_test, y_test)\n",
    "scores2[1]"
   ]
  },
  {
   "cell_type": "code",
   "execution_count": 51,
   "metadata": {},
   "outputs": [
    {
     "data": {
      "image/png": "[encoded data removed]",
      "text/plain": [
       "<Figure size 640x480 with 2 Axes>"
      ]
     },
     "metadata": {},
     "output_type": "display_data"
    }
   ],
   "source": [
    "cm2 = confusion_matrix(y_test.argmax(axis=1), y_hat2)\n",
    "cmd2 = ConfusionMatrixDisplay(cm2, display_labels=list(range(3)))\n",
    "cmd2.plot(cmap=plt.cm.Blues)\n",
    "plt.show()"
   ]
  },
  {
   "cell_type": "markdown",
   "metadata": {},
   "source": [
    "### Evaluación"
   ]
  },
  {
   "cell_type": "code",
   "execution_count": 52,
   "metadata": {},
   "outputs": [
    {
     "name": "stdout",
     "output_type": "stream",
     "text": [
      "Inputs ids: tf.Tensor(\n",
      "[[  101  1045  2293  2023 10439   999   102     0     0     0     0     0\n",
      "      0     0     0     0     0     0     0     0     0     0     0     0\n",
      "      0     0     0     0     0     0     0     0     0     0     0     0\n",
      "      0     0     0     0     0     0     0     0     0     0     0     0\n",
      "      0     0     0     0     0     0     0     0     0     0     0     0\n",
      "      0     0     0     0     0     0     0     0     0     0     0     0\n",
      "      0     0     0     0     0     0     0     0     0     0     0     0\n",
      "      0     0     0     0     0     0     0     0     0     0     0     0\n",
      "      0     0     0     0     0     0     0     0     0     0     0     0\n",
      "      0     0     0     0     0     0     0     0     0     0     0     0\n",
      "      0     0     0     0     0     0     0     0     0     0     0     0\n",
      "      0     0     0     0     0     0     0     0]], shape=(1, 140), dtype=int32)\n",
      "Attention mask: tf.Tensor(\n",
      "[[1 1 1 1 1 1 1 0 0 0 0 0 0 0 0 0 0 0 0 0 0 0 0 0 0 0 0 0 0 0 0 0 0 0 0 0\n",
      "  0 0 0 0 0 0 0 0 0 0 0 0 0 0 0 0 0 0 0 0 0 0 0 0 0 0 0 0 0 0 0 0 0 0 0 0\n",
      "  0 0 0 0 0 0 0 0 0 0 0 0 0 0 0 0 0 0 0 0 0 0 0 0 0 0 0 0 0 0 0 0 0 0 0 0\n",
      "  0 0 0 0 0 0 0 0 0 0 0 0 0 0 0 0 0 0 0 0 0 0 0 0 0 0 0 0 0 0 0 0]], shape=(1, 140), dtype=int32)\n"
     ]
    },
    {
     "name": "stderr",
     "output_type": "stream",
     "text": [
      "/Users/victordavidsilva/tensorflow-test/env/lib/python3.8/site-packages/transformers/tokenization_utils_base.py:2870: FutureWarning: The `pad_to_max_length` argument is deprecated and will be removed in a future version, use `padding=True` or `padding='longest'` to pad to the longest sequence in the batch, or use `padding='max_length'` to pad to a max length. In this case, you can give a specific length with `max_length` (e.g. `max_length=45`) or leave max_length to None to pad to the maximal input size of the model (e.g. 512 for Bert).\n",
      "  warnings.warn(\n"
     ]
    }
   ],
   "source": [
    "text = \"I love this app!\"\n",
    "\n",
    "#tf_batch = bert_tokenizer(text, max_length=max_length, padding=True, truncation=True, return_tensors='tf')\n",
    "\n",
    "tf_batch = bert_tokenizer.encode_plus(\n",
    "    text,\n",
    "    add_special_tokens=True,\n",
    "    max_length=max_length, # truncates if len(s) > max_length\n",
    "    return_token_type_ids=False,\n",
    "    return_attention_mask=True,\n",
    "    pad_to_max_length=True, # pads to the right by default # CHECK THIS for pad_to_max_length\n",
    "    truncation=True,\n",
    "    return_tensors='tf'\n",
    ")\n",
    "\n",
    "print(\"Inputs ids:\", tf_batch['input_ids']);\n",
    "print(\"Attention mask:\", tf_batch['attention_mask']);"
   ]
  },
  {
   "cell_type": "code",
   "execution_count": 53,
   "metadata": {},
   "outputs": [],
   "source": [
    "X_ensayo = [tf_batch['input_ids'],  \n",
    "          tf_batch['attention_mask']]"
   ]
  },
  {
   "cell_type": "code",
   "execution_count": 54,
   "metadata": {},
   "outputs": [
    {
     "name": "stdout",
     "output_type": "stream",
     "text": [
      "1/1 [==============================] - 5s 5s/step\n",
      "Clasificación: positive\n"
     ]
    }
   ],
   "source": [
    "y_prob_ensayo2 = model2.predict(X_ensayo)\n",
    "y_prob2 = np.argmax(y_prob_ensayo2, axis=1)\n",
    "print(\"Clasificación:\", class_names[int(y_prob2)]);"
   ]
  },
  {
   "cell_type": "code",
   "execution_count": 55,
   "metadata": {},
   "outputs": [
    {
     "name": "stdout",
     "output_type": "stream",
     "text": [
      "Inputs ids: tf.Tensor(\n",
      "[[  101  1045  5223  2023 10439   999   102     0     0     0     0     0\n",
      "      0     0     0     0     0     0     0     0     0     0     0     0\n",
      "      0     0     0     0     0     0     0     0     0     0     0     0\n",
      "      0     0     0     0     0     0     0     0     0     0     0     0\n",
      "      0     0     0     0     0     0     0     0     0     0     0     0\n",
      "      0     0     0     0     0     0     0     0     0     0     0     0\n",
      "      0     0     0     0     0     0     0     0     0     0     0     0\n",
      "      0     0     0     0     0     0     0     0     0     0     0     0\n",
      "      0     0     0     0     0     0     0     0     0     0     0     0\n",
      "      0     0     0     0     0     0     0     0     0     0     0     0\n",
      "      0     0     0     0     0     0     0     0     0     0     0     0\n",
      "      0     0     0     0     0     0     0     0]], shape=(1, 140), dtype=int32)\n",
      "Attention mask: tf.Tensor(\n",
      "[[1 1 1 1 1 1 1 0 0 0 0 0 0 0 0 0 0 0 0 0 0 0 0 0 0 0 0 0 0 0 0 0 0 0 0 0\n",
      "  0 0 0 0 0 0 0 0 0 0 0 0 0 0 0 0 0 0 0 0 0 0 0 0 0 0 0 0 0 0 0 0 0 0 0 0\n",
      "  0 0 0 0 0 0 0 0 0 0 0 0 0 0 0 0 0 0 0 0 0 0 0 0 0 0 0 0 0 0 0 0 0 0 0 0\n",
      "  0 0 0 0 0 0 0 0 0 0 0 0 0 0 0 0 0 0 0 0 0 0 0 0 0 0 0 0 0 0 0 0]], shape=(1, 140), dtype=int32)\n"
     ]
    }
   ],
   "source": [
    "text = \"I hate this app!\"\n",
    "\n",
    "#tf_batch = bert_tokenizer(text, max_length=max_length, padding=True, truncation=True, return_tensors='tf')\n",
    "\n",
    "tf_batch = bert_tokenizer.encode_plus(\n",
    "    text,\n",
    "    add_special_tokens=True,\n",
    "    max_length=max_length, # truncates if len(s) > max_length\n",
    "    return_token_type_ids=False,\n",
    "    return_attention_mask=True,\n",
    "    pad_to_max_length=True, # pads to the right by default # CHECK THIS for pad_to_max_length\n",
    "    truncation=True,\n",
    "    return_tensors='tf'\n",
    ")\n",
    "\n",
    "print(\"Inputs ids:\", tf_batch['input_ids']);\n",
    "print(\"Attention mask:\", tf_batch['attention_mask']);"
   ]
  },
  {
   "cell_type": "code",
   "execution_count": 56,
   "metadata": {},
   "outputs": [],
   "source": [
    "X_ensayo = [tf_batch['input_ids'],  \n",
    "          tf_batch['attention_mask']]"
   ]
  },
  {
   "cell_type": "code",
   "execution_count": 57,
   "metadata": {},
   "outputs": [
    {
     "name": "stdout",
     "output_type": "stream",
     "text": [
      "1/1 [==============================] - 1s 632ms/step\n",
      "Clasificación: negative\n"
     ]
    }
   ],
   "source": [
    "y_prob_ensayo2 = model2.predict(X_ensayo)\n",
    "y_prob2 = np.argmax(y_prob_ensayo2, axis=1)\n",
    "print(\"Clasificación:\", class_names[int(y_prob2)]);"
   ]
  },
  {
   "cell_type": "code",
   "execution_count": 58,
   "metadata": {},
   "outputs": [
    {
     "name": "stdout",
     "output_type": "stream",
     "text": [
      "Inputs ids: tf.Tensor(\n",
      "[[  101  2023 10439  2009  1005  1055  3100   102     0     0     0     0\n",
      "      0     0     0     0     0     0     0     0     0     0     0     0\n",
      "      0     0     0     0     0     0     0     0     0     0     0     0\n",
      "      0     0     0     0     0     0     0     0     0     0     0     0\n",
      "      0     0     0     0     0     0     0     0     0     0     0     0\n",
      "      0     0     0     0     0     0     0     0     0     0     0     0\n",
      "      0     0     0     0     0     0     0     0     0     0     0     0\n",
      "      0     0     0     0     0     0     0     0     0     0     0     0\n",
      "      0     0     0     0     0     0     0     0     0     0     0     0\n",
      "      0     0     0     0     0     0     0     0     0     0     0     0\n",
      "      0     0     0     0     0     0     0     0     0     0     0     0\n",
      "      0     0     0     0     0     0     0     0]], shape=(1, 140), dtype=int32)\n",
      "Attention mask: tf.Tensor(\n",
      "[[1 1 1 1 1 1 1 1 0 0 0 0 0 0 0 0 0 0 0 0 0 0 0 0 0 0 0 0 0 0 0 0 0 0 0 0\n",
      "  0 0 0 0 0 0 0 0 0 0 0 0 0 0 0 0 0 0 0 0 0 0 0 0 0 0 0 0 0 0 0 0 0 0 0 0\n",
      "  0 0 0 0 0 0 0 0 0 0 0 0 0 0 0 0 0 0 0 0 0 0 0 0 0 0 0 0 0 0 0 0 0 0 0 0\n",
      "  0 0 0 0 0 0 0 0 0 0 0 0 0 0 0 0 0 0 0 0 0 0 0 0 0 0 0 0 0 0 0 0]], shape=(1, 140), dtype=int32)\n"
     ]
    }
   ],
   "source": [
    "text = \"This app it's okay\"\n",
    "\n",
    "#tf_batch = bert_tokenizer(text, max_length=max_length, padding=True, truncation=True, return_tensors='tf')\n",
    "\n",
    "tf_batch = bert_tokenizer.encode_plus(\n",
    "    text,\n",
    "    add_special_tokens=True,\n",
    "    max_length=max_length, # truncates if len(s) > max_length\n",
    "    return_token_type_ids=False,\n",
    "    return_attention_mask=True,\n",
    "    pad_to_max_length=True, # pads to the right by default # CHECK THIS for pad_to_max_length\n",
    "    truncation=True,\n",
    "    return_tensors='tf'\n",
    ")\n",
    "\n",
    "print(\"Inputs ids:\", tf_batch['input_ids']);\n",
    "print(\"Attention mask:\", tf_batch['attention_mask']);"
   ]
  },
  {
   "cell_type": "code",
   "execution_count": 59,
   "metadata": {},
   "outputs": [],
   "source": [
    "X_ensayo = [tf_batch['input_ids'],  \n",
    "          tf_batch['attention_mask']]"
   ]
  },
  {
   "cell_type": "code",
   "execution_count": 60,
   "metadata": {},
   "outputs": [
    {
     "name": "stdout",
     "output_type": "stream",
     "text": [
      "1/1 [==============================] - 1s 671ms/step\n",
      "Clasificación: positive\n"
     ]
    }
   ],
   "source": [
    "y_prob_ensayo2 = model2.predict(X_ensayo)\n",
    "y_prob2 = np.argmax(y_prob_ensayo2, axis=1)\n",
    "print(\"Clasificación:\", class_names[int(y_prob2)]);"
   ]
  },
  {
   "cell_type": "markdown",
   "metadata": {},
   "source": [
    "En estos 3 casos, se observa que el positivo y el negativo fueron correctamente predichos, pero en cambio, en el neutral como que tiene a ser postivo fue tomado como este."
   ]
  },
  {
   "cell_type": "markdown",
   "metadata": {},
   "source": [
    "# Modelo 3:\n",
    "\n",
    "- 5 clases de salida"
   ]
  },
  {
   "cell_type": "markdown",
   "metadata": {},
   "source": [
    "### Creación del modelo"
   ]
  },
  {
   "cell_type": "code",
   "execution_count": 61,
   "metadata": {},
   "outputs": [],
   "source": [
    "# Vamos a clasificar en 5 clases\n",
    "output_shape = 5\n",
    "\n",
    "bert_model.bert.trainable = False # bert_model está empaquetado, pero se pueden acceder a algunos atributos. Por default está en TRUE\n",
    "\n",
    "# Se definen las 2 capas de entrada de BERT\n",
    "input_ids = tensorflow.keras.layers.Input(shape=(max_length,), dtype=tensorflow.int32, name='input_ids')\n",
    "attention_mask = tensorflow.keras.layers.Input(shape=(max_length,), dtype=tensorflow.int32, name='attention_mask')\n",
    "\n",
    "\n",
    "outputs = bert_model(input_ids, attention_mask=attention_mask)\n",
    "\n",
    "# Usamos el condensado de toda la secuencia que armo BERT\n",
    "pooled_output = outputs.pooler_output\n",
    "\n",
    "# Pasamos por una capa de Dropout\n",
    "x = tensorflow.keras.layers.Dropout(0.2)(pooled_output)\n",
    "output = tensorflow.keras.layers.Dense(output_shape, activation='softmax')(x)\n",
    "\n",
    "# Todo el modelo va a ser lo que entra por input_ids y lo que sale por outputs\n",
    "model3 = tensorflow.keras.Model(inputs=[input_ids, attention_mask], outputs=output)\n",
    "\n",
    "model3.compile(optimizer='adam',\n",
    "              loss='categorical_crossentropy',\n",
    "              metrics=['accuracy',tensorflow.keras.metrics.F1Score(average='macro')])"
   ]
  },
  {
   "cell_type": "code",
   "execution_count": 62,
   "metadata": {},
   "outputs": [
    {
     "name": "stdout",
     "output_type": "stream",
     "text": [
      "Model: \"model_2\"\n",
      "__________________________________________________________________________________________________\n",
      " Layer (type)                Output Shape                 Param #   Connected to                  \n",
      "==================================================================================================\n",
      " input_ids (InputLayer)      [(None, 140)]                0         []                            \n",
      "                                                                                                  \n",
      " attention_mask (InputLayer  [(None, 140)]                0         []                            \n",
      " )                                                                                                \n",
      "                                                                                                  \n",
      " tf_bert_model (TFBertModel  TFBaseModelOutputWithPooli   1094822   ['input_ids[0][0]',           \n",
      " )                           ngAndCrossAttentions(last_   40         'attention_mask[0][0]']      \n",
      "                             hidden_state=(None, 140, 7                                           \n",
      "                             68),                                                                 \n",
      "                              pooler_output=(None, 768)                                           \n",
      "                             , past_key_values=None, hi                                           \n",
      "                             dden_states=None, attentio                                           \n",
      "                             ns=None, cross_attentions=                                           \n",
      "                             None)                                                                \n",
      "                                                                                                  \n",
      " dropout_39 (Dropout)        (None, 768)                  0         ['tf_bert_model[2][1]']       \n",
      "                                                                                                  \n",
      " dense_3 (Dense)             (None, 5)                    3845      ['dropout_39[0][0]']          \n",
      "                                                                                                  \n",
      "==================================================================================================\n",
      "Total params: 109486085 (417.66 MB)\n",
      "Trainable params: 3845 (15.02 KB)\n",
      "Non-trainable params: 109482240 (417.64 MB)\n",
      "__________________________________________________________________________________________________\n"
     ]
    }
   ],
   "source": [
    "model3.summary()"
   ]
  },
  {
   "cell_type": "markdown",
   "metadata": {},
   "source": [
    "### Datos para 5 clases"
   ]
  },
  {
   "cell_type": "code",
   "execution_count": 63,
   "metadata": {},
   "outputs": [],
   "source": [
    "# Armar el dataset nuevamente pero ahora dejamos las 5 clases\n",
    "# Solo nos vamos a quedar con el texto de la review.\n",
    "df5 = pd.read_csv('reviews.csv')"
   ]
  },
  {
   "cell_type": "code",
   "execution_count": 64,
   "metadata": {},
   "outputs": [],
   "source": [
    "# Balancear los datos\n",
    "df5['sentiment'] = df5['score']-1\n",
    "class_names = ['very negative', 'negative', 'neutral', 'positive', 'very positive']"
   ]
  },
  {
   "cell_type": "code",
   "execution_count": 65,
   "metadata": {},
   "outputs": [
    {
     "data": {
      "text/plain": [
       "array([0, 1, 2, 3, 4])"
      ]
     },
     "execution_count": 65,
     "metadata": {},
     "output_type": "execute_result"
    }
   ],
   "source": [
    "# Se observa que ahora los valores únicos son 5\n",
    "df5['sentiment'].unique()"
   ]
  },
  {
   "cell_type": "code",
   "execution_count": 66,
   "metadata": {},
   "outputs": [
    {
     "name": "stderr",
     "output_type": "stream",
     "text": [
      "/var/folders/rz/52wvyybx3618hlzk3v9hjvdc0000gn/T/ipykernel_4970/3497894424.py:3: UserWarning: FixedFormatter should only be used together with FixedLocator\n",
      "  ax.set_xticklabels(class_names);\n"
     ]
    },
    {
     "data": {
      "image/png": "[encoded data removed]",
      "text/plain": [
       "<Figure size 640x480 with 1 Axes>"
      ]
     },
     "metadata": {},
     "output_type": "display_data"
    }
   ],
   "source": [
    "ax = sns.countplot(x='sentiment', data=df5)\n",
    "plt.xlabel('review sentiment')\n",
    "ax.set_xticklabels(class_names);"
   ]
  },
  {
   "cell_type": "code",
   "execution_count": 67,
   "metadata": {},
   "outputs": [
    {
     "name": "stdout",
     "output_type": "stream",
     "text": [
      "sentences shape: (15746,)\n"
     ]
    },
    {
     "data": {
      "text/plain": [
       "array([\"Update: After getting a response from the developer I would change my rating to 0 stars if possible. These guys hide behind confusing and opaque terms and refuse to budge at all. I'm so annoyed that my money has been lost to them! Really terrible customer experience. Original: Be very careful when signing up for a free trial of this app. If you happen to go over they automatically charge you for a full years subscription and refuse to refund. Terrible customer experience and the app is just OK.\",\n",
       "       'Used it for a fair amount of time without any problems. Suddenly then asked me to create an account or log using Google or FB. I used my Google one only to discover everything was gone!',\n",
       "       \"Your app sucks now!!!!! Used to be good but now doesn't update until I physically open it up and then close it then scroll and then it finally shows what I want to put on the list!!!!!! And I FRIGGEN paid for this garbage!!!!!!!\"],\n",
       "      dtype=object)"
      ]
     },
     "execution_count": 67,
     "metadata": {},
     "output_type": "execute_result"
    }
   ],
   "source": [
    "sentences = df5['content'].values\n",
    "print(\"sentences shape:\", sentences.shape)\n",
    "sentences[:3]"
   ]
  },
  {
   "cell_type": "code",
   "execution_count": 68,
   "metadata": {},
   "outputs": [
    {
     "name": "stdout",
     "output_type": "stream",
     "text": [
      "Median: 139.0\n"
     ]
    },
    {
     "name": "stderr",
     "output_type": "stream",
     "text": [
      "/Users/victordavidsilva/tensorflow-test/env/lib/python3.8/site-packages/seaborn/axisgrid.py:123: UserWarning: The figure layout has changed to tight\n",
      "  self._figure.tight_layout(*args, **kwargs)\n"
     ]
    },
    {
     "data": {
      "image/png": "[encoded data removed]",
      "text/plain": [
       "<Figure size 500x500 with 1 Axes>"
      ]
     },
     "metadata": {},
     "output_type": "display_data"
    }
   ],
   "source": [
    "sentence_lens = []\n",
    "\n",
    "for sentence in sentences:\n",
    "  sentence_lens.append(len(sentence))\n",
    "\n",
    "print(\"Median:\", np.median(sentence_lens))\n",
    "sns.displot(sentence_lens);"
   ]
  },
  {
   "cell_type": "code",
   "execution_count": 69,
   "metadata": {},
   "outputs": [
    {
     "name": "stdout",
     "output_type": "stream",
     "text": [
      "y shape: (15746,)\n",
      "[[1. 0. 0. 0. 0.]\n",
      " [1. 0. 0. 0. 0.]\n",
      " [1. 0. 0. 0. 0.]\n",
      " [1. 0. 0. 0. 0.]\n",
      " [1. 0. 0. 0. 0.]]\n",
      "output shape: 5\n"
     ]
    }
   ],
   "source": [
    "y = df5['sentiment'].values\n",
    "print(\"y shape:\", y.shape)\n",
    "y = to_categorical(y)\n",
    "print(y[:5])\n",
    "output_shape = y.shape[1]\n",
    "print(\"output shape:\", output_shape)\n",
    "\n",
    "# Transformamos en vectores OHE"
   ]
  },
  {
   "cell_type": "markdown",
   "metadata": {},
   "source": [
    "### Generador de datos"
   ]
  },
  {
   "cell_type": "code",
   "execution_count": 70,
   "metadata": {},
   "outputs": [
    {
     "name": "stderr",
     "output_type": "stream",
     "text": [
      "/Users/victordavidsilva/tensorflow-test/env/lib/python3.8/site-packages/transformers/tokenization_utils_base.py:1601: FutureWarning: `clean_up_tokenization_spaces` was not set. It will be set to `True` by default. This behavior will be depracted in transformers v4.45, and will be then set to `False` by default. For more details check this issue: https://github.com/huggingface/transformers/issues/31884\n",
      "  warnings.warn(\n"
     ]
    }
   ],
   "source": [
    "# Muy importante que para tensorflow los modelos Bert deben empezar con \"TF\"\n",
    "# de lo contrario estaremos utilizando un modelo para pytorch\n",
    "\n",
    "# Descargamos el modelo base de BERT más liviano y su correspondiente tokenizer\n",
    "bert_tokenizer3 = BertTokenizer.from_pretrained(\"bert-base-uncased\")"
   ]
  },
  {
   "cell_type": "code",
   "execution_count": 71,
   "metadata": {},
   "outputs": [],
   "source": [
    "# Del dataset original accederemos a los datos por índices (idx)\n",
    "# mezclados aleatoriamente\n",
    "max_length = 140 # BERT soporta máximo 512\n",
    "indices = np.arange(len(sentences)) # Le vamos a pasar una función, esto es útil cuando no se pueden tener todos los datos en RAM, sino que los inyecta de a poco en batches \n",
    "idx_train_val, idx_test = train_test_split(indices, test_size=0.2, random_state=42)\n",
    "idx_train, idx_val = train_test_split(idx_train_val, test_size=0.2, random_state=42)\n",
    "# Hacemos 2 splits porque tenemos train, val, test.\n",
    "# Va a consumir los índices y va a saber que pasarle como train y que como val"
   ]
  },
  {
   "cell_type": "code",
   "execution_count": 72,
   "metadata": {},
   "outputs": [
    {
     "name": "stdout",
     "output_type": "stream",
     "text": [
      "Cantidad de índices de train:  10076\n",
      "Cantidad de índices de val:  2520\n",
      "Cantidad de índices de test:  3150\n"
     ]
    }
   ],
   "source": [
    "print('Cantidad de índices de train: ', idx_train.shape[0])\n",
    "print('Cantidad de índices de val: ', idx_val.shape[0])\n",
    "print('Cantidad de índices de test: ', idx_test.shape[0])"
   ]
  },
  {
   "cell_type": "code",
   "execution_count": 73,
   "metadata": {},
   "outputs": [],
   "source": [
    "train_InputExamples, validation_InputExamples = convert_data_to_examples(sentences, y, idx_train, idx_val)\n",
    "\n",
    "# Entran los ejemplos de train\n",
    "train_data = convert_examples_to_tf_dataset(list(train_InputExamples), bert_tokenizer3, max_length=max_length)\n",
    "# shuffle 100 --> mezcla los datos y los lee a de 100 unidades\n",
    "# batch 32 --> ejecuta una epoca de entrenamiento de a 32 unidades\n",
    "train_data = train_data.shuffle(100).batch(32) # Podemos configurar el tamaño de batch y mezclamos de a 100 datos\n",
    "\n",
    "# Entran los ejemplos de val\n",
    "validation_data = convert_examples_to_tf_dataset(list(validation_InputExamples), bert_tokenizer3, max_length=max_length)\n",
    "validation_data = validation_data.batch(32)"
   ]
  },
  {
   "cell_type": "code",
   "execution_count": 74,
   "metadata": {},
   "outputs": [],
   "source": [
    "pred_sentences = [sentences[i] for i in idx_test]\n",
    "tf_batch = bert_tokenizer3(pred_sentences, max_length=max_length, padding=True, truncation=True, return_tensors='tf')"
   ]
  },
  {
   "cell_type": "code",
   "execution_count": 75,
   "metadata": {},
   "outputs": [],
   "source": [
    "X_test = [tf_batch['input_ids'],  \n",
    "          tf_batch['attention_mask']]"
   ]
  },
  {
   "cell_type": "code",
   "execution_count": 76,
   "metadata": {},
   "outputs": [],
   "source": [
    "y_test = y[idx_test]"
   ]
  },
  {
   "cell_type": "markdown",
   "metadata": {},
   "source": [
    "### Entrenamiento del modelo"
   ]
  },
  {
   "cell_type": "code",
   "execution_count": 77,
   "metadata": {},
   "outputs": [
    {
     "name": "stdout",
     "output_type": "stream",
     "text": [
      "Epoch 1/10\n"
     ]
    },
    {
     "name": "stderr",
     "output_type": "stream",
     "text": [
      "2024-09-01 03:31:35.952095: I tensorflow/core/grappler/optimizers/custom_graph_optimizer_registry.cc:114] Plugin optimizer for device_type GPU is enabled.\n"
     ]
    },
    {
     "name": "stdout",
     "output_type": "stream",
     "text": [
      "    315/Unknown - 399s 1s/step - loss: 1.5600 - accuracy: 0.3215 - f1_score: 0.2268"
     ]
    },
    {
     "name": "stderr",
     "output_type": "stream",
     "text": [
      "2024-09-01 03:38:10.922857: I tensorflow/core/framework/local_rendezvous.cc:409] Local rendezvous send item cancelled. Key hash: 1832241782142804048\n",
      "2024-09-01 03:38:10.922872: I tensorflow/core/framework/local_rendezvous.cc:405] Local rendezvous recv item cancelled. Key hash: 15782676441471359792\n",
      "2024-09-01 03:38:10.922878: I tensorflow/core/framework/local_rendezvous.cc:405] Local rendezvous recv item cancelled. Key hash: 2047265359506492462\n",
      "2024-09-01 03:38:10.922882: I tensorflow/core/framework/local_rendezvous.cc:405] Local rendezvous recv item cancelled. Key hash: 4866959996055959548\n",
      "2024-09-01 03:38:10.922889: I tensorflow/core/framework/local_rendezvous.cc:409] Local rendezvous send item cancelled. Key hash: 1806887163147372753\n",
      "2024-09-01 03:38:10.922897: I tensorflow/core/framework/local_rendezvous.cc:409] Local rendezvous send item cancelled. Key hash: 6392434887320004965\n",
      "2024-09-01 03:38:10.922900: I tensorflow/core/framework/local_rendezvous.cc:409] Local rendezvous send item cancelled. Key hash: 11178929610316732951\n",
      "2024-09-01 03:38:10.922905: I tensorflow/core/framework/local_rendezvous.cc:405] Local rendezvous recv item cancelled. Key hash: 1008847809728156585\n",
      "2024-09-01 03:38:10.922912: I tensorflow/core/framework/local_rendezvous.cc:405] Local rendezvous recv item cancelled. Key hash: 3775849740830813187\n",
      "2024-09-01 03:38:11.885675: I tensorflow/core/grappler/optimizers/custom_graph_optimizer_registry.cc:114] Plugin optimizer for device_type GPU is enabled.\n"
     ]
    },
    {
     "name": "stdout",
     "output_type": "stream",
     "text": [
      "315/315 [==============================] - 505s 2s/step - loss: 1.5600 - accuracy: 0.3215 - f1_score: 0.2268 - val_loss: 1.4799 - val_accuracy: 0.3865 - val_f1_score: 0.2074\n",
      "Epoch 2/10\n"
     ]
    },
    {
     "name": "stderr",
     "output_type": "stream",
     "text": [
      "2024-09-01 03:39:57.135146: I tensorflow/core/framework/local_rendezvous.cc:409] Local rendezvous send item cancelled. Key hash: 17369567727886768113\n",
      "2024-09-01 03:39:57.135162: I tensorflow/core/framework/local_rendezvous.cc:405] Local rendezvous recv item cancelled. Key hash: 5112077279884794494\n",
      "2024-09-01 03:39:57.135175: I tensorflow/core/framework/local_rendezvous.cc:405] Local rendezvous recv item cancelled. Key hash: 357615282006514222\n",
      "2024-09-01 03:39:57.135180: I tensorflow/core/framework/local_rendezvous.cc:405] Local rendezvous recv item cancelled. Key hash: 11206983804928598113\n",
      "2024-09-01 03:39:57.135191: I tensorflow/core/framework/local_rendezvous.cc:405] Local rendezvous recv item cancelled. Key hash: 9982061832173405303\n",
      "2024-09-01 03:39:57.135196: I tensorflow/core/framework/local_rendezvous.cc:405] Local rendezvous recv item cancelled. Key hash: 7414126909189899939\n",
      "2024-09-01 03:39:57.135200: I tensorflow/core/framework/local_rendezvous.cc:405] Local rendezvous recv item cancelled. Key hash: 826909626701180551\n",
      "2024-09-01 03:39:57.135210: I tensorflow/core/framework/local_rendezvous.cc:405] Local rendezvous recv item cancelled. Key hash: 15007114879380184710\n"
     ]
    },
    {
     "name": "stdout",
     "output_type": "stream",
     "text": [
      "315/315 [==============================] - 461s 1s/step - loss: 1.4856 - accuracy: 0.3638 - f1_score: 0.2556 - val_loss: 1.4491 - val_accuracy: 0.3766 - val_f1_score: 0.3066\n",
      "Epoch 3/10\n",
      "315/315 [==============================] - 462s 1s/step - loss: 1.4562 - accuracy: 0.3707 - f1_score: 0.2784 - val_loss: 1.4239 - val_accuracy: 0.3694 - val_f1_score: 0.3256\n",
      "Epoch 4/10\n",
      "315/315 [==============================] - 460s 1s/step - loss: 1.4333 - accuracy: 0.3866 - f1_score: 0.2990 - val_loss: 1.3777 - val_accuracy: 0.4421 - val_f1_score: 0.3333\n",
      "Epoch 5/10\n",
      "315/315 [==============================] - 461s 1s/step - loss: 1.4063 - accuracy: 0.3949 - f1_score: 0.3105 - val_loss: 1.3599 - val_accuracy: 0.4512 - val_f1_score: 0.3983\n",
      "Epoch 6/10\n",
      "315/315 [==============================] - 459s 1s/step - loss: 1.3894 - accuracy: 0.4076 - f1_score: 0.3260 - val_loss: 1.3378 - val_accuracy: 0.4524 - val_f1_score: 0.3669\n",
      "Epoch 7/10\n",
      "315/315 [==============================] - 460s 1s/step - loss: 1.3815 - accuracy: 0.4124 - f1_score: 0.3386 - val_loss: 1.3549 - val_accuracy: 0.4567 - val_f1_score: 0.3620\n",
      "Epoch 8/10\n",
      "315/315 [==============================] - 454s 1s/step - loss: 1.3709 - accuracy: 0.4126 - f1_score: 0.3412 - val_loss: 1.3264 - val_accuracy: 0.4571 - val_f1_score: 0.4104\n",
      "Epoch 9/10\n",
      "315/315 [==============================] - 456s 1s/step - loss: 1.3666 - accuracy: 0.4203 - f1_score: 0.3514 - val_loss: 1.3406 - val_accuracy: 0.4127 - val_f1_score: 0.3770\n",
      "Epoch 10/10\n",
      "315/315 [==============================] - 459s 1s/step - loss: 1.3594 - accuracy: 0.4211 - f1_score: 0.3548 - val_loss: 1.3171 - val_accuracy: 0.4690 - val_f1_score: 0.3783\n"
     ]
    }
   ],
   "source": [
    "history3 = model3.fit(train_data, epochs=10, validation_data=validation_data)"
   ]
  },
  {
   "cell_type": "code",
   "execution_count": 78,
   "metadata": {},
   "outputs": [
    {
     "data": {
      "image/png": "[encoded data removed]",
      "text/plain": [
       "<Figure size 640x480 with 1 Axes>"
      ]
     },
     "metadata": {},
     "output_type": "display_data"
    }
   ],
   "source": [
    "plot_train_metrics(history3)"
   ]
  },
  {
   "cell_type": "code",
   "execution_count": 79,
   "metadata": {},
   "outputs": [
    {
     "name": "stderr",
     "output_type": "stream",
     "text": [
      "2024-09-01 04:48:49.504651: I tensorflow/core/grappler/optimizers/custom_graph_optimizer_registry.cc:114] Plugin optimizer for device_type GPU is enabled.\n"
     ]
    },
    {
     "name": "stdout",
     "output_type": "stream",
     "text": [
      "99/99 [==============================] - 135s 1s/step\n"
     ]
    },
    {
     "data": {
      "text/plain": [
       "array([[0.22799541, 0.28182343, 0.35310513, 0.08672142, 0.05035459],\n",
       "       [0.18840156, 0.32579935, 0.312217  , 0.09528887, 0.07829322],\n",
       "       [0.06216483, 0.2047601 , 0.4058984 , 0.20407069, 0.12310602]],\n",
       "      dtype=float32)"
      ]
     },
     "execution_count": 79,
     "metadata": {},
     "output_type": "execute_result"
    }
   ],
   "source": [
    "y_hat_prob3 = model3.predict(X_test)\n",
    "y_hat_prob3[:3]"
   ]
  },
  {
   "cell_type": "code",
   "execution_count": 80,
   "metadata": {},
   "outputs": [],
   "source": [
    "y_hat3 = np.argmax(y_hat_prob3, axis=1)"
   ]
  },
  {
   "cell_type": "code",
   "execution_count": 81,
   "metadata": {},
   "outputs": [
    {
     "name": "stderr",
     "output_type": "stream",
     "text": [
      "2024-09-01 04:51:04.915537: I tensorflow/core/grappler/optimizers/custom_graph_optimizer_registry.cc:114] Plugin optimizer for device_type GPU is enabled.\n"
     ]
    },
    {
     "name": "stdout",
     "output_type": "stream",
     "text": [
      "99/99 [==============================] - 132s 1s/step - loss: 1.3213 - accuracy: 0.4368 - f1_score: 0.3516\n"
     ]
    },
    {
     "data": {
      "text/plain": [
       "0.43682539463043213"
      ]
     },
     "execution_count": 81,
     "metadata": {},
     "output_type": "execute_result"
    }
   ],
   "source": [
    "# Calcular la exactitud (accuracy), podemos ver también el F1 Macro score\n",
    "scores3 = model3.evaluate(X_test, y_test)\n",
    "scores3[1]"
   ]
  },
  {
   "cell_type": "code",
   "execution_count": 82,
   "metadata": {},
   "outputs": [
    {
     "data": {
      "image/png": "[encoded data removed]",
      "text/plain": [
       "<Figure size 640x480 with 2 Axes>"
      ]
     },
     "metadata": {},
     "output_type": "display_data"
    }
   ],
   "source": [
    "cm3 = confusion_matrix(y_test.argmax(axis=1), y_hat3)\n",
    "cmd3 = ConfusionMatrixDisplay(cm3, display_labels=list(range(5)))\n",
    "cmd3.plot(cmap=plt.cm.Blues)\n",
    "plt.show()"
   ]
  },
  {
   "cell_type": "markdown",
   "metadata": {},
   "source": [
    "### Evaluación"
   ]
  },
  {
   "cell_type": "code",
   "execution_count": 83,
   "metadata": {},
   "outputs": [
    {
     "name": "stdout",
     "output_type": "stream",
     "text": [
      "Inputs ids: tf.Tensor(\n",
      "[[  101  1045  2293  2023 10439   999   102     0     0     0     0     0\n",
      "      0     0     0     0     0     0     0     0     0     0     0     0\n",
      "      0     0     0     0     0     0     0     0     0     0     0     0\n",
      "      0     0     0     0     0     0     0     0     0     0     0     0\n",
      "      0     0     0     0     0     0     0     0     0     0     0     0\n",
      "      0     0     0     0     0     0     0     0     0     0     0     0\n",
      "      0     0     0     0     0     0     0     0     0     0     0     0\n",
      "      0     0     0     0     0     0     0     0     0     0     0     0\n",
      "      0     0     0     0     0     0     0     0     0     0     0     0\n",
      "      0     0     0     0     0     0     0     0     0     0     0     0\n",
      "      0     0     0     0     0     0     0     0     0     0     0     0\n",
      "      0     0     0     0     0     0     0     0]], shape=(1, 140), dtype=int32)\n",
      "Attention mask: tf.Tensor(\n",
      "[[1 1 1 1 1 1 1 0 0 0 0 0 0 0 0 0 0 0 0 0 0 0 0 0 0 0 0 0 0 0 0 0 0 0 0 0\n",
      "  0 0 0 0 0 0 0 0 0 0 0 0 0 0 0 0 0 0 0 0 0 0 0 0 0 0 0 0 0 0 0 0 0 0 0 0\n",
      "  0 0 0 0 0 0 0 0 0 0 0 0 0 0 0 0 0 0 0 0 0 0 0 0 0 0 0 0 0 0 0 0 0 0 0 0\n",
      "  0 0 0 0 0 0 0 0 0 0 0 0 0 0 0 0 0 0 0 0 0 0 0 0 0 0 0 0 0 0 0 0]], shape=(1, 140), dtype=int32)\n"
     ]
    },
    {
     "name": "stderr",
     "output_type": "stream",
     "text": [
      "/Users/victordavidsilva/tensorflow-test/env/lib/python3.8/site-packages/transformers/tokenization_utils_base.py:2870: FutureWarning: The `pad_to_max_length` argument is deprecated and will be removed in a future version, use `padding=True` or `padding='longest'` to pad to the longest sequence in the batch, or use `padding='max_length'` to pad to a max length. In this case, you can give a specific length with `max_length` (e.g. `max_length=45`) or leave max_length to None to pad to the maximal input size of the model (e.g. 512 for Bert).\n",
      "  warnings.warn(\n"
     ]
    }
   ],
   "source": [
    "text = \"I love this app!\"\n",
    "\n",
    "#tf_batch = bert_tokenizer(text, max_length=max_length, padding=True, truncation=True, return_tensors='tf')\n",
    "\n",
    "tf_batch = bert_tokenizer3.encode_plus(\n",
    "    text,\n",
    "    add_special_tokens=True,\n",
    "    max_length=max_length, # truncates if len(s) > max_length\n",
    "    return_token_type_ids=False,\n",
    "    return_attention_mask=True,\n",
    "    pad_to_max_length=True, # pads to the right by default # CHECK THIS for pad_to_max_length\n",
    "    truncation=True,\n",
    "    return_tensors='tf'\n",
    ")\n",
    "\n",
    "print(\"Inputs ids:\", tf_batch['input_ids']);\n",
    "print(\"Attention mask:\", tf_batch['attention_mask']);"
   ]
  },
  {
   "cell_type": "code",
   "execution_count": 84,
   "metadata": {},
   "outputs": [],
   "source": [
    "X_ensayo = [tf_batch['input_ids'],  \n",
    "          tf_batch['attention_mask']]"
   ]
  },
  {
   "cell_type": "code",
   "execution_count": 85,
   "metadata": {},
   "outputs": [
    {
     "name": "stdout",
     "output_type": "stream",
     "text": [
      "1/1 [==============================] - 8s 8s/step\n",
      "Clasificación: very positive\n"
     ]
    }
   ],
   "source": [
    "y_prob_ensayo3 = model3.predict(X_ensayo)\n",
    "y_prob3 = np.argmax(y_prob_ensayo3, axis=1)\n",
    "print(\"Clasificación:\", class_names[int(y_prob3)]);"
   ]
  },
  {
   "cell_type": "code",
   "execution_count": 86,
   "metadata": {},
   "outputs": [
    {
     "name": "stdout",
     "output_type": "stream",
     "text": [
      "Inputs ids: tf.Tensor(\n",
      "[[  101  1045  5223  2023 10439   999   102     0     0     0     0     0\n",
      "      0     0     0     0     0     0     0     0     0     0     0     0\n",
      "      0     0     0     0     0     0     0     0     0     0     0     0\n",
      "      0     0     0     0     0     0     0     0     0     0     0     0\n",
      "      0     0     0     0     0     0     0     0     0     0     0     0\n",
      "      0     0     0     0     0     0     0     0     0     0     0     0\n",
      "      0     0     0     0     0     0     0     0     0     0     0     0\n",
      "      0     0     0     0     0     0     0     0     0     0     0     0\n",
      "      0     0     0     0     0     0     0     0     0     0     0     0\n",
      "      0     0     0     0     0     0     0     0     0     0     0     0\n",
      "      0     0     0     0     0     0     0     0     0     0     0     0\n",
      "      0     0     0     0     0     0     0     0]], shape=(1, 140), dtype=int32)\n",
      "Attention mask: tf.Tensor(\n",
      "[[1 1 1 1 1 1 1 0 0 0 0 0 0 0 0 0 0 0 0 0 0 0 0 0 0 0 0 0 0 0 0 0 0 0 0 0\n",
      "  0 0 0 0 0 0 0 0 0 0 0 0 0 0 0 0 0 0 0 0 0 0 0 0 0 0 0 0 0 0 0 0 0 0 0 0\n",
      "  0 0 0 0 0 0 0 0 0 0 0 0 0 0 0 0 0 0 0 0 0 0 0 0 0 0 0 0 0 0 0 0 0 0 0 0\n",
      "  0 0 0 0 0 0 0 0 0 0 0 0 0 0 0 0 0 0 0 0 0 0 0 0 0 0 0 0 0 0 0 0]], shape=(1, 140), dtype=int32)\n"
     ]
    }
   ],
   "source": [
    "text = \"I hate this app!\"\n",
    "\n",
    "#tf_batch = bert_tokenizer(text, max_length=max_length, padding=True, truncation=True, return_tensors='tf')\n",
    "\n",
    "tf_batch = bert_tokenizer3.encode_plus(\n",
    "    text,\n",
    "    add_special_tokens=True,\n",
    "    max_length=max_length, # truncates if len(s) > max_length\n",
    "    return_token_type_ids=False,\n",
    "    return_attention_mask=True,\n",
    "    pad_to_max_length=True, # pads to the right by default # CHECK THIS for pad_to_max_length\n",
    "    truncation=True,\n",
    "    return_tensors='tf'\n",
    ")\n",
    "\n",
    "print(\"Inputs ids:\", tf_batch['input_ids']);\n",
    "print(\"Attention mask:\", tf_batch['attention_mask']);"
   ]
  },
  {
   "cell_type": "code",
   "execution_count": 87,
   "metadata": {},
   "outputs": [],
   "source": [
    "X_ensayo = [tf_batch['input_ids'],  \n",
    "          tf_batch['attention_mask']]"
   ]
  },
  {
   "cell_type": "code",
   "execution_count": 88,
   "metadata": {},
   "outputs": [
    {
     "name": "stdout",
     "output_type": "stream",
     "text": [
      "1/1 [==============================] - 1s 691ms/step\n",
      "Clasificación: very negative\n"
     ]
    }
   ],
   "source": [
    "y_prob_ensayo3 = model3.predict(X_ensayo)\n",
    "y_prob3 = np.argmax(y_prob_ensayo3, axis=1)\n",
    "print(\"Clasificación:\", class_names[int(y_prob3)]);"
   ]
  },
  {
   "cell_type": "code",
   "execution_count": 89,
   "metadata": {},
   "outputs": [
    {
     "name": "stdout",
     "output_type": "stream",
     "text": [
      "Inputs ids: tf.Tensor(\n",
      "[[  101  2023 10439  2009  1005  1055  3100   102     0     0     0     0\n",
      "      0     0     0     0     0     0     0     0     0     0     0     0\n",
      "      0     0     0     0     0     0     0     0     0     0     0     0\n",
      "      0     0     0     0     0     0     0     0     0     0     0     0\n",
      "      0     0     0     0     0     0     0     0     0     0     0     0\n",
      "      0     0     0     0     0     0     0     0     0     0     0     0\n",
      "      0     0     0     0     0     0     0     0     0     0     0     0\n",
      "      0     0     0     0     0     0     0     0     0     0     0     0\n",
      "      0     0     0     0     0     0     0     0     0     0     0     0\n",
      "      0     0     0     0     0     0     0     0     0     0     0     0\n",
      "      0     0     0     0     0     0     0     0     0     0     0     0\n",
      "      0     0     0     0     0     0     0     0]], shape=(1, 140), dtype=int32)\n",
      "Attention mask: tf.Tensor(\n",
      "[[1 1 1 1 1 1 1 1 0 0 0 0 0 0 0 0 0 0 0 0 0 0 0 0 0 0 0 0 0 0 0 0 0 0 0 0\n",
      "  0 0 0 0 0 0 0 0 0 0 0 0 0 0 0 0 0 0 0 0 0 0 0 0 0 0 0 0 0 0 0 0 0 0 0 0\n",
      "  0 0 0 0 0 0 0 0 0 0 0 0 0 0 0 0 0 0 0 0 0 0 0 0 0 0 0 0 0 0 0 0 0 0 0 0\n",
      "  0 0 0 0 0 0 0 0 0 0 0 0 0 0 0 0 0 0 0 0 0 0 0 0 0 0 0 0 0 0 0 0]], shape=(1, 140), dtype=int32)\n"
     ]
    }
   ],
   "source": [
    "text = \"This app it's okay\"\n",
    "\n",
    "#tf_batch = bert_tokenizer(text, max_length=max_length, padding=True, truncation=True, return_tensors='tf')\n",
    "\n",
    "tf_batch = bert_tokenizer3.encode_plus(\n",
    "    text,\n",
    "    add_special_tokens=True,\n",
    "    max_length=max_length, # truncates if len(s) > max_length\n",
    "    return_token_type_ids=False,\n",
    "    return_attention_mask=True,\n",
    "    pad_to_max_length=True, # pads to the right by default # CHECK THIS for pad_to_max_length\n",
    "    truncation=True,\n",
    "    return_tensors='tf'\n",
    ")\n",
    "\n",
    "print(\"Inputs ids:\", tf_batch['input_ids']);\n",
    "print(\"Attention mask:\", tf_batch['attention_mask']);"
   ]
  },
  {
   "cell_type": "code",
   "execution_count": 90,
   "metadata": {},
   "outputs": [],
   "source": [
    "X_ensayo = [tf_batch['input_ids'],  \n",
    "          tf_batch['attention_mask']]"
   ]
  },
  {
   "cell_type": "code",
   "execution_count": 91,
   "metadata": {},
   "outputs": [
    {
     "name": "stdout",
     "output_type": "stream",
     "text": [
      "1/1 [==============================] - 2s 2s/step\n",
      "Clasificación: neutral\n"
     ]
    }
   ],
   "source": [
    "y_prob_ensayo3 = model3.predict(X_ensayo)\n",
    "y_prob3 = np.argmax(y_prob_ensayo3, axis=1)\n",
    "print(\"Clasificación:\", class_names[int(y_prob3)]);"
   ]
  },
  {
   "cell_type": "markdown",
   "metadata": {},
   "source": [
    "En estos 3 casos, se observa que fueron predichos de forma correcta."
   ]
  },
  {
   "cell_type": "markdown",
   "metadata": {
    "id": "IXu1W7-5LkPL"
   },
   "source": [
    "## Conclusiones"
   ]
  },
  {
   "cell_type": "markdown",
   "metadata": {
    "id": "3NuAxjtcPhoa"
   },
   "source": [
    "Se puede apreciar que luego de realizar el feature extractor los modelos puedieron dar resultados satisfactorios.\n",
    "\n",
    "A futuro, si se tuviera más poder de cómputo y se usara fine tuning las métricas aumentarían cosiderablemente. \n"
   ]
  }
 ],
 "metadata": {
  "accelerator": "GPU",
  "colab": {
   "provenance": []
  },
  "kernelspec": {
   "display_name": "Python 3 (ipykernel)",
   "language": "python",
   "name": "python3"
  },
  "language_info": {
   "codemirror_mode": {
    "name": "ipython",
    "version": 3
   },
   "file_extension": ".py",
   "mimetype": "text/x-python",
   "name": "python",
   "nbconvert_exporter": "python",
   "pygments_lexer": "ipython3",
   "version": "3.8.16"
  }
 },
 "nbformat": 4,
 "nbformat_minor": 4
}
