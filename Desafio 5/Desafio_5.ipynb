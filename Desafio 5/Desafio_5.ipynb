{
 "cells": [
  {
   "cell_type": "markdown",
   "metadata": {
    "id": "G63Jpt-wYcJ3"
   },
   "source": [
    "<img src=\"https://github.com/hernancontigiani/ceia_memorias_especializacion/raw/master/Figures/logoFIUBA.jpg\" width=\"500\" align=\"center\">\n",
    "\n",
    "\n",
    "# Procesamiento de lenguaje natural\n",
    "## Bert Sentiment Analysis\n",
    "[Ejemplo similar en Pytorch](https://colab.research.google.com/drive/1PHv-IRLPCtv7oTcIGbsgZHqrB5LPvB7S#scrollTo=m_mRflxPl32F)"
   ]
  },
  {
   "cell_type": "markdown",
   "metadata": {},
   "source": [
    "### Datos del alumno:\n",
    "\n",
    "- Alumno: Víctor David Silva\n",
    "- Cohorte: 14"
   ]
  },
  {
   "cell_type": "code",
   "execution_count": 4,
   "metadata": {},
   "outputs": [
    {
     "name": "stdout",
     "output_type": "stream",
     "text": [
      "TensorFlow has access to the following devices:\n",
      "[PhysicalDevice(name='/physical_device:CPU:0', device_type='CPU'), PhysicalDevice(name='/physical_device:GPU:0', device_type='GPU')]\n",
      "TensorFlow version: 2.13.0\n"
     ]
    }
   ],
   "source": [
    "import tensorflow as tf\n",
    "\n",
    "# Check for TensorFlow GPU access\n",
    "print(f\"TensorFlow has access to the following devices:\\n{tf.config.list_physical_devices()}\")\n",
    "\n",
    "# See TensorFlow version\n",
    "print(f\"TensorFlow version: {tf.__version__}\")"
   ]
  },
  {
   "cell_type": "code",
   "execution_count": 5,
   "metadata": {
    "id": "rcPiEBdt8NqM"
   },
   "outputs": [],
   "source": [
    "!pip install transformers --quiet"
   ]
  },
  {
   "cell_type": "code",
   "execution_count": 6,
   "metadata": {},
   "outputs": [],
   "source": [
    "import tensorflow\n",
    "from transformers import TFBertModel\n",
    "import seaborn as sns\n",
    "import matplotlib.pyplot as plt\n",
    "import numpy as np\n",
    "import pandas as pd"
   ]
  },
  {
   "cell_type": "markdown",
   "metadata": {},
   "source": [
    "# Modelo 1 (base): \n",
    "\n",
    "- 3 clases\n",
    "- 1 capa lineal"
   ]
  },
  {
   "cell_type": "markdown",
   "metadata": {},
   "source": [
    "### Definiendo modelo"
   ]
  },
  {
   "cell_type": "code",
   "execution_count": 7,
   "metadata": {},
   "outputs": [
    {
     "name": "stderr",
     "output_type": "stream",
     "text": [
      "2024-09-02 00:46:15.066869: I metal_plugin/src/device/metal_device.cc:1154] Metal device set to: Apple M1\n",
      "2024-09-02 00:46:15.066915: I metal_plugin/src/device/metal_device.cc:296] systemMemory: 16.00 GB\n",
      "2024-09-02 00:46:15.066931: I metal_plugin/src/device/metal_device.cc:313] maxCacheSize: 5.33 GB\n",
      "2024-09-02 00:46:15.067023: I tensorflow/core/common_runtime/pluggable_device/pluggable_device_factory.cc:303] Could not identify NUMA node of platform GPU ID 0, defaulting to 0. Your kernel may not have been built with NUMA support.\n",
      "2024-09-02 00:46:15.067288: I tensorflow/core/common_runtime/pluggable_device/pluggable_device_factory.cc:269] Created TensorFlow device (/job:localhost/replica:0/task:0/device:GPU:0 with 0 MB memory) -> physical PluggableDevice (device: 0, name: METAL, pci bus id: <undefined>)\n",
      "Some weights of the PyTorch model were not used when initializing the TF 2.0 model TFBertModel: ['cls.seq_relationship.bias', 'cls.predictions.bias', 'cls.predictions.transform.dense.bias', 'cls.seq_relationship.weight', 'cls.predictions.transform.LayerNorm.weight', 'cls.predictions.transform.LayerNorm.bias', 'cls.predictions.transform.dense.weight']\n",
      "- This IS expected if you are initializing TFBertModel from a PyTorch model trained on another task or with another architecture (e.g. initializing a TFBertForSequenceClassification model from a BertForPreTraining model).\n",
      "- This IS NOT expected if you are initializing TFBertModel from a PyTorch model that you expect to be exactly identical (e.g. initializing a TFBertForSequenceClassification model from a BertForSequenceClassification model).\n",
      "All the weights of TFBertModel were initialized from the PyTorch model.\n",
      "If your task is similar to the task the model of the checkpoint was trained on, you can already use TFBertModel for predictions without further training.\n"
     ]
    }
   ],
   "source": [
    "# Usamos bert en inglés porque el dataset es en inglés, usamos el modelo base de BERT\n",
    "bert_model = TFBertModel.from_pretrained(\"bert-base-uncased\")"
   ]
  },
  {
   "cell_type": "code",
   "execution_count": 8,
   "metadata": {},
   "outputs": [],
   "source": [
    "max_length = 140"
   ]
  },
  {
   "cell_type": "code",
   "execution_count": 9,
   "metadata": {},
   "outputs": [],
   "source": [
    "# Vamos a clasificar en 3 clases\n",
    "output_shape = 3\n",
    "\n",
    "bert_model.bert.trainable = False # bert_model está empaquetado, pero se pueden acceder a algunos atributos. Por default está en TRUE\n",
    "\n",
    "# Se definen las 2 capas de entrada de BERT\n",
    "input_ids = tensorflow.keras.layers.Input(shape=(max_length,), dtype=tensorflow.int32, name='input_ids')\n",
    "attention_mask = tensorflow.keras.layers.Input(shape=(max_length,), dtype=tensorflow.int32, name='attention_mask')\n",
    "\n",
    "\n",
    "outputs = bert_model(input_ids, attention_mask=attention_mask)\n",
    "\n",
    "# Usamos el condensado de toda la secuencia que armo BERT\n",
    "pooled_output = outputs.pooler_output\n",
    "\n",
    "# Pasamos por una capa de Dropout\n",
    "x = tensorflow.keras.layers.Dropout(0.2)(pooled_output)\n",
    "output = tensorflow.keras.layers.Dense(output_shape, activation='softmax')(x)\n",
    "\n",
    "# Todo el modelo va a ser lo que entra por input_ids y lo que sale por outputs\n",
    "model1 = tensorflow.keras.Model(inputs=[input_ids, attention_mask], outputs=output)\n",
    "\n",
    "model1.compile(optimizer='adam',\n",
    "              loss='categorical_crossentropy',\n",
    "              metrics=['accuracy',tensorflow.keras.metrics.F1Score(average='macro')])"
   ]
  },
  {
   "cell_type": "code",
   "execution_count": 10,
   "metadata": {},
   "outputs": [
    {
     "name": "stdout",
     "output_type": "stream",
     "text": [
      "Model: \"model\"\n",
      "__________________________________________________________________________________________________\n",
      " Layer (type)                Output Shape                 Param #   Connected to                  \n",
      "==================================================================================================\n",
      " input_ids (InputLayer)      [(None, 140)]                0         []                            \n",
      "                                                                                                  \n",
      " attention_mask (InputLayer  [(None, 140)]                0         []                            \n",
      " )                                                                                                \n",
      "                                                                                                  \n",
      " tf_bert_model (TFBertModel  TFBaseModelOutputWithPooli   1094822   ['input_ids[0][0]',           \n",
      " )                           ngAndCrossAttentions(last_   40         'attention_mask[0][0]']      \n",
      "                             hidden_state=(None, 140, 7                                           \n",
      "                             68),                                                                 \n",
      "                              pooler_output=(None, 768)                                           \n",
      "                             , past_key_values=None, hi                                           \n",
      "                             dden_states=None, attentio                                           \n",
      "                             ns=None, cross_attentions=                                           \n",
      "                             None)                                                                \n",
      "                                                                                                  \n",
      " dropout_37 (Dropout)        (None, 768)                  0         ['tf_bert_model[0][1]']       \n",
      "                                                                                                  \n",
      " dense (Dense)               (None, 3)                    2307      ['dropout_37[0][0]']          \n",
      "                                                                                                  \n",
      "==================================================================================================\n",
      "Total params: 109484547 (417.65 MB)\n",
      "Trainable params: 2307 (9.01 KB)\n",
      "Non-trainable params: 109482240 (417.64 MB)\n",
      "__________________________________________________________________________________________________\n"
     ]
    }
   ],
   "source": [
    "model1.summary()"
   ]
  },
  {
   "cell_type": "code",
   "execution_count": 11,
   "metadata": {
    "id": "cjQ7q6N7CL_J"
   },
   "outputs": [],
   "source": [
    "def plot_train_metrics(history):\n",
    "    epoch_count = range(1, len(history.history['accuracy']) + 1)\n",
    "    sns.lineplot(x=epoch_count,  y=history.history['accuracy'], label='train')\n",
    "    sns.lineplot(x=epoch_count,  y=history.history['val_accuracy'], label='valid')\n",
    "    plt.show()"
   ]
  },
  {
   "cell_type": "markdown",
   "metadata": {
    "id": "hU2-H3K1YzJ8"
   },
   "source": [
    "### Datos\n",
    "Utilizaremos como dataset críticas de Google Apps en formato csv."
   ]
  },
  {
   "cell_type": "code",
   "execution_count": 12,
   "metadata": {
    "colab": {
     "base_uri": "https://localhost:8080/"
    },
    "id": "QBjUqdvpvLUG",
    "outputId": "c75a83f5-669b-4f3f-fb2c-5eb507d36e40"
   },
   "outputs": [
    {
     "name": "stdout",
     "output_type": "stream",
     "text": [
      "  % Total    % Received % Xferd  Average Speed   Time    Time     Time  Current\n",
      "                                 Dload  Upload   Total   Spent    Left  Speed\n",
      "  0     0    0     0    0     0      0      0 --:--:-- --:--:-- --:--:--     0\n",
      "  0     0    0     0    0     0      0      0 --:--:-- --:--:-- --:--:--     0\n",
      "100  131k  100  131k    0     0  42027      0  0:00:03  0:00:03 --:--:-- 88094\n",
      "  % Total    % Received % Xferd  Average Speed   Time    Time     Time  Current\n",
      "                                 Dload  Upload   Total   Spent    Left  Speed\n",
      "  0     0    0     0    0     0      0      0 --:--:-- --:--:-- --:--:--     0\n",
      "  0     0    0     0    0     0      0      0 --:--:-- --:--:-- --:--:--     0\n",
      "100 7002k  100 7002k    0     0   577k      0  0:00:12  0:00:12 --:--:-- 1570k\n"
     ]
    }
   ],
   "source": [
    "# Descargar la carpeta de dataset\n",
    "!curl -L -o 'apps.csv' 'https://drive.google.com/u/0/uc?id=1S6qMioqPJjyBLpLVz4gmRTnJHnjitnuV&export=download&confirm=t'\n",
    "!curl -L -o 'reviews.csv' 'https://drive.google.com/u/0/uc?id=1zdmewp7ayS4js4VtrJEHzAheSW-5NBZv&export=download&confirm=t'"
   ]
  },
  {
   "cell_type": "code",
   "execution_count": 13,
   "metadata": {
    "colab": {
     "base_uri": "https://localhost:8080/",
     "height": 687
    },
    "id": "KPlBX0wV8gv9",
    "outputId": "c144beec-9c58-4b6d-9b85-bc46de6d383e"
   },
   "outputs": [
    {
     "data": {
      "text/html": [
       "<div>\n",
       "<style scoped>\n",
       "    .dataframe tbody tr th:only-of-type {\n",
       "        vertical-align: middle;\n",
       "    }\n",
       "\n",
       "    .dataframe tbody tr th {\n",
       "        vertical-align: top;\n",
       "    }\n",
       "\n",
       "    .dataframe thead th {\n",
       "        text-align: right;\n",
       "    }\n",
       "</style>\n",
       "<table border=\"1\" class=\"dataframe\">\n",
       "  <thead>\n",
       "    <tr style=\"text-align: right;\">\n",
       "      <th></th>\n",
       "      <th>userName</th>\n",
       "      <th>userImage</th>\n",
       "      <th>content</th>\n",
       "      <th>score</th>\n",
       "      <th>thumbsUpCount</th>\n",
       "      <th>reviewCreatedVersion</th>\n",
       "      <th>at</th>\n",
       "      <th>replyContent</th>\n",
       "      <th>repliedAt</th>\n",
       "      <th>sortOrder</th>\n",
       "      <th>appId</th>\n",
       "    </tr>\n",
       "  </thead>\n",
       "  <tbody>\n",
       "    <tr>\n",
       "      <th>0</th>\n",
       "      <td>Andrew Thomas</td>\n",
       "      <td>https://lh3.googleusercontent.com/a-/AOh14GiHd...</td>\n",
       "      <td>Update: After getting a response from the deve...</td>\n",
       "      <td>1</td>\n",
       "      <td>21</td>\n",
       "      <td>4.17.0.3</td>\n",
       "      <td>2020-04-05 22:25:57</td>\n",
       "      <td>According to our TOS, and the term you have ag...</td>\n",
       "      <td>2020-04-05 15:10:24</td>\n",
       "      <td>most_relevant</td>\n",
       "      <td>com.anydo</td>\n",
       "    </tr>\n",
       "    <tr>\n",
       "      <th>1</th>\n",
       "      <td>Craig Haines</td>\n",
       "      <td>https://lh3.googleusercontent.com/-hoe0kwSJgPQ...</td>\n",
       "      <td>Used it for a fair amount of time without any ...</td>\n",
       "      <td>1</td>\n",
       "      <td>11</td>\n",
       "      <td>4.17.0.3</td>\n",
       "      <td>2020-04-04 13:40:01</td>\n",
       "      <td>It sounds like you logged in with a different ...</td>\n",
       "      <td>2020-04-05 15:11:35</td>\n",
       "      <td>most_relevant</td>\n",
       "      <td>com.anydo</td>\n",
       "    </tr>\n",
       "    <tr>\n",
       "      <th>2</th>\n",
       "      <td>steven adkins</td>\n",
       "      <td>https://lh3.googleusercontent.com/a-/AOh14GiXw...</td>\n",
       "      <td>Your app sucks now!!!!! Used to be good but no...</td>\n",
       "      <td>1</td>\n",
       "      <td>17</td>\n",
       "      <td>4.17.0.3</td>\n",
       "      <td>2020-04-01 16:18:13</td>\n",
       "      <td>This sounds odd! We are not aware of any issue...</td>\n",
       "      <td>2020-04-02 16:05:56</td>\n",
       "      <td>most_relevant</td>\n",
       "      <td>com.anydo</td>\n",
       "    </tr>\n",
       "    <tr>\n",
       "      <th>3</th>\n",
       "      <td>Lars Panzerbjørn</td>\n",
       "      <td>https://lh3.googleusercontent.com/a-/AOh14Gg-h...</td>\n",
       "      <td>It seems OK, but very basic. Recurring tasks n...</td>\n",
       "      <td>1</td>\n",
       "      <td>192</td>\n",
       "      <td>4.17.0.2</td>\n",
       "      <td>2020-03-12 08:17:34</td>\n",
       "      <td>We do offer this option as part of the Advance...</td>\n",
       "      <td>2020-03-15 06:20:13</td>\n",
       "      <td>most_relevant</td>\n",
       "      <td>com.anydo</td>\n",
       "    </tr>\n",
       "    <tr>\n",
       "      <th>4</th>\n",
       "      <td>Scott Prewitt</td>\n",
       "      <td>https://lh3.googleusercontent.com/-K-X1-YsVd6U...</td>\n",
       "      <td>Absolutely worthless. This app runs a prohibit...</td>\n",
       "      <td>1</td>\n",
       "      <td>42</td>\n",
       "      <td>4.17.0.2</td>\n",
       "      <td>2020-03-14 17:41:01</td>\n",
       "      <td>We're sorry you feel this way! 90% of the app ...</td>\n",
       "      <td>2020-03-15 23:45:51</td>\n",
       "      <td>most_relevant</td>\n",
       "      <td>com.anydo</td>\n",
       "    </tr>\n",
       "  </tbody>\n",
       "</table>\n",
       "</div>"
      ],
      "text/plain": [
       "           userName                                          userImage  \\\n",
       "0     Andrew Thomas  https://lh3.googleusercontent.com/a-/AOh14GiHd...   \n",
       "1      Craig Haines  https://lh3.googleusercontent.com/-hoe0kwSJgPQ...   \n",
       "2     steven adkins  https://lh3.googleusercontent.com/a-/AOh14GiXw...   \n",
       "3  Lars Panzerbjørn  https://lh3.googleusercontent.com/a-/AOh14Gg-h...   \n",
       "4     Scott Prewitt  https://lh3.googleusercontent.com/-K-X1-YsVd6U...   \n",
       "\n",
       "                                             content  score  thumbsUpCount  \\\n",
       "0  Update: After getting a response from the deve...      1             21   \n",
       "1  Used it for a fair amount of time without any ...      1             11   \n",
       "2  Your app sucks now!!!!! Used to be good but no...      1             17   \n",
       "3  It seems OK, but very basic. Recurring tasks n...      1            192   \n",
       "4  Absolutely worthless. This app runs a prohibit...      1             42   \n",
       "\n",
       "  reviewCreatedVersion                   at  \\\n",
       "0             4.17.0.3  2020-04-05 22:25:57   \n",
       "1             4.17.0.3  2020-04-04 13:40:01   \n",
       "2             4.17.0.3  2020-04-01 16:18:13   \n",
       "3             4.17.0.2  2020-03-12 08:17:34   \n",
       "4             4.17.0.2  2020-03-14 17:41:01   \n",
       "\n",
       "                                        replyContent            repliedAt  \\\n",
       "0  According to our TOS, and the term you have ag...  2020-04-05 15:10:24   \n",
       "1  It sounds like you logged in with a different ...  2020-04-05 15:11:35   \n",
       "2  This sounds odd! We are not aware of any issue...  2020-04-02 16:05:56   \n",
       "3  We do offer this option as part of the Advance...  2020-03-15 06:20:13   \n",
       "4  We're sorry you feel this way! 90% of the app ...  2020-03-15 23:45:51   \n",
       "\n",
       "       sortOrder      appId  \n",
       "0  most_relevant  com.anydo  \n",
       "1  most_relevant  com.anydo  \n",
       "2  most_relevant  com.anydo  \n",
       "3  most_relevant  com.anydo  \n",
       "4  most_relevant  com.anydo  "
      ]
     },
     "execution_count": 13,
     "metadata": {},
     "output_type": "execute_result"
    }
   ],
   "source": [
    "import pandas as pd\n",
    "# Armar el dataset\n",
    "df = pd.read_csv('reviews.csv')\n",
    "df.head()\n",
    "\n",
    "# Solo nos vamos a quedar con el texto de la review."
   ]
  },
  {
   "cell_type": "code",
   "execution_count": 14,
   "metadata": {
    "colab": {
     "base_uri": "https://localhost:8080/"
    },
    "id": "loFa9OgIROfi",
    "outputId": "2f1e4089-4956-40ad-a9b7-a126df74d0f0"
   },
   "outputs": [
    {
     "name": "stdout",
     "output_type": "stream",
     "text": [
      "Cantidad de críticas: 15746\n"
     ]
    }
   ],
   "source": [
    "print(\"Cantidad de críticas:\", len(df))"
   ]
  },
  {
   "cell_type": "code",
   "execution_count": 15,
   "metadata": {
    "colab": {
     "base_uri": "https://localhost:8080/",
     "height": 354
    },
    "id": "fpwgmwN4W549",
    "outputId": "00d06044-a31b-461b-c00a-b0efec18071b"
   },
   "outputs": [
    {
     "data": {
      "image/png": "[encoded data removed]",
      "text/plain": [
       "<Figure size 640x480 with 1 Axes>"
      ]
     },
     "metadata": {},
     "output_type": "display_data"
    }
   ],
   "source": [
    "# ¿Cómo están balanceados los datos?\n",
    "sns.countplot(x=df.score);\n",
    "\n",
    "# Tiene 5 clases, de 1 a 5, la del medio es mayoritaria. Se puede restructurar el problema colapsando 1 o 2 a malo, 4 y 5 en bueno"
   ]
  },
  {
   "cell_type": "markdown",
   "metadata": {},
   "source": [
    "Se tiene un score que va desde 1 a 5, es decir 5 posibles calificaciones. "
   ]
  },
  {
   "cell_type": "markdown",
   "metadata": {
    "id": "BCO209z59D7C"
   },
   "source": [
    "## Limpieza de datos"
   ]
  },
  {
   "cell_type": "markdown",
   "metadata": {},
   "source": [
    "Se van a condensar los resultados de 1 y 2 en 0, y de 4 y 5 en 2, dejando el score de 3 como 1. De esta manera se convierte la cantidad de clases en 3 siendo estas:\n",
    "\n",
    "- negative\n",
    "- neutral\n",
    "- positive"
   ]
  },
  {
   "cell_type": "code",
   "execution_count": 16,
   "metadata": {
    "id": "dE572tLfXKCX"
   },
   "outputs": [],
   "source": [
    "# Balancear los datos\n",
    "df['sentiment'] = df.score.apply(lambda x: 0 if x <=2 else 1 if x == 3 else 2)\n",
    "class_names = ['negative', 'neutral', 'positive']"
   ]
  },
  {
   "cell_type": "code",
   "execution_count": 17,
   "metadata": {
    "colab": {
     "base_uri": "https://localhost:8080/",
     "height": 335
    },
    "id": "gpz0sNGnXahV",
    "outputId": "42ef0edd-1115-405f-c3cf-c043b9203bfd"
   },
   "outputs": [
    {
     "name": "stderr",
     "output_type": "stream",
     "text": [
      "/var/folders/rz/52wvyybx3618hlzk3v9hjvdc0000gn/T/ipykernel_12401/3945955594.py:3: UserWarning: FixedFormatter should only be used together with FixedLocator\n",
      "  ax.set_xticklabels(class_names);\n"
     ]
    },
    {
     "data": {
      "image/png": "[encoded data removed]",
      "text/plain": [
       "<Figure size 640x480 with 1 Axes>"
      ]
     },
     "metadata": {},
     "output_type": "display_data"
    }
   ],
   "source": [
    "ax = sns.countplot(x='sentiment', data=df)\n",
    "plt.xlabel('review sentiment')\n",
    "ax.set_xticklabels(class_names);"
   ]
  },
  {
   "cell_type": "code",
   "execution_count": 18,
   "metadata": {},
   "outputs": [
    {
     "data": {
      "text/plain": [
       "array([0, 1, 2])"
      ]
     },
     "execution_count": 18,
     "metadata": {},
     "output_type": "execute_result"
    }
   ],
   "source": [
    "# Se observa que ahora los valores único son solo 3\n",
    "df['sentiment'].unique()"
   ]
  },
  {
   "cell_type": "code",
   "execution_count": 19,
   "metadata": {
    "colab": {
     "base_uri": "https://localhost:8080/"
    },
    "id": "KaRGx3pW9fyx",
    "outputId": "961089db-9571-438c-f45c-e9bba1bde6e7"
   },
   "outputs": [
    {
     "name": "stdout",
     "output_type": "stream",
     "text": [
      "sentences shape: (15746,)\n"
     ]
    },
    {
     "data": {
      "text/plain": [
       "array([\"Update: After getting a response from the developer I would change my rating to 0 stars if possible. These guys hide behind confusing and opaque terms and refuse to budge at all. I'm so annoyed that my money has been lost to them! Really terrible customer experience. Original: Be very careful when signing up for a free trial of this app. If you happen to go over they automatically charge you for a full years subscription and refuse to refund. Terrible customer experience and the app is just OK.\",\n",
       "       'Used it for a fair amount of time without any problems. Suddenly then asked me to create an account or log using Google or FB. I used my Google one only to discover everything was gone!',\n",
       "       \"Your app sucks now!!!!! Used to be good but now doesn't update until I physically open it up and then close it then scroll and then it finally shows what I want to put on the list!!!!!! And I FRIGGEN paid for this garbage!!!!!!!\"],\n",
       "      dtype=object)"
      ]
     },
     "execution_count": 19,
     "metadata": {},
     "output_type": "execute_result"
    }
   ],
   "source": [
    "sentences = df['content'].values\n",
    "print(\"sentences shape:\", sentences.shape)\n",
    "sentences[:3]"
   ]
  },
  {
   "cell_type": "code",
   "execution_count": 20,
   "metadata": {
    "colab": {
     "base_uri": "https://localhost:8080/",
     "height": 358
    },
    "id": "PXdyAh6NYpSx",
    "outputId": "a1d56be2-18f5-4754-b78b-3ee9f873b36e"
   },
   "outputs": [
    {
     "name": "stdout",
     "output_type": "stream",
     "text": [
      "Median: 139.0\n"
     ]
    },
    {
     "name": "stderr",
     "output_type": "stream",
     "text": [
      "/Users/victordavidsilva/tensorflow-test/env/lib/python3.8/site-packages/seaborn/axisgrid.py:123: UserWarning: The figure layout has changed to tight\n",
      "  self._figure.tight_layout(*args, **kwargs)\n"
     ]
    },
    {
     "data": {
      "image/png": "[encoded data removed]",
      "text/plain": [
       "<Figure size 500x500 with 1 Axes>"
      ]
     },
     "metadata": {},
     "output_type": "display_data"
    }
   ],
   "source": [
    "sentence_lens = []\n",
    "\n",
    "for sentence in sentences:\n",
    "  sentence_lens.append(len(sentence))\n",
    "\n",
    "print(\"Median:\", np.median(sentence_lens))\n",
    "sns.displot(sentence_lens);"
   ]
  },
  {
   "cell_type": "code",
   "execution_count": 21,
   "metadata": {},
   "outputs": [],
   "source": [
    "from tensorflow.keras.utils import to_categorical"
   ]
  },
  {
   "cell_type": "code",
   "execution_count": 22,
   "metadata": {
    "colab": {
     "base_uri": "https://localhost:8080/"
    },
    "id": "c26zJ7qUAV4F",
    "outputId": "f1f9eadd-430e-407a-99c2-ae079f21708a"
   },
   "outputs": [
    {
     "name": "stdout",
     "output_type": "stream",
     "text": [
      "y shape: (15746,)\n",
      "[[1. 0. 0.]\n",
      " [1. 0. 0.]\n",
      " [1. 0. 0.]]\n",
      "output shape: 3\n"
     ]
    }
   ],
   "source": [
    "y = df['sentiment'].values\n",
    "print(\"y shape:\", y.shape)\n",
    "y = to_categorical(y)\n",
    "print(y[:3])\n",
    "output_shape = y.shape[1]\n",
    "print(\"output shape:\", output_shape)\n",
    "\n",
    "# Transformamos en vectores OHE"
   ]
  },
  {
   "cell_type": "markdown",
   "metadata": {
    "id": "qvoZ8YlK0vOQ"
   },
   "source": [
    "## 1 - Data generator\n"
   ]
  },
  {
   "cell_type": "code",
   "execution_count": 23,
   "metadata": {},
   "outputs": [],
   "source": [
    "from transformers import InputExample, InputFeatures  # Métodos para transformar el dataset, codifica el modelo para lo que espera en la entrada\n",
    "from transformers import BertTokenizer\n",
    "import numpy as np"
   ]
  },
  {
   "cell_type": "code",
   "execution_count": 24,
   "metadata": {},
   "outputs": [
    {
     "name": "stderr",
     "output_type": "stream",
     "text": [
      "/Users/victordavidsilva/tensorflow-test/env/lib/python3.8/site-packages/transformers/tokenization_utils_base.py:1601: FutureWarning: `clean_up_tokenization_spaces` was not set. It will be set to `True` by default. This behavior will be depracted in transformers v4.45, and will be then set to `False` by default. For more details check this issue: https://github.com/huggingface/transformers/issues/31884\n",
      "  warnings.warn(\n"
     ]
    }
   ],
   "source": [
    "# Muy importante que para tensorflow los modelos Bert deben empezar con \"TF\"\n",
    "# de lo contrario estaremos utilizando un modelo para pytorch\n",
    "\n",
    "# Descargamos el modelo base de BERT más liviano y su correspondiente tokenizer\n",
    "bert_tokenizer = BertTokenizer.from_pretrained(\"bert-base-uncased\")"
   ]
  },
  {
   "cell_type": "code",
   "execution_count": 25,
   "metadata": {
    "id": "rYnD8msegnSI"
   },
   "outputs": [],
   "source": [
    "# Del dataset original accederemos a los datos por índices (idx)\n",
    "# mezclados aleatoriamente\n",
    "from sklearn.model_selection import train_test_split\n",
    "max_length = 140 # BERT soporta máximo 512\n",
    "indices = np.arange(len(sentences)) # Le vamos a pasar una función, esto es útil cuando no se pueden tener todos los datos en RAM, sino que los inyecta de a poco en batches \n",
    "idx_train_val, idx_test = train_test_split(indices, test_size=0.2, random_state=42)\n",
    "idx_train, idx_val = train_test_split(idx_train_val, test_size=0.2, random_state=42)\n",
    "# Hacemos 2 splits porque tenemos train, val, test.\n",
    "# Va a consumir los índices y va a saber que pasarle como train y que como val"
   ]
  },
  {
   "cell_type": "code",
   "execution_count": 26,
   "metadata": {
    "colab": {
     "base_uri": "https://localhost:8080/"
    },
    "id": "5Hm0jGD-j32e",
    "outputId": "82f903b1-90cd-447b-ffe0-9fa65248bbe6"
   },
   "outputs": [
    {
     "name": "stdout",
     "output_type": "stream",
     "text": [
      "Cantidad de índices de train:  10076\n",
      "Cantidad de índices de val:  2520\n",
      "Cantidad de índices de test:  3150\n"
     ]
    }
   ],
   "source": [
    "print('Cantidad de índices de train: ', idx_train.shape[0])\n",
    "print('Cantidad de índices de val: ', idx_val.shape[0])\n",
    "print('Cantidad de índices de test: ', idx_test.shape[0])"
   ]
  },
  {
   "cell_type": "code",
   "execution_count": 27,
   "metadata": {
    "id": "MMfyhfKqfs6G"
   },
   "outputs": [],
   "source": [
    "\n",
    "def convert_data_to_examples(text, labels, idx_train, idx_val):\n",
    "    # Armamos un \"InputExample\" para los datos de entrenamiento y validación\n",
    "    train_InputExamples = [InputExample(guid=None, # Globally unique ID for bookkeeping, unused in this case\n",
    "                                                          text_a = text[i], \n",
    "                                                          text_b = None, # BERT podría tomar 2 textos serparados y podía unirlos con un token especial de separación. Pero en text b no ponemos nada\n",
    "                                                          label = labels[i]) for i in idx_train]\n",
    "\n",
    "    validation_InputExamples = [InputExample(guid=None, # Globally unique ID for bookkeeping, unused in this case\n",
    "                                                          text_a = text[i],\n",
    "                                                          text_b = None,\n",
    "                                                          label = labels[i]) for i in idx_val]\n",
    "  \n",
    "    return train_InputExamples, validation_InputExamples\n",
    "\n",
    "# Consume la lista anterior y el tokenizador de bert \n",
    "def convert_examples_to_tf_dataset(examples, bert_tokenizer, max_length=512):\n",
    "    # Transformamos los datos de entrada en tensores de:\n",
    "    # input_ids --> token id\n",
    "    # attention_mask\n",
    "    # token type\n",
    "    features = []\n",
    "\n",
    "    for e in examples:\n",
    "        # Documentation is really strong for this method, so please take a look at it\n",
    "        input_dict = bert_tokenizer.encode_plus(\n",
    "            e.text_a,\n",
    "            add_special_tokens=True,\n",
    "            max_length=max_length, # truncates if len(s) > max_length\n",
    "            return_token_type_ids=False,\n",
    "            return_attention_mask=True,\n",
    "            padding='max_length', # pads to the right by default # CHECK THIS for pad_to_max_length\n",
    "            truncation=True\n",
    "        )\n",
    "\n",
    "        input_ids, attention_mask = (input_dict[\"input_ids\"], input_dict['attention_mask'])\n",
    "\n",
    "        features.append(\n",
    "            InputFeatures(\n",
    "                input_ids=input_ids, attention_mask=attention_mask, label=e.label\n",
    "            )\n",
    "        )\n",
    "\n",
    "    def gen():\n",
    "    # Función generadora para no levantar todos los datos en un instante, devuelve una tupla con la palabra yield (como un return), que mantiene la memoria del estado anterior, menteniendo el for activo.\n",
    "        for f in features:\n",
    "            yield (\n",
    "                {\n",
    "                    \"input_ids\": f.input_ids,\n",
    "                    \"attention_mask\": f.attention_mask,\n",
    "                },\n",
    "                f.label,\n",
    "            )\n",
    "\n",
    "    return tensorflow.data.Dataset.from_generator(\n",
    "        # Tensorflow dataset generator (basado en el generador y en el esquema de datos definido)\n",
    "        gen,\n",
    "        ({\"input_ids\": tensorflow.int32, \"attention_mask\": tensorflow.int32}, tensorflow.float32), # Le definimos el tipo de datos de la salida\n",
    "        (\n",
    "            {\n",
    "                \"input_ids\": tensorflow.TensorShape([None]),\n",
    "                \"attention_mask\": tensorflow.TensorShape([None]),\n",
    "            },\n",
    "            tensorflow.TensorShape([output_shape]), # Le damos el shape\n",
    "        ),\n",
    "    )"
   ]
  },
  {
   "cell_type": "code",
   "execution_count": 28,
   "metadata": {
    "colab": {
     "base_uri": "https://localhost:8080/"
    },
    "id": "VXrlV-xPiebq",
    "outputId": "224c55dc-5ddb-4c01-c804-0b4ebe4eb8c4"
   },
   "outputs": [],
   "source": [
    "train_InputExamples, validation_InputExamples = convert_data_to_examples(sentences, y, idx_train, idx_val)\n",
    "\n",
    "# Entran los ejemplos de train\n",
    "train_data = convert_examples_to_tf_dataset(list(train_InputExamples), bert_tokenizer, max_length=max_length)\n",
    "# shuffle 100 --> mezcla los datos y los lee a de 100 unidades\n",
    "# batch 32 --> ejecuta una epoca de entrenamiento de a 32 unidades\n",
    "train_data = train_data.shuffle(100).batch(32) # Podemos configurar el tamaño de batch y mezclamos de a 100 datos\n",
    "\n",
    "# Entran los ejemplos de val\n",
    "validation_data = convert_examples_to_tf_dataset(list(validation_InputExamples), bert_tokenizer, max_length=max_length)\n",
    "validation_data = validation_data.batch(32)"
   ]
  },
  {
   "cell_type": "code",
   "execution_count": 29,
   "metadata": {
    "colab": {
     "base_uri": "https://localhost:8080/"
    },
    "id": "aQV1WrdKFJnF",
    "outputId": "eccbd408-606b-4b67-aeba-36d5c42825f4"
   },
   "outputs": [],
   "source": [
    "pred_sentences = [sentences[i] for i in idx_test]\n",
    "tf_batch = bert_tokenizer(pred_sentences, max_length=max_length, padding=True, truncation=True, return_tensors='tf')"
   ]
  },
  {
   "cell_type": "code",
   "execution_count": 30,
   "metadata": {
    "id": "ZUBLlpH0GAVE"
   },
   "outputs": [],
   "source": [
    "X_test = [tf_batch['input_ids'],  \n",
    "          tf_batch['attention_mask']]"
   ]
  },
  {
   "cell_type": "code",
   "execution_count": 31,
   "metadata": {
    "id": "3E-z51xls0lH"
   },
   "outputs": [],
   "source": [
    "y_test = y[idx_test]"
   ]
  },
  {
   "cell_type": "markdown",
   "metadata": {
    "id": "kNinUuS6nqRJ"
   },
   "source": [
    "## 2 - BERT multiclass classification"
   ]
  },
  {
   "cell_type": "code",
   "execution_count": 32,
   "metadata": {
    "colab": {
     "base_uri": "https://localhost:8080/"
    },
    "id": "aQKTqv20j5kA",
    "outputId": "c513e516-0a71-4920-f17b-8fcc9a449627"
   },
   "outputs": [
    {
     "name": "stdout",
     "output_type": "stream",
     "text": [
      "Epoch 1/15\n"
     ]
    },
    {
     "name": "stderr",
     "output_type": "stream",
     "text": [
      "2024-09-02 00:46:54.271394: I tensorflow/core/grappler/optimizers/custom_graph_optimizer_registry.cc:114] Plugin optimizer for device_type GPU is enabled.\n"
     ]
    },
    {
     "name": "stdout",
     "output_type": "stream",
     "text": [
      "    315/Unknown - 589s 2s/step - loss: 1.0888 - accuracy: 0.4114 - f1_score: 0.4005"
     ]
    },
    {
     "name": "stderr",
     "output_type": "stream",
     "text": [
      "2024-09-02 00:56:37.497503: I tensorflow/core/framework/local_rendezvous.cc:405] Local rendezvous recv item cancelled. Key hash: 6542594443337906228\n",
      "2024-09-02 00:56:37.497518: I tensorflow/core/framework/local_rendezvous.cc:409] Local rendezvous send item cancelled. Key hash: 6895404632516362648\n",
      "2024-09-02 00:56:37.497522: I tensorflow/core/framework/local_rendezvous.cc:409] Local rendezvous send item cancelled. Key hash: 12639364136862208858\n",
      "2024-09-02 00:56:37.497527: I tensorflow/core/framework/local_rendezvous.cc:405] Local rendezvous recv item cancelled. Key hash: 12040820831486062102\n",
      "2024-09-02 00:56:37.497534: I tensorflow/core/framework/local_rendezvous.cc:405] Local rendezvous recv item cancelled. Key hash: 1646376563683037001\n",
      "2024-09-02 00:56:37.497538: I tensorflow/core/framework/local_rendezvous.cc:409] Local rendezvous send item cancelled. Key hash: 17197503309902027329\n",
      "2024-09-02 00:56:37.497543: I tensorflow/core/framework/local_rendezvous.cc:405] Local rendezvous recv item cancelled. Key hash: 8814179221757978145\n",
      "2024-09-02 00:56:37.497546: I tensorflow/core/framework/local_rendezvous.cc:409] Local rendezvous send item cancelled. Key hash: 6670018017989820353\n",
      "2024-09-02 00:56:39.192304: I tensorflow/core/grappler/optimizers/custom_graph_optimizer_registry.cc:114] Plugin optimizer for device_type GPU is enabled.\n"
     ]
    },
    {
     "name": "stdout",
     "output_type": "stream",
     "text": [
      "315/315 [==============================] - 717s 2s/step - loss: 1.0888 - accuracy: 0.4114 - f1_score: 0.4005 - val_loss: 1.0165 - val_accuracy: 0.5135 - val_f1_score: 0.4168\n",
      "Epoch 2/15\n"
     ]
    },
    {
     "name": "stderr",
     "output_type": "stream",
     "text": [
      "2024-09-02 00:58:45.646556: I tensorflow/core/framework/local_rendezvous.cc:409] Local rendezvous send item cancelled. Key hash: 5250296378596274543\n",
      "2024-09-02 00:58:45.646575: I tensorflow/core/framework/local_rendezvous.cc:405] Local rendezvous recv item cancelled. Key hash: 238875010729898560\n",
      "2024-09-02 00:58:45.646588: I tensorflow/core/framework/local_rendezvous.cc:405] Local rendezvous recv item cancelled. Key hash: 10992924547540763622\n",
      "2024-09-02 00:58:45.646594: I tensorflow/core/framework/local_rendezvous.cc:405] Local rendezvous recv item cancelled. Key hash: 8847862888222847777\n",
      "2024-09-02 00:58:45.646604: I tensorflow/core/framework/local_rendezvous.cc:409] Local rendezvous send item cancelled. Key hash: 10599490762642113681\n",
      "2024-09-02 00:58:45.646610: I tensorflow/core/framework/local_rendezvous.cc:405] Local rendezvous recv item cancelled. Key hash: 13182090183190362964\n",
      "2024-09-02 00:58:45.646623: I tensorflow/core/framework/local_rendezvous.cc:405] Local rendezvous recv item cancelled. Key hash: 15728097484791998395\n",
      "2024-09-02 00:58:45.646641: I tensorflow/core/framework/local_rendezvous.cc:405] Local rendezvous recv item cancelled. Key hash: 16372778060706270845\n",
      "2024-09-02 00:58:45.646650: I tensorflow/core/framework/local_rendezvous.cc:405] Local rendezvous recv item cancelled. Key hash: 10260099592664477619\n"
     ]
    },
    {
     "name": "stdout",
     "output_type": "stream",
     "text": [
      "315/315 [==============================] - 631s 2s/step - loss: 1.0191 - accuracy: 0.4835 - f1_score: 0.4705 - val_loss: 0.9604 - val_accuracy: 0.5429 - val_f1_score: 0.5112\n",
      "Epoch 3/15\n",
      "315/315 [==============================] - 449s 1s/step - loss: 0.9804 - accuracy: 0.5193 - f1_score: 0.5068 - val_loss: 0.9471 - val_accuracy: 0.5345 - val_f1_score: 0.4842\n",
      "Epoch 4/15\n",
      "315/315 [==============================] - 448s 1s/step - loss: 0.9589 - accuracy: 0.5298 - f1_score: 0.5177 - val_loss: 0.9183 - val_accuracy: 0.5552 - val_f1_score: 0.5419\n",
      "Epoch 5/15\n",
      "315/315 [==============================] - 463s 1s/step - loss: 0.9479 - accuracy: 0.5392 - f1_score: 0.5273 - val_loss: 0.9184 - val_accuracy: 0.5619 - val_f1_score: 0.4925\n",
      "Epoch 6/15\n",
      "315/315 [==============================] - 471s 1s/step - loss: 0.9335 - accuracy: 0.5423 - f1_score: 0.5312 - val_loss: 0.8889 - val_accuracy: 0.5754 - val_f1_score: 0.5337\n",
      "Epoch 7/15\n",
      "315/315 [==============================] - 470s 1s/step - loss: 0.9264 - accuracy: 0.5533 - f1_score: 0.5431 - val_loss: 0.8764 - val_accuracy: 0.5798 - val_f1_score: 0.5591\n",
      "Epoch 8/15\n",
      "315/315 [==============================] - 471s 1s/step - loss: 0.9246 - accuracy: 0.5574 - f1_score: 0.5477 - val_loss: 0.8781 - val_accuracy: 0.5762 - val_f1_score: 0.5296\n",
      "Epoch 9/15\n",
      "315/315 [==============================] - 468s 1s/step - loss: 0.9151 - accuracy: 0.5530 - f1_score: 0.5417 - val_loss: 0.8845 - val_accuracy: 0.5706 - val_f1_score: 0.5030\n",
      "Epoch 10/15\n",
      "315/315 [==============================] - 469s 1s/step - loss: 0.9083 - accuracy: 0.5615 - f1_score: 0.5514 - val_loss: 0.8647 - val_accuracy: 0.5718 - val_f1_score: 0.5295\n",
      "Epoch 11/15\n",
      "315/315 [==============================] - 467s 1s/step - loss: 0.9058 - accuracy: 0.5593 - f1_score: 0.5488 - val_loss: 0.8655 - val_accuracy: 0.5762 - val_f1_score: 0.5262\n",
      "Epoch 12/15\n",
      "315/315 [==============================] - 467s 1s/step - loss: 0.9057 - accuracy: 0.5643 - f1_score: 0.5541 - val_loss: 0.8599 - val_accuracy: 0.5821 - val_f1_score: 0.5436\n",
      "Epoch 13/15\n",
      "315/315 [==============================] - 469s 1s/step - loss: 0.8958 - accuracy: 0.5705 - f1_score: 0.5605 - val_loss: 0.8591 - val_accuracy: 0.5806 - val_f1_score: 0.5397\n",
      "Epoch 14/15\n",
      "315/315 [==============================] - 469s 1s/step - loss: 0.9007 - accuracy: 0.5678 - f1_score: 0.5583 - val_loss: 0.8550 - val_accuracy: 0.5869 - val_f1_score: 0.5561\n",
      "Epoch 15/15\n",
      "315/315 [==============================] - 469s 1s/step - loss: 0.8927 - accuracy: 0.5728 - f1_score: 0.5628 - val_loss: 0.8489 - val_accuracy: 0.5897 - val_f1_score: 0.5696\n"
     ]
    }
   ],
   "source": [
    "history1 = model1.fit(train_data, epochs=15, validation_data=validation_data)"
   ]
  },
  {
   "cell_type": "code",
   "execution_count": 33,
   "metadata": {
    "colab": {
     "base_uri": "https://localhost:8080/",
     "height": 265
    },
    "id": "qj2dAl-tnxY-",
    "outputId": "b7975840-720c-44e6-ba18-736088540703"
   },
   "outputs": [
    {
     "data": {
      "image/png": "[encoded data removed]",
      "text/plain": [
       "<Figure size 640x480 with 1 Axes>"
      ]
     },
     "metadata": {},
     "output_type": "display_data"
    }
   ],
   "source": [
    "plot_train_metrics(history1)"
   ]
  },
  {
   "cell_type": "code",
   "execution_count": 34,
   "metadata": {
    "colab": {
     "base_uri": "https://localhost:8080/"
    },
    "id": "HILK90qzn-kL",
    "outputId": "34985136-0e6f-4693-dcc4-c52c5ea77f4a"
   },
   "outputs": [
    {
     "name": "stderr",
     "output_type": "stream",
     "text": [
      "2024-09-02 02:50:07.313579: I tensorflow/core/grappler/optimizers/custom_graph_optimizer_registry.cc:114] Plugin optimizer for device_type GPU is enabled.\n"
     ]
    },
    {
     "name": "stdout",
     "output_type": "stream",
     "text": [
      "99/99 [==============================] - 114s 1s/step\n"
     ]
    },
    {
     "data": {
      "text/plain": [
       "array([[0.47575778, 0.3741772 , 0.150065  ],\n",
       "       [0.5134585 , 0.24298671, 0.24355477],\n",
       "       [0.17447296, 0.4015517 , 0.4239754 ]], dtype=float32)"
      ]
     },
     "execution_count": 34,
     "metadata": {},
     "output_type": "execute_result"
    }
   ],
   "source": [
    "y_hat_prob1 = model1.predict(X_test)\n",
    "y_hat_prob1[:3]"
   ]
  },
  {
   "cell_type": "code",
   "execution_count": 35,
   "metadata": {
    "id": "kwSvM4-koOdz"
   },
   "outputs": [],
   "source": [
    "y_hat1 = np.argmax(y_hat_prob1, axis=1)"
   ]
  },
  {
   "cell_type": "code",
   "execution_count": 36,
   "metadata": {
    "colab": {
     "base_uri": "https://localhost:8080/"
    },
    "id": "tSNbyLNYwdqQ",
    "outputId": "a432dc0b-96ae-43af-da62-2a739a20761a"
   },
   "outputs": [
    {
     "name": "stderr",
     "output_type": "stream",
     "text": [
      "2024-09-02 02:52:01.070443: I tensorflow/core/grappler/optimizers/custom_graph_optimizer_registry.cc:114] Plugin optimizer for device_type GPU is enabled.\n"
     ]
    },
    {
     "name": "stdout",
     "output_type": "stream",
     "text": [
      "99/99 [==============================] - 116s 1s/step - loss: 0.8516 - accuracy: 0.6019 - f1_score: 0.5808\n"
     ]
    },
    {
     "data": {
      "text/plain": [
       "0.6019047498703003"
      ]
     },
     "execution_count": 36,
     "metadata": {},
     "output_type": "execute_result"
    }
   ],
   "source": [
    "# Calcular la exactitud (accuracy), podemos ver también el F1 Macro score\n",
    "scores = model1.evaluate(X_test, y_test)\n",
    "scores[1]"
   ]
  },
  {
   "cell_type": "code",
   "execution_count": 37,
   "metadata": {
    "colab": {
     "base_uri": "https://localhost:8080/",
     "height": 279
    },
    "id": "mGzdpPfcwlRL",
    "outputId": "4eaa89a1-c601-4a3b-cb0c-6e1cb940d8b5"
   },
   "outputs": [
    {
     "data": {
      "image/png": "[encoded data removed]",
      "text/plain": [
       "<Figure size 640x480 with 2 Axes>"
      ]
     },
     "metadata": {},
     "output_type": "display_data"
    }
   ],
   "source": [
    "from sklearn.metrics import confusion_matrix, ConfusionMatrixDisplay\n",
    "cm1 = confusion_matrix(y_test.argmax(axis=1), y_hat1)\n",
    "cmd1 = ConfusionMatrixDisplay(cm1, display_labels=list(range(3)))\n",
    "cmd1.plot(cmap=plt.cm.Blues)\n",
    "plt.show()"
   ]
  },
  {
   "cell_type": "markdown",
   "metadata": {},
   "source": [
    "Se observa que se tuvo buenos resultados para perdecir que son valores positivo o negativos, pero no así tan bien con los comentarios neutrales."
   ]
  },
  {
   "cell_type": "markdown",
   "metadata": {
    "id": "OYN9aJGYA-d2"
   },
   "source": [
    "## Ensayo"
   ]
  },
  {
   "cell_type": "code",
   "execution_count": 38,
   "metadata": {
    "colab": {
     "base_uri": "https://localhost:8080/"
    },
    "id": "9ML7P5X8BAJe",
    "outputId": "530aa003-98a0-458e-c4c1-16d602a44003"
   },
   "outputs": [
    {
     "name": "stdout",
     "output_type": "stream",
     "text": [
      "Inputs ids: tf.Tensor(\n",
      "[[  101  1045  2293  2023 10439   999   102     0     0     0     0     0\n",
      "      0     0     0     0     0     0     0     0     0     0     0     0\n",
      "      0     0     0     0     0     0     0     0     0     0     0     0\n",
      "      0     0     0     0     0     0     0     0     0     0     0     0\n",
      "      0     0     0     0     0     0     0     0     0     0     0     0\n",
      "      0     0     0     0     0     0     0     0     0     0     0     0\n",
      "      0     0     0     0     0     0     0     0     0     0     0     0\n",
      "      0     0     0     0     0     0     0     0     0     0     0     0\n",
      "      0     0     0     0     0     0     0     0     0     0     0     0\n",
      "      0     0     0     0     0     0     0     0     0     0     0     0\n",
      "      0     0     0     0     0     0     0     0     0     0     0     0\n",
      "      0     0     0     0     0     0     0     0]], shape=(1, 140), dtype=int32)\n",
      "Attention mask: tf.Tensor(\n",
      "[[1 1 1 1 1 1 1 0 0 0 0 0 0 0 0 0 0 0 0 0 0 0 0 0 0 0 0 0 0 0 0 0 0 0 0 0\n",
      "  0 0 0 0 0 0 0 0 0 0 0 0 0 0 0 0 0 0 0 0 0 0 0 0 0 0 0 0 0 0 0 0 0 0 0 0\n",
      "  0 0 0 0 0 0 0 0 0 0 0 0 0 0 0 0 0 0 0 0 0 0 0 0 0 0 0 0 0 0 0 0 0 0 0 0\n",
      "  0 0 0 0 0 0 0 0 0 0 0 0 0 0 0 0 0 0 0 0 0 0 0 0 0 0 0 0 0 0 0 0]], shape=(1, 140), dtype=int32)\n"
     ]
    },
    {
     "name": "stderr",
     "output_type": "stream",
     "text": [
      "/Users/victordavidsilva/tensorflow-test/env/lib/python3.8/site-packages/transformers/tokenization_utils_base.py:2870: FutureWarning: The `pad_to_max_length` argument is deprecated and will be removed in a future version, use `padding=True` or `padding='longest'` to pad to the longest sequence in the batch, or use `padding='max_length'` to pad to a max length. In this case, you can give a specific length with `max_length` (e.g. `max_length=45`) or leave max_length to None to pad to the maximal input size of the model (e.g. 512 for Bert).\n",
      "  warnings.warn(\n"
     ]
    }
   ],
   "source": [
    "text = \"I love this app!\"\n",
    "\n",
    "#tf_batch = bert_tokenizer(text, max_length=max_length, padding=True, truncation=True, return_tensors='tf')\n",
    "\n",
    "tf_batch = bert_tokenizer.encode_plus(\n",
    "    text,\n",
    "    add_special_tokens=True,\n",
    "    max_length=max_length, # truncates if len(s) > max_length\n",
    "    return_token_type_ids=False,\n",
    "    return_attention_mask=True,\n",
    "    pad_to_max_length=True, # pads to the right by default # CHECK THIS for pad_to_max_length\n",
    "    truncation=True,\n",
    "    return_tensors='tf'\n",
    ")\n",
    "\n",
    "print(\"Inputs ids:\", tf_batch['input_ids']);\n",
    "print(\"Attention mask:\", tf_batch['attention_mask']);"
   ]
  },
  {
   "cell_type": "code",
   "execution_count": 39,
   "metadata": {
    "id": "VVOTfMhHBURv"
   },
   "outputs": [],
   "source": [
    "X_ensayo = [tf_batch['input_ids'],  \n",
    "          tf_batch['attention_mask']]"
   ]
  },
  {
   "cell_type": "code",
   "execution_count": 40,
   "metadata": {
    "colab": {
     "base_uri": "https://localhost:8080/"
    },
    "id": "HWFX-xFcBDRV",
    "outputId": "0abc67f6-62b5-4199-d73b-5c1efd3a94ae"
   },
   "outputs": [
    {
     "name": "stdout",
     "output_type": "stream",
     "text": [
      "1/1 [==============================] - 4s 4s/step\n",
      "Clasificación: positive\n"
     ]
    }
   ],
   "source": [
    "y_prob_ensayo = model1.predict(X_ensayo)\n",
    "y_prob = np.argmax(y_prob_ensayo, axis=1)\n",
    "print(\"Clasificación:\", class_names[int(y_prob)]);"
   ]
  },
  {
   "cell_type": "code",
   "execution_count": 41,
   "metadata": {},
   "outputs": [
    {
     "name": "stdout",
     "output_type": "stream",
     "text": [
      "Inputs ids: tf.Tensor(\n",
      "[[  101  1045  5223  2023 10439   999   102     0     0     0     0     0\n",
      "      0     0     0     0     0     0     0     0     0     0     0     0\n",
      "      0     0     0     0     0     0     0     0     0     0     0     0\n",
      "      0     0     0     0     0     0     0     0     0     0     0     0\n",
      "      0     0     0     0     0     0     0     0     0     0     0     0\n",
      "      0     0     0     0     0     0     0     0     0     0     0     0\n",
      "      0     0     0     0     0     0     0     0     0     0     0     0\n",
      "      0     0     0     0     0     0     0     0     0     0     0     0\n",
      "      0     0     0     0     0     0     0     0     0     0     0     0\n",
      "      0     0     0     0     0     0     0     0     0     0     0     0\n",
      "      0     0     0     0     0     0     0     0     0     0     0     0\n",
      "      0     0     0     0     0     0     0     0]], shape=(1, 140), dtype=int32)\n",
      "Attention mask: tf.Tensor(\n",
      "[[1 1 1 1 1 1 1 0 0 0 0 0 0 0 0 0 0 0 0 0 0 0 0 0 0 0 0 0 0 0 0 0 0 0 0 0\n",
      "  0 0 0 0 0 0 0 0 0 0 0 0 0 0 0 0 0 0 0 0 0 0 0 0 0 0 0 0 0 0 0 0 0 0 0 0\n",
      "  0 0 0 0 0 0 0 0 0 0 0 0 0 0 0 0 0 0 0 0 0 0 0 0 0 0 0 0 0 0 0 0 0 0 0 0\n",
      "  0 0 0 0 0 0 0 0 0 0 0 0 0 0 0 0 0 0 0 0 0 0 0 0 0 0 0 0 0 0 0 0]], shape=(1, 140), dtype=int32)\n"
     ]
    }
   ],
   "source": [
    "text = \"I hate this app!\"\n",
    "\n",
    "#tf_batch = bert_tokenizer(text, max_length=max_length, padding=True, truncation=True, return_tensors='tf')\n",
    "\n",
    "tf_batch = bert_tokenizer.encode_plus(\n",
    "    text,\n",
    "    add_special_tokens=True,\n",
    "    max_length=max_length, # truncates if len(s) > max_length\n",
    "    return_token_type_ids=False,\n",
    "    return_attention_mask=True,\n",
    "    pad_to_max_length=True, # pads to the right by default # CHECK THIS for pad_to_max_length\n",
    "    truncation=True,\n",
    "    return_tensors='tf'\n",
    ")\n",
    "\n",
    "print(\"Inputs ids:\", tf_batch['input_ids']);\n",
    "print(\"Attention mask:\", tf_batch['attention_mask']);"
   ]
  },
  {
   "cell_type": "code",
   "execution_count": 42,
   "metadata": {},
   "outputs": [],
   "source": [
    "X_ensayo = [tf_batch['input_ids'],  \n",
    "          tf_batch['attention_mask']]"
   ]
  },
  {
   "cell_type": "code",
   "execution_count": 43,
   "metadata": {},
   "outputs": [
    {
     "name": "stdout",
     "output_type": "stream",
     "text": [
      "1/1 [==============================] - 0s 497ms/step\n",
      "Clasificación: negative\n"
     ]
    }
   ],
   "source": [
    "y_prob_ensayo = model1.predict(X_ensayo)\n",
    "y_prob = np.argmax(y_prob_ensayo, axis=1)\n",
    "print(\"Clasificación:\", class_names[int(y_prob)]);"
   ]
  },
  {
   "cell_type": "code",
   "execution_count": 44,
   "metadata": {},
   "outputs": [
    {
     "name": "stdout",
     "output_type": "stream",
     "text": [
      "Inputs ids: tf.Tensor(\n",
      "[[ 101 2009 2573 2004 3517 1010 2021 2009 1521 1055 2498 2569  102    0\n",
      "     0    0    0    0    0    0    0    0    0    0    0    0    0    0\n",
      "     0    0    0    0    0    0    0    0    0    0    0    0    0    0\n",
      "     0    0    0    0    0    0    0    0    0    0    0    0    0    0\n",
      "     0    0    0    0    0    0    0    0    0    0    0    0    0    0\n",
      "     0    0    0    0    0    0    0    0    0    0    0    0    0    0\n",
      "     0    0    0    0    0    0    0    0    0    0    0    0    0    0\n",
      "     0    0    0    0    0    0    0    0    0    0    0    0    0    0\n",
      "     0    0    0    0    0    0    0    0    0    0    0    0    0    0\n",
      "     0    0    0    0    0    0    0    0    0    0    0    0    0    0]], shape=(1, 140), dtype=int32)\n",
      "Attention mask: tf.Tensor(\n",
      "[[1 1 1 1 1 1 1 1 1 1 1 1 1 0 0 0 0 0 0 0 0 0 0 0 0 0 0 0 0 0 0 0 0 0 0 0\n",
      "  0 0 0 0 0 0 0 0 0 0 0 0 0 0 0 0 0 0 0 0 0 0 0 0 0 0 0 0 0 0 0 0 0 0 0 0\n",
      "  0 0 0 0 0 0 0 0 0 0 0 0 0 0 0 0 0 0 0 0 0 0 0 0 0 0 0 0 0 0 0 0 0 0 0 0\n",
      "  0 0 0 0 0 0 0 0 0 0 0 0 0 0 0 0 0 0 0 0 0 0 0 0 0 0 0 0 0 0 0 0]], shape=(1, 140), dtype=int32)\n"
     ]
    }
   ],
   "source": [
    "text = \"It works as expected, but it’s nothing special\"\n",
    "\n",
    "#tf_batch = bert_tokenizer(text, max_length=max_length, padding=True, truncation=True, return_tensors='tf')\n",
    "\n",
    "tf_batch = bert_tokenizer.encode_plus(\n",
    "    text,\n",
    "    add_special_tokens=True,\n",
    "    max_length=max_length, # truncates if len(s) > max_length\n",
    "    return_token_type_ids=False,\n",
    "    return_attention_mask=True,\n",
    "    pad_to_max_length=True, # pads to the right by default # CHECK THIS for pad_to_max_length\n",
    "    truncation=True,\n",
    "    return_tensors='tf'\n",
    ")\n",
    "\n",
    "print(\"Inputs ids:\", tf_batch['input_ids']);\n",
    "print(\"Attention mask:\", tf_batch['attention_mask']);"
   ]
  },
  {
   "cell_type": "code",
   "execution_count": 45,
   "metadata": {},
   "outputs": [],
   "source": [
    "X_ensayo = [tf_batch['input_ids'],  \n",
    "          tf_batch['attention_mask']]"
   ]
  },
  {
   "cell_type": "code",
   "execution_count": 46,
   "metadata": {},
   "outputs": [
    {
     "name": "stdout",
     "output_type": "stream",
     "text": [
      "1/1 [==============================] - 1s 522ms/step\n",
      "Clasificación: neutral\n"
     ]
    }
   ],
   "source": [
    "y_prob_ensayo = model1.predict(X_ensayo)\n",
    "y_prob = np.argmax(y_prob_ensayo, axis=1)\n",
    "print(\"Clasificación:\", class_names[int(y_prob)]);"
   ]
  },
  {
   "cell_type": "markdown",
   "metadata": {},
   "source": [
    "En estos 3 casos, se observa que el positivo y el negativo fueron correctamente predichos, pero en cambio, en el neutral como que tiene a ser postivo fue tomado como este."
   ]
  },
  {
   "cell_type": "markdown",
   "metadata": {},
   "source": [
    "# Modelo 2: \n",
    "\n",
    "- 3 clases de salida\n",
    "- 1 capa densa adicional"
   ]
  },
  {
   "cell_type": "markdown",
   "metadata": {},
   "source": [
    "### Creación de modelo"
   ]
  },
  {
   "cell_type": "code",
   "execution_count": 47,
   "metadata": {},
   "outputs": [],
   "source": [
    "# Vamos a clasificar en 3 clases como en el modelo anterior\n",
    "output_shape = 3\n",
    "\n",
    "bert_model.bert.trainable = False # bert_model está empaquetado, pero se pueden acceder a algunos atributos. Por default está en TRUE\n",
    "\n",
    "# Se definen las 2 capas de entrada de BERT\n",
    "input_ids = tensorflow.keras.layers.Input(shape=(max_length,), dtype=tensorflow.int32, name='input_ids')\n",
    "attention_mask = tensorflow.keras.layers.Input(shape=(max_length,), dtype=tensorflow.int32, name='attention_mask')\n",
    "\n",
    "\n",
    "outputs = bert_model(input_ids, attention_mask=attention_mask)\n",
    "\n",
    "# Usamos el condensado de toda la secuencia que armo BERT\n",
    "pooled_output = outputs.pooler_output\n",
    "\n",
    "# Pasamos por una capa de Dropout\n",
    "x = tensorflow.keras.layers.Dropout(0.2)(pooled_output)\n",
    "\n",
    "# Se agrega otra capa densa la arquitectura\n",
    "x = tensorflow.keras.layers.Dense(128, activation='relu')(x)\n",
    "\n",
    "output = tensorflow.keras.layers.Dense(output_shape, activation='softmax')(x)\n",
    "\n",
    "# Todo el modelo va a ser lo que entra por input_ids y lo que sale por outputs\n",
    "model2 = tensorflow.keras.Model(inputs=[input_ids, attention_mask], outputs=output)\n",
    "\n",
    "model2.compile(optimizer='adam',\n",
    "              loss='categorical_crossentropy',\n",
    "              metrics=['accuracy',tensorflow.keras.metrics.F1Score(average='macro')])"
   ]
  },
  {
   "cell_type": "code",
   "execution_count": 48,
   "metadata": {},
   "outputs": [
    {
     "name": "stdout",
     "output_type": "stream",
     "text": [
      "Model: \"model_1\"\n",
      "__________________________________________________________________________________________________\n",
      " Layer (type)                Output Shape                 Param #   Connected to                  \n",
      "==================================================================================================\n",
      " input_ids (InputLayer)      [(None, 140)]                0         []                            \n",
      "                                                                                                  \n",
      " attention_mask (InputLayer  [(None, 140)]                0         []                            \n",
      " )                                                                                                \n",
      "                                                                                                  \n",
      " tf_bert_model (TFBertModel  TFBaseModelOutputWithPooli   1094822   ['input_ids[0][0]',           \n",
      " )                           ngAndCrossAttentions(last_   40         'attention_mask[0][0]']      \n",
      "                             hidden_state=(None, 140, 7                                           \n",
      "                             68),                                                                 \n",
      "                              pooler_output=(None, 768)                                           \n",
      "                             , past_key_values=None, hi                                           \n",
      "                             dden_states=None, attentio                                           \n",
      "                             ns=None, cross_attentions=                                           \n",
      "                             None)                                                                \n",
      "                                                                                                  \n",
      " dropout_38 (Dropout)        (None, 768)                  0         ['tf_bert_model[1][1]']       \n",
      "                                                                                                  \n",
      " dense_1 (Dense)             (None, 128)                  98432     ['dropout_38[0][0]']          \n",
      "                                                                                                  \n",
      " dense_2 (Dense)             (None, 3)                    387       ['dense_1[0][0]']             \n",
      "                                                                                                  \n",
      "==================================================================================================\n",
      "Total params: 109581059 (418.02 MB)\n",
      "Trainable params: 98819 (386.01 KB)\n",
      "Non-trainable params: 109482240 (417.64 MB)\n",
      "__________________________________________________________________________________________________\n"
     ]
    }
   ],
   "source": [
    "model2.summary()"
   ]
  },
  {
   "cell_type": "markdown",
   "metadata": {},
   "source": [
    "### Entrenamiento del modelo"
   ]
  },
  {
   "cell_type": "code",
   "execution_count": 49,
   "metadata": {},
   "outputs": [
    {
     "name": "stdout",
     "output_type": "stream",
     "text": [
      "Epoch 1/15\n"
     ]
    },
    {
     "name": "stderr",
     "output_type": "stream",
     "text": [
      "2024-09-02 02:54:05.986966: I tensorflow/core/grappler/optimizers/custom_graph_optimizer_registry.cc:114] Plugin optimizer for device_type GPU is enabled.\n"
     ]
    },
    {
     "name": "stdout",
     "output_type": "stream",
     "text": [
      "    315/Unknown - 392s 1s/step - loss: 1.0985 - accuracy: 0.4262 - f1_score: 0.4192"
     ]
    },
    {
     "name": "stderr",
     "output_type": "stream",
     "text": [
      "2024-09-02 03:00:33.998594: I tensorflow/core/framework/local_rendezvous.cc:409] Local rendezvous send item cancelled. Key hash: 7586384396320469288\n",
      "2024-09-02 03:00:33.998605: I tensorflow/core/framework/local_rendezvous.cc:409] Local rendezvous send item cancelled. Key hash: 11816450037858019866\n",
      "2024-09-02 03:00:33.998607: I tensorflow/core/framework/local_rendezvous.cc:409] Local rendezvous send item cancelled. Key hash: 13321914066936567118\n",
      "2024-09-02 03:00:33.998613: I tensorflow/core/framework/local_rendezvous.cc:405] Local rendezvous recv item cancelled. Key hash: 7398825903618848965\n",
      "2024-09-02 03:00:33.998616: I tensorflow/core/framework/local_rendezvous.cc:405] Local rendezvous recv item cancelled. Key hash: 17354160627502244101\n",
      "2024-09-02 03:00:33.998621: I tensorflow/core/framework/local_rendezvous.cc:405] Local rendezvous recv item cancelled. Key hash: 7890307648789648443\n",
      "2024-09-02 03:00:33.998624: I tensorflow/core/framework/local_rendezvous.cc:409] Local rendezvous send item cancelled. Key hash: 5638981608836978195\n",
      "2024-09-02 03:00:33.998628: I tensorflow/core/framework/local_rendezvous.cc:405] Local rendezvous recv item cancelled. Key hash: 8669581111050155945\n",
      "2024-09-02 03:00:34.928910: I tensorflow/core/grappler/optimizers/custom_graph_optimizer_registry.cc:114] Plugin optimizer for device_type GPU is enabled.\n"
     ]
    },
    {
     "name": "stdout",
     "output_type": "stream",
     "text": [
      "315/315 [==============================] - 488s 2s/step - loss: 1.0985 - accuracy: 0.4262 - f1_score: 0.4192 - val_loss: 0.9776 - val_accuracy: 0.5139 - val_f1_score: 0.4456\n",
      "Epoch 2/15\n"
     ]
    },
    {
     "name": "stderr",
     "output_type": "stream",
     "text": [
      "2024-09-02 03:02:09.806909: I tensorflow/core/framework/local_rendezvous.cc:409] Local rendezvous send item cancelled. Key hash: 1007217703570640938\n",
      "2024-09-02 03:02:09.806922: I tensorflow/core/framework/local_rendezvous.cc:409] Local rendezvous send item cancelled. Key hash: 15360467977220439554\n",
      "2024-09-02 03:02:09.806925: I tensorflow/core/framework/local_rendezvous.cc:409] Local rendezvous send item cancelled. Key hash: 14691343096491427606\n",
      "2024-09-02 03:02:09.806932: I tensorflow/core/framework/local_rendezvous.cc:405] Local rendezvous recv item cancelled. Key hash: 550276246584257309\n",
      "2024-09-02 03:02:09.806943: I tensorflow/core/framework/local_rendezvous.cc:405] Local rendezvous recv item cancelled. Key hash: 14896902024987686005\n",
      "2024-09-02 03:02:09.806946: I tensorflow/core/framework/local_rendezvous.cc:409] Local rendezvous send item cancelled. Key hash: 295290837402006593\n"
     ]
    },
    {
     "name": "stdout",
     "output_type": "stream",
     "text": [
      "315/315 [==============================] - 461s 1s/step - loss: 1.0069 - accuracy: 0.4835 - f1_score: 0.4704 - val_loss: 0.9119 - val_accuracy: 0.5544 - val_f1_score: 0.4956\n",
      "Epoch 3/15\n",
      "315/315 [==============================] - 463s 1s/step - loss: 0.9833 - accuracy: 0.5080 - f1_score: 0.4959 - val_loss: 0.8915 - val_accuracy: 0.5659 - val_f1_score: 0.5203\n",
      "Epoch 4/15\n",
      "315/315 [==============================] - 462s 1s/step - loss: 0.9761 - accuracy: 0.5186 - f1_score: 0.5078 - val_loss: 0.8935 - val_accuracy: 0.5583 - val_f1_score: 0.4709\n",
      "Epoch 5/15\n",
      "315/315 [==============================] - 461s 1s/step - loss: 0.9552 - accuracy: 0.5295 - f1_score: 0.5174 - val_loss: 0.8825 - val_accuracy: 0.5599 - val_f1_score: 0.4719\n",
      "Epoch 6/15\n",
      "315/315 [==============================] - 462s 1s/step - loss: 0.9374 - accuracy: 0.5383 - f1_score: 0.5277 - val_loss: 1.0070 - val_accuracy: 0.4944 - val_f1_score: 0.4468\n",
      "Epoch 7/15\n",
      "315/315 [==============================] - 461s 1s/step - loss: 0.9390 - accuracy: 0.5381 - f1_score: 0.5282 - val_loss: 0.8498 - val_accuracy: 0.5857 - val_f1_score: 0.5824\n",
      "Epoch 8/15\n",
      "315/315 [==============================] - 461s 1s/step - loss: 0.9721 - accuracy: 0.5366 - f1_score: 0.5283 - val_loss: 0.9165 - val_accuracy: 0.5560 - val_f1_score: 0.5256\n",
      "Epoch 9/15\n",
      "315/315 [==============================] - 461s 1s/step - loss: 0.9710 - accuracy: 0.5298 - f1_score: 0.5216 - val_loss: 0.8696 - val_accuracy: 0.5651 - val_f1_score: 0.5624\n",
      "Epoch 10/15\n",
      "315/315 [==============================] - 462s 1s/step - loss: 1.0350 - accuracy: 0.5251 - f1_score: 0.5161 - val_loss: 0.8827 - val_accuracy: 0.5774 - val_f1_score: 0.5779\n",
      "Epoch 11/15\n",
      "315/315 [==============================] - 462s 1s/step - loss: 0.9430 - accuracy: 0.5454 - f1_score: 0.5359 - val_loss: 0.8748 - val_accuracy: 0.5750 - val_f1_score: 0.5223\n",
      "Epoch 12/15\n",
      "315/315 [==============================] - 461s 1s/step - loss: 0.9370 - accuracy: 0.5522 - f1_score: 0.5435 - val_loss: 1.0364 - val_accuracy: 0.5504 - val_f1_score: 0.4653\n",
      "Epoch 13/15\n",
      "315/315 [==============================] - 459s 1s/step - loss: 0.9506 - accuracy: 0.5482 - f1_score: 0.5392 - val_loss: 0.8684 - val_accuracy: 0.5742 - val_f1_score: 0.5594\n",
      "Epoch 14/15\n",
      "315/315 [==============================] - 459s 1s/step - loss: 0.9506 - accuracy: 0.5425 - f1_score: 0.5338 - val_loss: 0.8408 - val_accuracy: 0.5853 - val_f1_score: 0.5738\n",
      "Epoch 15/15\n",
      "315/315 [==============================] - 461s 1s/step - loss: 0.9327 - accuracy: 0.5554 - f1_score: 0.5469 - val_loss: 0.8638 - val_accuracy: 0.5778 - val_f1_score: 0.5603\n"
     ]
    }
   ],
   "source": [
    "history2 = model2.fit(train_data, epochs=15, validation_data=validation_data)"
   ]
  },
  {
   "cell_type": "code",
   "execution_count": 50,
   "metadata": {},
   "outputs": [
    {
     "data": {
      "image/png": "[encoded data removed]",
      "text/plain": [
       "<Figure size 640x480 with 1 Axes>"
      ]
     },
     "metadata": {},
     "output_type": "display_data"
    }
   ],
   "source": [
    "plot_train_metrics(history2)"
   ]
  },
  {
   "cell_type": "code",
   "execution_count": 51,
   "metadata": {},
   "outputs": [
    {
     "name": "stderr",
     "output_type": "stream",
     "text": [
      "2024-09-02 04:49:47.959188: I tensorflow/core/grappler/optimizers/custom_graph_optimizer_registry.cc:114] Plugin optimizer for device_type GPU is enabled.\n"
     ]
    },
    {
     "name": "stdout",
     "output_type": "stream",
     "text": [
      "99/99 [==============================] - 122s 1s/step\n"
     ]
    },
    {
     "data": {
      "text/plain": [
       "array([[0.30561477, 0.44214627, 0.252239  ],\n",
       "       [0.3924988 , 0.28855932, 0.31894186],\n",
       "       [0.05825378, 0.36060917, 0.581137  ]], dtype=float32)"
      ]
     },
     "execution_count": 51,
     "metadata": {},
     "output_type": "execute_result"
    }
   ],
   "source": [
    "y_hat_prob2 = model2.predict(X_test)\n",
    "y_hat_prob2[:3]"
   ]
  },
  {
   "cell_type": "code",
   "execution_count": 52,
   "metadata": {},
   "outputs": [],
   "source": [
    "y_hat2 = np.argmax(y_hat_prob2, axis=1)"
   ]
  },
  {
   "cell_type": "code",
   "execution_count": 53,
   "metadata": {},
   "outputs": [
    {
     "name": "stderr",
     "output_type": "stream",
     "text": [
      "2024-09-02 04:51:49.757425: I tensorflow/core/grappler/optimizers/custom_graph_optimizer_registry.cc:114] Plugin optimizer for device_type GPU is enabled.\n"
     ]
    },
    {
     "name": "stdout",
     "output_type": "stream",
     "text": [
      "99/99 [==============================] - 125s 1s/step - loss: 0.8741 - accuracy: 0.5781 - f1_score: 0.5538\n"
     ]
    },
    {
     "data": {
      "text/plain": [
       "0.5780952572822571"
      ]
     },
     "execution_count": 53,
     "metadata": {},
     "output_type": "execute_result"
    }
   ],
   "source": [
    "# Calcular la exactitud (accuracy), podemos ver también el F1 Macro score\n",
    "scores2 = model2.evaluate(X_test, y_test)\n",
    "scores2[1]"
   ]
  },
  {
   "cell_type": "code",
   "execution_count": 54,
   "metadata": {},
   "outputs": [
    {
     "data": {
      "image/png": "[encoded data removed]",
      "text/plain": [
       "<Figure size 640x480 with 2 Axes>"
      ]
     },
     "metadata": {},
     "output_type": "display_data"
    }
   ],
   "source": [
    "cm2 = confusion_matrix(y_test.argmax(axis=1), y_hat2)\n",
    "cmd2 = ConfusionMatrixDisplay(cm2, display_labels=list(range(3)))\n",
    "cmd2.plot(cmap=plt.cm.Blues)\n",
    "plt.show()"
   ]
  },
  {
   "cell_type": "markdown",
   "metadata": {},
   "source": [
    "### Evaluación"
   ]
  },
  {
   "cell_type": "code",
   "execution_count": 55,
   "metadata": {},
   "outputs": [
    {
     "name": "stdout",
     "output_type": "stream",
     "text": [
      "Inputs ids: tf.Tensor(\n",
      "[[  101  1045  2293  2023 10439   999   102     0     0     0     0     0\n",
      "      0     0     0     0     0     0     0     0     0     0     0     0\n",
      "      0     0     0     0     0     0     0     0     0     0     0     0\n",
      "      0     0     0     0     0     0     0     0     0     0     0     0\n",
      "      0     0     0     0     0     0     0     0     0     0     0     0\n",
      "      0     0     0     0     0     0     0     0     0     0     0     0\n",
      "      0     0     0     0     0     0     0     0     0     0     0     0\n",
      "      0     0     0     0     0     0     0     0     0     0     0     0\n",
      "      0     0     0     0     0     0     0     0     0     0     0     0\n",
      "      0     0     0     0     0     0     0     0     0     0     0     0\n",
      "      0     0     0     0     0     0     0     0     0     0     0     0\n",
      "      0     0     0     0     0     0     0     0]], shape=(1, 140), dtype=int32)\n",
      "Attention mask: tf.Tensor(\n",
      "[[1 1 1 1 1 1 1 0 0 0 0 0 0 0 0 0 0 0 0 0 0 0 0 0 0 0 0 0 0 0 0 0 0 0 0 0\n",
      "  0 0 0 0 0 0 0 0 0 0 0 0 0 0 0 0 0 0 0 0 0 0 0 0 0 0 0 0 0 0 0 0 0 0 0 0\n",
      "  0 0 0 0 0 0 0 0 0 0 0 0 0 0 0 0 0 0 0 0 0 0 0 0 0 0 0 0 0 0 0 0 0 0 0 0\n",
      "  0 0 0 0 0 0 0 0 0 0 0 0 0 0 0 0 0 0 0 0 0 0 0 0 0 0 0 0 0 0 0 0]], shape=(1, 140), dtype=int32)\n"
     ]
    },
    {
     "name": "stderr",
     "output_type": "stream",
     "text": [
      "/Users/victordavidsilva/tensorflow-test/env/lib/python3.8/site-packages/transformers/tokenization_utils_base.py:2870: FutureWarning: The `pad_to_max_length` argument is deprecated and will be removed in a future version, use `padding=True` or `padding='longest'` to pad to the longest sequence in the batch, or use `padding='max_length'` to pad to a max length. In this case, you can give a specific length with `max_length` (e.g. `max_length=45`) or leave max_length to None to pad to the maximal input size of the model (e.g. 512 for Bert).\n",
      "  warnings.warn(\n"
     ]
    }
   ],
   "source": [
    "text = \"I love this app!\"\n",
    "\n",
    "#tf_batch = bert_tokenizer(text, max_length=max_length, padding=True, truncation=True, return_tensors='tf')\n",
    "\n",
    "tf_batch = bert_tokenizer.encode_plus(\n",
    "    text,\n",
    "    add_special_tokens=True,\n",
    "    max_length=max_length, # truncates if len(s) > max_length\n",
    "    return_token_type_ids=False,\n",
    "    return_attention_mask=True,\n",
    "    pad_to_max_length=True, # pads to the right by default # CHECK THIS for pad_to_max_length\n",
    "    truncation=True,\n",
    "    return_tensors='tf'\n",
    ")\n",
    "\n",
    "print(\"Inputs ids:\", tf_batch['input_ids']);\n",
    "print(\"Attention mask:\", tf_batch['attention_mask']);"
   ]
  },
  {
   "cell_type": "code",
   "execution_count": 56,
   "metadata": {},
   "outputs": [],
   "source": [
    "X_ensayo = [tf_batch['input_ids'],  \n",
    "          tf_batch['attention_mask']]"
   ]
  },
  {
   "cell_type": "code",
   "execution_count": 57,
   "metadata": {},
   "outputs": [
    {
     "name": "stdout",
     "output_type": "stream",
     "text": [
      "1/1 [==============================] - 7s 7s/step\n",
      "Clasificación: positive\n"
     ]
    }
   ],
   "source": [
    "y_prob_ensayo2 = model2.predict(X_ensayo)\n",
    "y_prob2 = np.argmax(y_prob_ensayo2, axis=1)\n",
    "print(\"Clasificación:\", class_names[int(y_prob2)]);"
   ]
  },
  {
   "cell_type": "code",
   "execution_count": 58,
   "metadata": {},
   "outputs": [
    {
     "name": "stdout",
     "output_type": "stream",
     "text": [
      "Inputs ids: tf.Tensor(\n",
      "[[  101  1045  5223  2023 10439   999   102     0     0     0     0     0\n",
      "      0     0     0     0     0     0     0     0     0     0     0     0\n",
      "      0     0     0     0     0     0     0     0     0     0     0     0\n",
      "      0     0     0     0     0     0     0     0     0     0     0     0\n",
      "      0     0     0     0     0     0     0     0     0     0     0     0\n",
      "      0     0     0     0     0     0     0     0     0     0     0     0\n",
      "      0     0     0     0     0     0     0     0     0     0     0     0\n",
      "      0     0     0     0     0     0     0     0     0     0     0     0\n",
      "      0     0     0     0     0     0     0     0     0     0     0     0\n",
      "      0     0     0     0     0     0     0     0     0     0     0     0\n",
      "      0     0     0     0     0     0     0     0     0     0     0     0\n",
      "      0     0     0     0     0     0     0     0]], shape=(1, 140), dtype=int32)\n",
      "Attention mask: tf.Tensor(\n",
      "[[1 1 1 1 1 1 1 0 0 0 0 0 0 0 0 0 0 0 0 0 0 0 0 0 0 0 0 0 0 0 0 0 0 0 0 0\n",
      "  0 0 0 0 0 0 0 0 0 0 0 0 0 0 0 0 0 0 0 0 0 0 0 0 0 0 0 0 0 0 0 0 0 0 0 0\n",
      "  0 0 0 0 0 0 0 0 0 0 0 0 0 0 0 0 0 0 0 0 0 0 0 0 0 0 0 0 0 0 0 0 0 0 0 0\n",
      "  0 0 0 0 0 0 0 0 0 0 0 0 0 0 0 0 0 0 0 0 0 0 0 0 0 0 0 0 0 0 0 0]], shape=(1, 140), dtype=int32)\n"
     ]
    }
   ],
   "source": [
    "text = \"I hate this app!\"\n",
    "\n",
    "#tf_batch = bert_tokenizer(text, max_length=max_length, padding=True, truncation=True, return_tensors='tf')\n",
    "\n",
    "tf_batch = bert_tokenizer.encode_plus(\n",
    "    text,\n",
    "    add_special_tokens=True,\n",
    "    max_length=max_length, # truncates if len(s) > max_length\n",
    "    return_token_type_ids=False,\n",
    "    return_attention_mask=True,\n",
    "    pad_to_max_length=True, # pads to the right by default # CHECK THIS for pad_to_max_length\n",
    "    truncation=True,\n",
    "    return_tensors='tf'\n",
    ")\n",
    "\n",
    "print(\"Inputs ids:\", tf_batch['input_ids']);\n",
    "print(\"Attention mask:\", tf_batch['attention_mask']);"
   ]
  },
  {
   "cell_type": "code",
   "execution_count": 59,
   "metadata": {},
   "outputs": [],
   "source": [
    "X_ensayo = [tf_batch['input_ids'],  \n",
    "          tf_batch['attention_mask']]"
   ]
  },
  {
   "cell_type": "code",
   "execution_count": 60,
   "metadata": {},
   "outputs": [
    {
     "name": "stdout",
     "output_type": "stream",
     "text": [
      "1/1 [==============================] - 1s 715ms/step\n",
      "Clasificación: positive\n"
     ]
    }
   ],
   "source": [
    "y_prob_ensayo2 = model2.predict(X_ensayo)\n",
    "y_prob2 = np.argmax(y_prob_ensayo2, axis=1)\n",
    "print(\"Clasificación:\", class_names[int(y_prob2)]);"
   ]
  },
  {
   "cell_type": "code",
   "execution_count": 61,
   "metadata": {},
   "outputs": [
    {
     "name": "stdout",
     "output_type": "stream",
     "text": [
      "Inputs ids: tf.Tensor(\n",
      "[[ 101 2009 2573 2004 3517 1010 2021 2009 1521 1055 2498 2569  102    0\n",
      "     0    0    0    0    0    0    0    0    0    0    0    0    0    0\n",
      "     0    0    0    0    0    0    0    0    0    0    0    0    0    0\n",
      "     0    0    0    0    0    0    0    0    0    0    0    0    0    0\n",
      "     0    0    0    0    0    0    0    0    0    0    0    0    0    0\n",
      "     0    0    0    0    0    0    0    0    0    0    0    0    0    0\n",
      "     0    0    0    0    0    0    0    0    0    0    0    0    0    0\n",
      "     0    0    0    0    0    0    0    0    0    0    0    0    0    0\n",
      "     0    0    0    0    0    0    0    0    0    0    0    0    0    0\n",
      "     0    0    0    0    0    0    0    0    0    0    0    0    0    0]], shape=(1, 140), dtype=int32)\n",
      "Attention mask: tf.Tensor(\n",
      "[[1 1 1 1 1 1 1 1 1 1 1 1 1 0 0 0 0 0 0 0 0 0 0 0 0 0 0 0 0 0 0 0 0 0 0 0\n",
      "  0 0 0 0 0 0 0 0 0 0 0 0 0 0 0 0 0 0 0 0 0 0 0 0 0 0 0 0 0 0 0 0 0 0 0 0\n",
      "  0 0 0 0 0 0 0 0 0 0 0 0 0 0 0 0 0 0 0 0 0 0 0 0 0 0 0 0 0 0 0 0 0 0 0 0\n",
      "  0 0 0 0 0 0 0 0 0 0 0 0 0 0 0 0 0 0 0 0 0 0 0 0 0 0 0 0 0 0 0 0]], shape=(1, 140), dtype=int32)\n"
     ]
    }
   ],
   "source": [
    "text = \"It works as expected, but it’s nothing special\"\n",
    "\n",
    "#tf_batch = bert_tokenizer(text, max_length=max_length, padding=True, truncation=True, return_tensors='tf')\n",
    "\n",
    "tf_batch = bert_tokenizer.encode_plus(\n",
    "    text,\n",
    "    add_special_tokens=True,\n",
    "    max_length=max_length, # truncates if len(s) > max_length\n",
    "    return_token_type_ids=False,\n",
    "    return_attention_mask=True,\n",
    "    pad_to_max_length=True, # pads to the right by default # CHECK THIS for pad_to_max_length\n",
    "    truncation=True,\n",
    "    return_tensors='tf'\n",
    ")\n",
    "\n",
    "print(\"Inputs ids:\", tf_batch['input_ids']);\n",
    "print(\"Attention mask:\", tf_batch['attention_mask']);"
   ]
  },
  {
   "cell_type": "code",
   "execution_count": 62,
   "metadata": {},
   "outputs": [],
   "source": [
    "X_ensayo = [tf_batch['input_ids'],  \n",
    "          tf_batch['attention_mask']]"
   ]
  },
  {
   "cell_type": "code",
   "execution_count": 63,
   "metadata": {},
   "outputs": [
    {
     "name": "stdout",
     "output_type": "stream",
     "text": [
      "1/1 [==============================] - 1s 1s/step\n",
      "Clasificación: neutral\n"
     ]
    }
   ],
   "source": [
    "y_prob_ensayo2 = model2.predict(X_ensayo)\n",
    "y_prob2 = np.argmax(y_prob_ensayo2, axis=1)\n",
    "print(\"Clasificación:\", class_names[int(y_prob2)]);"
   ]
  },
  {
   "cell_type": "markdown",
   "metadata": {},
   "source": [
    "En estos 3 casos, se observa que el positivo y el negativo fueron correctamente predichos, pero en cambio, en el neutral como que tiene a ser postivo fue tomado como este."
   ]
  },
  {
   "cell_type": "markdown",
   "metadata": {},
   "source": [
    "# Modelo 3:\n",
    "\n",
    "- 5 clases de salida"
   ]
  },
  {
   "cell_type": "markdown",
   "metadata": {},
   "source": [
    "### Creación del modelo"
   ]
  },
  {
   "cell_type": "code",
   "execution_count": 64,
   "metadata": {},
   "outputs": [],
   "source": [
    "# Vamos a clasificar en 5 clases\n",
    "output_shape = 5\n",
    "\n",
    "bert_model.bert.trainable = False # bert_model está empaquetado, pero se pueden acceder a algunos atributos. Por default está en TRUE\n",
    "\n",
    "# Se definen las 2 capas de entrada de BERT\n",
    "input_ids = tensorflow.keras.layers.Input(shape=(max_length,), dtype=tensorflow.int32, name='input_ids')\n",
    "attention_mask = tensorflow.keras.layers.Input(shape=(max_length,), dtype=tensorflow.int32, name='attention_mask')\n",
    "\n",
    "\n",
    "outputs = bert_model(input_ids, attention_mask=attention_mask)\n",
    "\n",
    "# Usamos el condensado de toda la secuencia que armo BERT\n",
    "pooled_output = outputs.pooler_output\n",
    "\n",
    "# Pasamos por una capa de Dropout\n",
    "x = tensorflow.keras.layers.Dropout(0.2)(pooled_output)\n",
    "output = tensorflow.keras.layers.Dense(output_shape, activation='softmax')(x)\n",
    "\n",
    "# Todo el modelo va a ser lo que entra por input_ids y lo que sale por outputs\n",
    "model3 = tensorflow.keras.Model(inputs=[input_ids, attention_mask], outputs=output)\n",
    "\n",
    "model3.compile(optimizer='adam',\n",
    "              loss='categorical_crossentropy',\n",
    "              metrics=['accuracy',tensorflow.keras.metrics.F1Score(average='macro')])"
   ]
  },
  {
   "cell_type": "code",
   "execution_count": 65,
   "metadata": {},
   "outputs": [
    {
     "name": "stdout",
     "output_type": "stream",
     "text": [
      "Model: \"model_2\"\n",
      "__________________________________________________________________________________________________\n",
      " Layer (type)                Output Shape                 Param #   Connected to                  \n",
      "==================================================================================================\n",
      " input_ids (InputLayer)      [(None, 140)]                0         []                            \n",
      "                                                                                                  \n",
      " attention_mask (InputLayer  [(None, 140)]                0         []                            \n",
      " )                                                                                                \n",
      "                                                                                                  \n",
      " tf_bert_model (TFBertModel  TFBaseModelOutputWithPooli   1094822   ['input_ids[0][0]',           \n",
      " )                           ngAndCrossAttentions(last_   40         'attention_mask[0][0]']      \n",
      "                             hidden_state=(None, 140, 7                                           \n",
      "                             68),                                                                 \n",
      "                              pooler_output=(None, 768)                                           \n",
      "                             , past_key_values=None, hi                                           \n",
      "                             dden_states=None, attentio                                           \n",
      "                             ns=None, cross_attentions=                                           \n",
      "                             None)                                                                \n",
      "                                                                                                  \n",
      " dropout_39 (Dropout)        (None, 768)                  0         ['tf_bert_model[2][1]']       \n",
      "                                                                                                  \n",
      " dense_3 (Dense)             (None, 5)                    3845      ['dropout_39[0][0]']          \n",
      "                                                                                                  \n",
      "==================================================================================================\n",
      "Total params: 109486085 (417.66 MB)\n",
      "Trainable params: 3845 (15.02 KB)\n",
      "Non-trainable params: 109482240 (417.64 MB)\n",
      "__________________________________________________________________________________________________\n"
     ]
    }
   ],
   "source": [
    "model3.summary()"
   ]
  },
  {
   "cell_type": "markdown",
   "metadata": {},
   "source": [
    "### Datos para 5 clases"
   ]
  },
  {
   "cell_type": "code",
   "execution_count": 66,
   "metadata": {},
   "outputs": [],
   "source": [
    "# Armar el dataset nuevamente pero ahora dejamos las 5 clases\n",
    "# Solo nos vamos a quedar con el texto de la review.\n",
    "df5 = pd.read_csv('reviews.csv')"
   ]
  },
  {
   "cell_type": "code",
   "execution_count": 67,
   "metadata": {},
   "outputs": [],
   "source": [
    "# Balancear los datos\n",
    "df5['sentiment'] = df5['score']-1\n",
    "class_names = ['very negative', 'negative', 'neutral', 'positive', 'very positive']"
   ]
  },
  {
   "cell_type": "code",
   "execution_count": 68,
   "metadata": {},
   "outputs": [
    {
     "data": {
      "text/plain": [
       "array([0, 1, 2, 3, 4])"
      ]
     },
     "execution_count": 68,
     "metadata": {},
     "output_type": "execute_result"
    }
   ],
   "source": [
    "# Se observa que ahora los valores únicos son 5\n",
    "df5['sentiment'].unique()"
   ]
  },
  {
   "cell_type": "code",
   "execution_count": 69,
   "metadata": {},
   "outputs": [
    {
     "name": "stderr",
     "output_type": "stream",
     "text": [
      "/var/folders/rz/52wvyybx3618hlzk3v9hjvdc0000gn/T/ipykernel_12401/3497894424.py:3: UserWarning: FixedFormatter should only be used together with FixedLocator\n",
      "  ax.set_xticklabels(class_names);\n"
     ]
    },
    {
     "data": {
      "image/png": "[encoded data removed]",
      "text/plain": [
       "<Figure size 640x480 with 1 Axes>"
      ]
     },
     "metadata": {},
     "output_type": "display_data"
    }
   ],
   "source": [
    "ax = sns.countplot(x='sentiment', data=df5)\n",
    "plt.xlabel('review sentiment')\n",
    "ax.set_xticklabels(class_names);"
   ]
  },
  {
   "cell_type": "code",
   "execution_count": 70,
   "metadata": {},
   "outputs": [
    {
     "name": "stdout",
     "output_type": "stream",
     "text": [
      "sentences shape: (15746,)\n"
     ]
    },
    {
     "data": {
      "text/plain": [
       "array([\"Update: After getting a response from the developer I would change my rating to 0 stars if possible. These guys hide behind confusing and opaque terms and refuse to budge at all. I'm so annoyed that my money has been lost to them! Really terrible customer experience. Original: Be very careful when signing up for a free trial of this app. If you happen to go over they automatically charge you for a full years subscription and refuse to refund. Terrible customer experience and the app is just OK.\",\n",
       "       'Used it for a fair amount of time without any problems. Suddenly then asked me to create an account or log using Google or FB. I used my Google one only to discover everything was gone!',\n",
       "       \"Your app sucks now!!!!! Used to be good but now doesn't update until I physically open it up and then close it then scroll and then it finally shows what I want to put on the list!!!!!! And I FRIGGEN paid for this garbage!!!!!!!\"],\n",
       "      dtype=object)"
      ]
     },
     "execution_count": 70,
     "metadata": {},
     "output_type": "execute_result"
    }
   ],
   "source": [
    "sentences = df5['content'].values\n",
    "print(\"sentences shape:\", sentences.shape)\n",
    "sentences[:3]"
   ]
  },
  {
   "cell_type": "code",
   "execution_count": 71,
   "metadata": {},
   "outputs": [
    {
     "name": "stderr",
     "output_type": "stream",
     "text": [
      "/Users/victordavidsilva/tensorflow-test/env/lib/python3.8/site-packages/seaborn/axisgrid.py:123: UserWarning: The figure layout has changed to tight\n",
      "  self._figure.tight_layout(*args, **kwargs)\n"
     ]
    },
    {
     "name": "stdout",
     "output_type": "stream",
     "text": [
      "Median: 139.0\n"
     ]
    },
    {
     "data": {
      "image/png": "[encoded data removed]",
      "text/plain": [
       "<Figure size 500x500 with 1 Axes>"
      ]
     },
     "metadata": {},
     "output_type": "display_data"
    }
   ],
   "source": [
    "sentence_lens = []\n",
    "\n",
    "for sentence in sentences:\n",
    "  sentence_lens.append(len(sentence))\n",
    "\n",
    "print(\"Median:\", np.median(sentence_lens))\n",
    "sns.displot(sentence_lens);"
   ]
  },
  {
   "cell_type": "code",
   "execution_count": 72,
   "metadata": {},
   "outputs": [
    {
     "name": "stdout",
     "output_type": "stream",
     "text": [
      "y shape: (15746,)\n",
      "[[1. 0. 0. 0. 0.]\n",
      " [1. 0. 0. 0. 0.]\n",
      " [1. 0. 0. 0. 0.]\n",
      " [1. 0. 0. 0. 0.]\n",
      " [1. 0. 0. 0. 0.]]\n",
      "output shape: 5\n"
     ]
    }
   ],
   "source": [
    "y = df5['sentiment'].values\n",
    "print(\"y shape:\", y.shape)\n",
    "y = to_categorical(y)\n",
    "print(y[:5])\n",
    "output_shape = y.shape[1]\n",
    "print(\"output shape:\", output_shape)\n",
    "\n",
    "# Transformamos en vectores OHE"
   ]
  },
  {
   "cell_type": "markdown",
   "metadata": {},
   "source": [
    "### Generador de datos"
   ]
  },
  {
   "cell_type": "code",
   "execution_count": 73,
   "metadata": {},
   "outputs": [
    {
     "name": "stderr",
     "output_type": "stream",
     "text": [
      "/Users/victordavidsilva/tensorflow-test/env/lib/python3.8/site-packages/transformers/tokenization_utils_base.py:1601: FutureWarning: `clean_up_tokenization_spaces` was not set. It will be set to `True` by default. This behavior will be depracted in transformers v4.45, and will be then set to `False` by default. For more details check this issue: https://github.com/huggingface/transformers/issues/31884\n",
      "  warnings.warn(\n"
     ]
    }
   ],
   "source": [
    "# Muy importante que para tensorflow los modelos Bert deben empezar con \"TF\"\n",
    "# de lo contrario estaremos utilizando un modelo para pytorch\n",
    "\n",
    "# Descargamos el modelo base de BERT más liviano y su correspondiente tokenizer\n",
    "bert_tokenizer3 = BertTokenizer.from_pretrained(\"bert-base-uncased\")"
   ]
  },
  {
   "cell_type": "code",
   "execution_count": 74,
   "metadata": {},
   "outputs": [],
   "source": [
    "# Del dataset original accederemos a los datos por índices (idx)\n",
    "# mezclados aleatoriamente\n",
    "max_length = 140 # BERT soporta máximo 512\n",
    "indices = np.arange(len(sentences)) # Le vamos a pasar una función, esto es útil cuando no se pueden tener todos los datos en RAM, sino que los inyecta de a poco en batches \n",
    "idx_train_val, idx_test = train_test_split(indices, test_size=0.2, random_state=42)\n",
    "idx_train, idx_val = train_test_split(idx_train_val, test_size=0.2, random_state=42)\n",
    "# Hacemos 2 splits porque tenemos train, val, test.\n",
    "# Va a consumir los índices y va a saber que pasarle como train y que como val"
   ]
  },
  {
   "cell_type": "code",
   "execution_count": 75,
   "metadata": {},
   "outputs": [
    {
     "name": "stdout",
     "output_type": "stream",
     "text": [
      "Cantidad de índices de train:  10076\n",
      "Cantidad de índices de val:  2520\n",
      "Cantidad de índices de test:  3150\n"
     ]
    }
   ],
   "source": [
    "print('Cantidad de índices de train: ', idx_train.shape[0])\n",
    "print('Cantidad de índices de val: ', idx_val.shape[0])\n",
    "print('Cantidad de índices de test: ', idx_test.shape[0])"
   ]
  },
  {
   "cell_type": "code",
   "execution_count": 76,
   "metadata": {},
   "outputs": [],
   "source": [
    "train_InputExamples, validation_InputExamples = convert_data_to_examples(sentences, y, idx_train, idx_val)\n",
    "\n",
    "# Entran los ejemplos de train\n",
    "train_data = convert_examples_to_tf_dataset(list(train_InputExamples), bert_tokenizer3, max_length=max_length)\n",
    "# shuffle 100 --> mezcla los datos y los lee a de 100 unidades\n",
    "# batch 32 --> ejecuta una epoca de entrenamiento de a 32 unidades\n",
    "train_data = train_data.shuffle(100).batch(32) # Podemos configurar el tamaño de batch y mezclamos de a 100 datos\n",
    "\n",
    "# Entran los ejemplos de val\n",
    "validation_data = convert_examples_to_tf_dataset(list(validation_InputExamples), bert_tokenizer3, max_length=max_length)\n",
    "validation_data = validation_data.batch(32)"
   ]
  },
  {
   "cell_type": "code",
   "execution_count": 77,
   "metadata": {},
   "outputs": [],
   "source": [
    "pred_sentences = [sentences[i] for i in idx_test]\n",
    "tf_batch = bert_tokenizer3(pred_sentences, max_length=max_length, padding=True, truncation=True, return_tensors='tf')"
   ]
  },
  {
   "cell_type": "code",
   "execution_count": 78,
   "metadata": {},
   "outputs": [],
   "source": [
    "X_test = [tf_batch['input_ids'],  \n",
    "          tf_batch['attention_mask']]"
   ]
  },
  {
   "cell_type": "code",
   "execution_count": 79,
   "metadata": {},
   "outputs": [],
   "source": [
    "y_test = y[idx_test]"
   ]
  },
  {
   "cell_type": "markdown",
   "metadata": {},
   "source": [
    "### Entrenamiento del modelo"
   ]
  },
  {
   "cell_type": "code",
   "execution_count": 80,
   "metadata": {},
   "outputs": [
    {
     "name": "stdout",
     "output_type": "stream",
     "text": [
      "Epoch 1/15\n"
     ]
    },
    {
     "name": "stderr",
     "output_type": "stream",
     "text": [
      "2024-09-02 04:54:16.256117: I tensorflow/core/grappler/optimizers/custom_graph_optimizer_registry.cc:114] Plugin optimizer for device_type GPU is enabled.\n"
     ]
    },
    {
     "name": "stdout",
     "output_type": "stream",
     "text": [
      "    315/Unknown - 402s 1s/step - loss: 1.5744 - accuracy: 0.3122 - f1_score: 0.2066"
     ]
    },
    {
     "name": "stderr",
     "output_type": "stream",
     "text": [
      "2024-09-02 05:00:54.803221: I tensorflow/core/framework/local_rendezvous.cc:409] Local rendezvous send item cancelled. Key hash: 4725522151263238160\n",
      "2024-09-02 05:00:54.803237: I tensorflow/core/framework/local_rendezvous.cc:409] Local rendezvous send item cancelled. Key hash: 16064867099517411306\n",
      "2024-09-02 05:00:54.803254: I tensorflow/core/framework/local_rendezvous.cc:405] Local rendezvous recv item cancelled. Key hash: 1646376563683037001\n",
      "2024-09-02 05:00:54.803259: I tensorflow/core/framework/local_rendezvous.cc:405] Local rendezvous recv item cancelled. Key hash: 2897592310104029673\n",
      "2024-09-02 05:00:54.803265: I tensorflow/core/framework/local_rendezvous.cc:405] Local rendezvous recv item cancelled. Key hash: 5756641609286744609\n",
      "2024-09-02 05:00:54.803267: I tensorflow/core/framework/local_rendezvous.cc:409] Local rendezvous send item cancelled. Key hash: 3948318973693217767\n",
      "2024-09-02 05:00:54.803269: I tensorflow/core/framework/local_rendezvous.cc:409] Local rendezvous send item cancelled. Key hash: 1839024077688708631\n",
      "2024-09-02 05:00:54.803275: I tensorflow/core/framework/local_rendezvous.cc:405] Local rendezvous recv item cancelled. Key hash: 8814179221757978145\n",
      "2024-09-02 05:00:55.880465: I tensorflow/core/grappler/optimizers/custom_graph_optimizer_registry.cc:114] Plugin optimizer for device_type GPU is enabled.\n"
     ]
    },
    {
     "name": "stdout",
     "output_type": "stream",
     "text": [
      "315/315 [==============================] - 511s 2s/step - loss: 1.5744 - accuracy: 0.3122 - f1_score: 0.2066 - val_loss: 1.5009 - val_accuracy: 0.3290 - val_f1_score: 0.2996\n",
      "Epoch 2/15\n"
     ]
    },
    {
     "name": "stderr",
     "output_type": "stream",
     "text": [
      "2024-09-02 05:02:42.896141: I tensorflow/core/framework/local_rendezvous.cc:409] Local rendezvous send item cancelled. Key hash: 14951109775954720719\n",
      "2024-09-02 05:02:42.896165: I tensorflow/core/framework/local_rendezvous.cc:405] Local rendezvous recv item cancelled. Key hash: 14804418620542832689\n",
      "2024-09-02 05:02:42.896219: I tensorflow/core/framework/local_rendezvous.cc:405] Local rendezvous recv item cancelled. Key hash: 15728097484791998395\n",
      "2024-09-02 05:02:42.896224: I tensorflow/core/framework/local_rendezvous.cc:409] Local rendezvous send item cancelled. Key hash: 4164643974447981509\n",
      "2024-09-02 05:02:42.896229: I tensorflow/core/framework/local_rendezvous.cc:405] Local rendezvous recv item cancelled. Key hash: 1478065685744021417\n",
      "2024-09-02 05:02:42.896234: I tensorflow/core/framework/local_rendezvous.cc:405] Local rendezvous recv item cancelled. Key hash: 12359392276515610810\n",
      "2024-09-02 05:02:42.896236: I tensorflow/core/framework/local_rendezvous.cc:409] Local rendezvous send item cancelled. Key hash: 6585745160936448312\n",
      "2024-09-02 05:02:42.896239: I tensorflow/core/framework/local_rendezvous.cc:405] Local rendezvous recv item cancelled. Key hash: 8984715845101963878\n",
      "2024-09-02 05:02:42.896241: I tensorflow/core/framework/local_rendezvous.cc:409] Local rendezvous send item cancelled. Key hash: 4920859450273565460\n",
      "2024-09-02 05:02:42.896245: I tensorflow/core/framework/local_rendezvous.cc:405] Local rendezvous recv item cancelled. Key hash: 238875010729898560\n"
     ]
    },
    {
     "name": "stdout",
     "output_type": "stream",
     "text": [
      "315/315 [==============================] - 463s 1s/step - loss: 1.4963 - accuracy: 0.3519 - f1_score: 0.2529 - val_loss: 1.4317 - val_accuracy: 0.4159 - val_f1_score: 0.2869\n",
      "Epoch 3/15\n",
      "315/315 [==============================] - 468s 1s/step - loss: 1.4539 - accuracy: 0.3765 - f1_score: 0.2782 - val_loss: 1.4174 - val_accuracy: 0.4067 - val_f1_score: 0.3781\n",
      "Epoch 4/15\n",
      "315/315 [==============================] - 464s 1s/step - loss: 1.4253 - accuracy: 0.3937 - f1_score: 0.3004 - val_loss: 1.4140 - val_accuracy: 0.3825 - val_f1_score: 0.2920\n",
      "Epoch 5/15\n",
      "315/315 [==============================] - 464s 1s/step - loss: 1.4106 - accuracy: 0.3979 - f1_score: 0.3132 - val_loss: 1.3807 - val_accuracy: 0.4187 - val_f1_score: 0.3264\n",
      "Epoch 6/15\n",
      "315/315 [==============================] - 463s 1s/step - loss: 1.3933 - accuracy: 0.4023 - f1_score: 0.3263 - val_loss: 1.3464 - val_accuracy: 0.4401 - val_f1_score: 0.3438\n",
      "Epoch 7/15\n",
      "315/315 [==============================] - 464s 1s/step - loss: 1.3827 - accuracy: 0.4044 - f1_score: 0.3305 - val_loss: 1.3670 - val_accuracy: 0.3817 - val_f1_score: 0.3706\n",
      "Epoch 8/15\n",
      "315/315 [==============================] - 465s 1s/step - loss: 1.3697 - accuracy: 0.4186 - f1_score: 0.3431 - val_loss: 1.3423 - val_accuracy: 0.4302 - val_f1_score: 0.3488\n",
      "Epoch 9/15\n",
      "315/315 [==============================] - 465s 1s/step - loss: 1.3686 - accuracy: 0.4189 - f1_score: 0.3517 - val_loss: 1.3205 - val_accuracy: 0.4706 - val_f1_score: 0.3734\n",
      "Epoch 10/15\n",
      "315/315 [==============================] - 462s 1s/step - loss: 1.3623 - accuracy: 0.4171 - f1_score: 0.3504 - val_loss: 1.3246 - val_accuracy: 0.4373 - val_f1_score: 0.3872\n",
      "Epoch 11/15\n",
      "315/315 [==============================] - 465s 1s/step - loss: 1.3541 - accuracy: 0.4189 - f1_score: 0.3515 - val_loss: 1.3801 - val_accuracy: 0.3496 - val_f1_score: 0.3120\n",
      "Epoch 12/15\n",
      "315/315 [==============================] - 477s 2s/step - loss: 1.3509 - accuracy: 0.4233 - f1_score: 0.3565 - val_loss: 1.3416 - val_accuracy: 0.3913 - val_f1_score: 0.3530\n",
      "Epoch 13/15\n",
      "315/315 [==============================] - 478s 2s/step - loss: 1.3461 - accuracy: 0.4268 - f1_score: 0.3617 - val_loss: 1.3401 - val_accuracy: 0.3869 - val_f1_score: 0.3570\n",
      "Epoch 14/15\n",
      "315/315 [==============================] - 475s 2s/step - loss: 1.3339 - accuracy: 0.4318 - f1_score: 0.3650 - val_loss: 1.3002 - val_accuracy: 0.4433 - val_f1_score: 0.4010\n",
      "Epoch 15/15\n",
      "315/315 [==============================] - 474s 2s/step - loss: 1.3385 - accuracy: 0.4274 - f1_score: 0.3663 - val_loss: 1.3352 - val_accuracy: 0.3778 - val_f1_score: 0.3433\n"
     ]
    }
   ],
   "source": [
    "history3 = model3.fit(train_data, epochs=15, validation_data=validation_data)"
   ]
  },
  {
   "cell_type": "code",
   "execution_count": 81,
   "metadata": {},
   "outputs": [
    {
     "data": {
      "image/png": "[encoded data removed]",
      "text/plain": [
       "<Figure size 640x480 with 1 Axes>"
      ]
     },
     "metadata": {},
     "output_type": "display_data"
    }
   ],
   "source": [
    "plot_train_metrics(history3)"
   ]
  },
  {
   "cell_type": "code",
   "execution_count": 82,
   "metadata": {},
   "outputs": [
    {
     "name": "stderr",
     "output_type": "stream",
     "text": [
      "2024-09-02 06:51:51.953797: I tensorflow/core/grappler/optimizers/custom_graph_optimizer_registry.cc:114] Plugin optimizer for device_type GPU is enabled.\n"
     ]
    },
    {
     "name": "stdout",
     "output_type": "stream",
     "text": [
      "99/99 [==============================] - 134s 1s/step\n"
     ]
    },
    {
     "data": {
      "text/plain": [
       "array([[0.24789011, 0.34687564, 0.26695096, 0.08467186, 0.05361144],\n",
       "       [0.16938521, 0.45823908, 0.19077744, 0.1056999 , 0.07589833],\n",
       "       [0.06293248, 0.2306314 , 0.31407574, 0.26279134, 0.12956905]],\n",
       "      dtype=float32)"
      ]
     },
     "execution_count": 82,
     "metadata": {},
     "output_type": "execute_result"
    }
   ],
   "source": [
    "y_hat_prob3 = model3.predict(X_test)\n",
    "y_hat_prob3[:3]"
   ]
  },
  {
   "cell_type": "code",
   "execution_count": 83,
   "metadata": {},
   "outputs": [],
   "source": [
    "y_hat3 = np.argmax(y_hat_prob3, axis=1)"
   ]
  },
  {
   "cell_type": "code",
   "execution_count": 84,
   "metadata": {},
   "outputs": [
    {
     "name": "stderr",
     "output_type": "stream",
     "text": [
      "2024-09-02 06:54:05.690008: I tensorflow/core/grappler/optimizers/custom_graph_optimizer_registry.cc:114] Plugin optimizer for device_type GPU is enabled.\n"
     ]
    },
    {
     "name": "stdout",
     "output_type": "stream",
     "text": [
      "99/99 [==============================] - 144s 1s/step - loss: 1.3298 - accuracy: 0.3860 - f1_score: 0.3557\n"
     ]
    },
    {
     "data": {
      "text/plain": [
       "0.38603174686431885"
      ]
     },
     "execution_count": 84,
     "metadata": {},
     "output_type": "execute_result"
    }
   ],
   "source": [
    "# Calcular la exactitud (accuracy), podemos ver también el F1 Macro score\n",
    "scores3 = model3.evaluate(X_test, y_test)\n",
    "scores3[1]"
   ]
  },
  {
   "cell_type": "code",
   "execution_count": 85,
   "metadata": {},
   "outputs": [
    {
     "data": {
      "image/png": "[encoded data removed]",
      "text/plain": [
       "<Figure size 640x480 with 2 Axes>"
      ]
     },
     "metadata": {},
     "output_type": "display_data"
    }
   ],
   "source": [
    "cm3 = confusion_matrix(y_test.argmax(axis=1), y_hat3)\n",
    "cmd3 = ConfusionMatrixDisplay(cm3, display_labels=list(range(5)))\n",
    "cmd3.plot(cmap=plt.cm.Blues)\n",
    "plt.show()"
   ]
  },
  {
   "cell_type": "markdown",
   "metadata": {},
   "source": [
    "### Evaluación"
   ]
  },
  {
   "cell_type": "code",
   "execution_count": 86,
   "metadata": {},
   "outputs": [
    {
     "name": "stdout",
     "output_type": "stream",
     "text": [
      "Inputs ids: tf.Tensor(\n",
      "[[  101  1045  2293  2023 10439   999   102     0     0     0     0     0\n",
      "      0     0     0     0     0     0     0     0     0     0     0     0\n",
      "      0     0     0     0     0     0     0     0     0     0     0     0\n",
      "      0     0     0     0     0     0     0     0     0     0     0     0\n",
      "      0     0     0     0     0     0     0     0     0     0     0     0\n",
      "      0     0     0     0     0     0     0     0     0     0     0     0\n",
      "      0     0     0     0     0     0     0     0     0     0     0     0\n",
      "      0     0     0     0     0     0     0     0     0     0     0     0\n",
      "      0     0     0     0     0     0     0     0     0     0     0     0\n",
      "      0     0     0     0     0     0     0     0     0     0     0     0\n",
      "      0     0     0     0     0     0     0     0     0     0     0     0\n",
      "      0     0     0     0     0     0     0     0]], shape=(1, 140), dtype=int32)\n",
      "Attention mask: tf.Tensor(\n",
      "[[1 1 1 1 1 1 1 0 0 0 0 0 0 0 0 0 0 0 0 0 0 0 0 0 0 0 0 0 0 0 0 0 0 0 0 0\n",
      "  0 0 0 0 0 0 0 0 0 0 0 0 0 0 0 0 0 0 0 0 0 0 0 0 0 0 0 0 0 0 0 0 0 0 0 0\n",
      "  0 0 0 0 0 0 0 0 0 0 0 0 0 0 0 0 0 0 0 0 0 0 0 0 0 0 0 0 0 0 0 0 0 0 0 0\n",
      "  0 0 0 0 0 0 0 0 0 0 0 0 0 0 0 0 0 0 0 0 0 0 0 0 0 0 0 0 0 0 0 0]], shape=(1, 140), dtype=int32)\n"
     ]
    },
    {
     "name": "stderr",
     "output_type": "stream",
     "text": [
      "/Users/victordavidsilva/tensorflow-test/env/lib/python3.8/site-packages/transformers/tokenization_utils_base.py:2870: FutureWarning: The `pad_to_max_length` argument is deprecated and will be removed in a future version, use `padding=True` or `padding='longest'` to pad to the longest sequence in the batch, or use `padding='max_length'` to pad to a max length. In this case, you can give a specific length with `max_length` (e.g. `max_length=45`) or leave max_length to None to pad to the maximal input size of the model (e.g. 512 for Bert).\n",
      "  warnings.warn(\n"
     ]
    }
   ],
   "source": [
    "text = \"I love this app!\"\n",
    "\n",
    "#tf_batch = bert_tokenizer(text, max_length=max_length, padding=True, truncation=True, return_tensors='tf')\n",
    "\n",
    "tf_batch = bert_tokenizer3.encode_plus(\n",
    "    text,\n",
    "    add_special_tokens=True,\n",
    "    max_length=max_length, # truncates if len(s) > max_length\n",
    "    return_token_type_ids=False,\n",
    "    return_attention_mask=True,\n",
    "    pad_to_max_length=True, # pads to the right by default # CHECK THIS for pad_to_max_length\n",
    "    truncation=True,\n",
    "    return_tensors='tf'\n",
    ")\n",
    "\n",
    "print(\"Inputs ids:\", tf_batch['input_ids']);\n",
    "print(\"Attention mask:\", tf_batch['attention_mask']);"
   ]
  },
  {
   "cell_type": "code",
   "execution_count": 87,
   "metadata": {},
   "outputs": [],
   "source": [
    "X_ensayo = [tf_batch['input_ids'],  \n",
    "          tf_batch['attention_mask']]"
   ]
  },
  {
   "cell_type": "code",
   "execution_count": 88,
   "metadata": {},
   "outputs": [
    {
     "name": "stdout",
     "output_type": "stream",
     "text": [
      "1/1 [==============================] - 13s 13s/step\n",
      "Clasificación: very positive\n"
     ]
    }
   ],
   "source": [
    "y_prob_ensayo3 = model3.predict(X_ensayo)\n",
    "y_prob3 = np.argmax(y_prob_ensayo3, axis=1)\n",
    "print(\"Clasificación:\", class_names[int(y_prob3)]);"
   ]
  },
  {
   "cell_type": "code",
   "execution_count": 89,
   "metadata": {},
   "outputs": [
    {
     "name": "stdout",
     "output_type": "stream",
     "text": [
      "Inputs ids: tf.Tensor(\n",
      "[[  101  1045  5223  2023 10439   999   102     0     0     0     0     0\n",
      "      0     0     0     0     0     0     0     0     0     0     0     0\n",
      "      0     0     0     0     0     0     0     0     0     0     0     0\n",
      "      0     0     0     0     0     0     0     0     0     0     0     0\n",
      "      0     0     0     0     0     0     0     0     0     0     0     0\n",
      "      0     0     0     0     0     0     0     0     0     0     0     0\n",
      "      0     0     0     0     0     0     0     0     0     0     0     0\n",
      "      0     0     0     0     0     0     0     0     0     0     0     0\n",
      "      0     0     0     0     0     0     0     0     0     0     0     0\n",
      "      0     0     0     0     0     0     0     0     0     0     0     0\n",
      "      0     0     0     0     0     0     0     0     0     0     0     0\n",
      "      0     0     0     0     0     0     0     0]], shape=(1, 140), dtype=int32)\n",
      "Attention mask: tf.Tensor(\n",
      "[[1 1 1 1 1 1 1 0 0 0 0 0 0 0 0 0 0 0 0 0 0 0 0 0 0 0 0 0 0 0 0 0 0 0 0 0\n",
      "  0 0 0 0 0 0 0 0 0 0 0 0 0 0 0 0 0 0 0 0 0 0 0 0 0 0 0 0 0 0 0 0 0 0 0 0\n",
      "  0 0 0 0 0 0 0 0 0 0 0 0 0 0 0 0 0 0 0 0 0 0 0 0 0 0 0 0 0 0 0 0 0 0 0 0\n",
      "  0 0 0 0 0 0 0 0 0 0 0 0 0 0 0 0 0 0 0 0 0 0 0 0 0 0 0 0 0 0 0 0]], shape=(1, 140), dtype=int32)\n"
     ]
    }
   ],
   "source": [
    "text = \"I hate this app!\"\n",
    "\n",
    "#tf_batch = bert_tokenizer(text, max_length=max_length, padding=True, truncation=True, return_tensors='tf')\n",
    "\n",
    "tf_batch = bert_tokenizer3.encode_plus(\n",
    "    text,\n",
    "    add_special_tokens=True,\n",
    "    max_length=max_length, # truncates if len(s) > max_length\n",
    "    return_token_type_ids=False,\n",
    "    return_attention_mask=True,\n",
    "    pad_to_max_length=True, # pads to the right by default # CHECK THIS for pad_to_max_length\n",
    "    truncation=True,\n",
    "    return_tensors='tf'\n",
    ")\n",
    "\n",
    "print(\"Inputs ids:\", tf_batch['input_ids']);\n",
    "print(\"Attention mask:\", tf_batch['attention_mask']);"
   ]
  },
  {
   "cell_type": "code",
   "execution_count": 90,
   "metadata": {},
   "outputs": [],
   "source": [
    "X_ensayo = [tf_batch['input_ids'],  \n",
    "          tf_batch['attention_mask']]"
   ]
  },
  {
   "cell_type": "code",
   "execution_count": 91,
   "metadata": {},
   "outputs": [
    {
     "name": "stdout",
     "output_type": "stream",
     "text": [
      "1/1 [==============================] - 2s 2s/step\n",
      "Clasificación: very negative\n"
     ]
    }
   ],
   "source": [
    "y_prob_ensayo3 = model3.predict(X_ensayo)\n",
    "y_prob3 = np.argmax(y_prob_ensayo3, axis=1)\n",
    "print(\"Clasificación:\", class_names[int(y_prob3)]);"
   ]
  },
  {
   "cell_type": "code",
   "execution_count": 92,
   "metadata": {},
   "outputs": [
    {
     "name": "stdout",
     "output_type": "stream",
     "text": [
      "Inputs ids: tf.Tensor(\n",
      "[[ 101 2009 2573 2004 3517 1010 2021 2009 1521 1055 2498 2569  102    0\n",
      "     0    0    0    0    0    0    0    0    0    0    0    0    0    0\n",
      "     0    0    0    0    0    0    0    0    0    0    0    0    0    0\n",
      "     0    0    0    0    0    0    0    0    0    0    0    0    0    0\n",
      "     0    0    0    0    0    0    0    0    0    0    0    0    0    0\n",
      "     0    0    0    0    0    0    0    0    0    0    0    0    0    0\n",
      "     0    0    0    0    0    0    0    0    0    0    0    0    0    0\n",
      "     0    0    0    0    0    0    0    0    0    0    0    0    0    0\n",
      "     0    0    0    0    0    0    0    0    0    0    0    0    0    0\n",
      "     0    0    0    0    0    0    0    0    0    0    0    0    0    0]], shape=(1, 140), dtype=int32)\n",
      "Attention mask: tf.Tensor(\n",
      "[[1 1 1 1 1 1 1 1 1 1 1 1 1 0 0 0 0 0 0 0 0 0 0 0 0 0 0 0 0 0 0 0 0 0 0 0\n",
      "  0 0 0 0 0 0 0 0 0 0 0 0 0 0 0 0 0 0 0 0 0 0 0 0 0 0 0 0 0 0 0 0 0 0 0 0\n",
      "  0 0 0 0 0 0 0 0 0 0 0 0 0 0 0 0 0 0 0 0 0 0 0 0 0 0 0 0 0 0 0 0 0 0 0 0\n",
      "  0 0 0 0 0 0 0 0 0 0 0 0 0 0 0 0 0 0 0 0 0 0 0 0 0 0 0 0 0 0 0 0]], shape=(1, 140), dtype=int32)\n"
     ]
    }
   ],
   "source": [
    "text = \"It works as expected, but it’s nothing special\"\n",
    "\n",
    "#tf_batch = bert_tokenizer(text, max_length=max_length, padding=True, truncation=True, return_tensors='tf')\n",
    "\n",
    "tf_batch = bert_tokenizer3.encode_plus(\n",
    "    text,\n",
    "    add_special_tokens=True,\n",
    "    max_length=max_length, # truncates if len(s) > max_length\n",
    "    return_token_type_ids=False,\n",
    "    return_attention_mask=True,\n",
    "    pad_to_max_length=True, # pads to the right by default # CHECK THIS for pad_to_max_length\n",
    "    truncation=True,\n",
    "    return_tensors='tf'\n",
    ")\n",
    "\n",
    "print(\"Inputs ids:\", tf_batch['input_ids']);\n",
    "print(\"Attention mask:\", tf_batch['attention_mask']);"
   ]
  },
  {
   "cell_type": "code",
   "execution_count": 93,
   "metadata": {},
   "outputs": [],
   "source": [
    "X_ensayo = [tf_batch['input_ids'],  \n",
    "          tf_batch['attention_mask']]"
   ]
  },
  {
   "cell_type": "code",
   "execution_count": 94,
   "metadata": {},
   "outputs": [
    {
     "name": "stdout",
     "output_type": "stream",
     "text": [
      "1/1 [==============================] - 1s 1s/step\n",
      "Clasificación: negative\n"
     ]
    }
   ],
   "source": [
    "y_prob_ensayo3 = model3.predict(X_ensayo)\n",
    "y_prob3 = np.argmax(y_prob_ensayo3, axis=1)\n",
    "print(\"Clasificación:\", class_names[int(y_prob3)]);"
   ]
  },
  {
   "cell_type": "markdown",
   "metadata": {},
   "source": [
    "En estos 3 casos, se observa que fueron predichos de forma correcta."
   ]
  },
  {
   "cell_type": "markdown",
   "metadata": {
    "id": "IXu1W7-5LkPL"
   },
   "source": [
    "## Conclusiones"
   ]
  },
  {
   "cell_type": "markdown",
   "metadata": {
    "id": "3NuAxjtcPhoa"
   },
   "source": [
    "Se puede apreciar que luego de realizar transfer learning con metodología feature extractor, los modelos dieron resultados satisfactorios al evaluarlos. Estos modelos, sobre todo el 2 y el 3 que se ve la curva de validación con un comportamiento inestable, podrían mejorar sus métricas al cambiar algunos hiperparámetros como el learning rate por un valor más pequeño por ejemplo.\n",
    "\n",
    "A futuro, si se tuviera más poder de cómputo y se usara fine tuning las métricas aumentarían cosiderablemente. \n"
   ]
  }
 ],
 "metadata": {
  "accelerator": "GPU",
  "colab": {
   "provenance": []
  },
  "kernelspec": {
   "display_name": "Python 3 (ipykernel)",
   "language": "python",
   "name": "python3"
  },
  "language_info": {
   "codemirror_mode": {
    "name": "ipython",
    "version": 3
   },
   "file_extension": ".py",
   "mimetype": "text/x-python",
   "name": "python",
   "nbconvert_exporter": "python",
   "pygments_lexer": "ipython3",
   "version": "3.8.16"
  }
 },
 "nbformat": 4,
 "nbformat_minor": 4
}
